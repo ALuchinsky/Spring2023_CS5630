{
 "cells": [
  {
   "cell_type": "markdown",
   "id": "25967fe3",
   "metadata": {
    "tags": []
   },
   "source": [
    "# CS5630, Group 3"
   ]
  },
  {
   "cell_type": "markdown",
   "id": "cd962f39",
   "metadata": {},
   "source": [
    "**Data Preparation**"
   ]
  },
  {
   "cell_type": "code",
   "execution_count": 2,
   "id": "14fdf3ff",
   "metadata": {
    "tags": []
   },
   "outputs": [],
   "source": [
    "import pandas as pd\n",
    "import plotnine as p9\n",
    "from plotnine import ggplot, aes, geom_histogram, geom_bar, theme, element_text, geom_point,\\\n",
    "    scale_x_discrete, scale_fill_manual, labs\n",
    "import seaborn as sns\n",
    "import matplotlib.pyplot as plt\n",
    "import numpy as np"
   ]
  },
  {
   "cell_type": "markdown",
   "id": "ebd76c95",
   "metadata": {
    "tags": []
   },
   "source": [
    "# San Francisco"
   ]
  },
  {
   "cell_type": "markdown",
   "id": "660e624e",
   "metadata": {
    "tags": []
   },
   "source": [
    "## Load the data"
   ]
  },
  {
   "cell_type": "markdown",
   "id": "9634c8df",
   "metadata": {},
   "source": [
    "Up to now I am working with train subset"
   ]
  },
  {
   "cell_type": "code",
   "execution_count": 3,
   "id": "01a45f33-d944-46ce-9334-bb079d8c544a",
   "metadata": {},
   "outputs": [
    {
     "data": {
      "text/html": [
       "<div>\n",
       "<style scoped>\n",
       "    .dataframe tbody tr th:only-of-type {\n",
       "        vertical-align: middle;\n",
       "    }\n",
       "\n",
       "    .dataframe tbody tr th {\n",
       "        vertical-align: top;\n",
       "    }\n",
       "\n",
       "    .dataframe thead th {\n",
       "        text-align: right;\n",
       "    }\n",
       "</style>\n",
       "<table border=\"1\" class=\"dataframe\">\n",
       "  <thead>\n",
       "    <tr style=\"text-align: right;\">\n",
       "      <th></th>\n",
       "      <th>Dates</th>\n",
       "      <th>Category</th>\n",
       "      <th>Descript</th>\n",
       "      <th>DayOfWeek</th>\n",
       "      <th>PdDistrict</th>\n",
       "      <th>Resolution</th>\n",
       "      <th>Address</th>\n",
       "      <th>X</th>\n",
       "      <th>Y</th>\n",
       "    </tr>\n",
       "  </thead>\n",
       "  <tbody>\n",
       "    <tr>\n",
       "      <th>0</th>\n",
       "      <td>2015-05-13 23:53:00</td>\n",
       "      <td>WARRANTS</td>\n",
       "      <td>WARRANT ARREST</td>\n",
       "      <td>Wednesday</td>\n",
       "      <td>NORTHERN</td>\n",
       "      <td>ARREST, BOOKED</td>\n",
       "      <td>OAK ST / LAGUNA ST</td>\n",
       "      <td>-122.425892</td>\n",
       "      <td>37.774599</td>\n",
       "    </tr>\n",
       "    <tr>\n",
       "      <th>1</th>\n",
       "      <td>2015-05-13 23:53:00</td>\n",
       "      <td>OTHER OFFENSES</td>\n",
       "      <td>TRAFFIC VIOLATION ARREST</td>\n",
       "      <td>Wednesday</td>\n",
       "      <td>NORTHERN</td>\n",
       "      <td>ARREST, BOOKED</td>\n",
       "      <td>OAK ST / LAGUNA ST</td>\n",
       "      <td>-122.425892</td>\n",
       "      <td>37.774599</td>\n",
       "    </tr>\n",
       "    <tr>\n",
       "      <th>2</th>\n",
       "      <td>2015-05-13 23:33:00</td>\n",
       "      <td>OTHER OFFENSES</td>\n",
       "      <td>TRAFFIC VIOLATION ARREST</td>\n",
       "      <td>Wednesday</td>\n",
       "      <td>NORTHERN</td>\n",
       "      <td>ARREST, BOOKED</td>\n",
       "      <td>VANNESS AV / GREENWICH ST</td>\n",
       "      <td>-122.424363</td>\n",
       "      <td>37.800414</td>\n",
       "    </tr>\n",
       "    <tr>\n",
       "      <th>3</th>\n",
       "      <td>2015-05-13 23:30:00</td>\n",
       "      <td>LARCENY/THEFT</td>\n",
       "      <td>GRAND THEFT FROM LOCKED AUTO</td>\n",
       "      <td>Wednesday</td>\n",
       "      <td>NORTHERN</td>\n",
       "      <td>NONE</td>\n",
       "      <td>1500 Block of LOMBARD ST</td>\n",
       "      <td>-122.426995</td>\n",
       "      <td>37.800873</td>\n",
       "    </tr>\n",
       "    <tr>\n",
       "      <th>4</th>\n",
       "      <td>2015-05-13 23:30:00</td>\n",
       "      <td>LARCENY/THEFT</td>\n",
       "      <td>GRAND THEFT FROM LOCKED AUTO</td>\n",
       "      <td>Wednesday</td>\n",
       "      <td>PARK</td>\n",
       "      <td>NONE</td>\n",
       "      <td>100 Block of BRODERICK ST</td>\n",
       "      <td>-122.438738</td>\n",
       "      <td>37.771541</td>\n",
       "    </tr>\n",
       "    <tr>\n",
       "      <th>...</th>\n",
       "      <td>...</td>\n",
       "      <td>...</td>\n",
       "      <td>...</td>\n",
       "      <td>...</td>\n",
       "      <td>...</td>\n",
       "      <td>...</td>\n",
       "      <td>...</td>\n",
       "      <td>...</td>\n",
       "      <td>...</td>\n",
       "    </tr>\n",
       "    <tr>\n",
       "      <th>878044</th>\n",
       "      <td>2003-01-06 00:15:00</td>\n",
       "      <td>ROBBERY</td>\n",
       "      <td>ROBBERY ON THE STREET WITH A GUN</td>\n",
       "      <td>Monday</td>\n",
       "      <td>TARAVAL</td>\n",
       "      <td>NONE</td>\n",
       "      <td>FARALLONES ST / CAPITOL AV</td>\n",
       "      <td>-122.459033</td>\n",
       "      <td>37.714056</td>\n",
       "    </tr>\n",
       "    <tr>\n",
       "      <th>878045</th>\n",
       "      <td>2003-01-06 00:01:00</td>\n",
       "      <td>LARCENY/THEFT</td>\n",
       "      <td>GRAND THEFT FROM LOCKED AUTO</td>\n",
       "      <td>Monday</td>\n",
       "      <td>INGLESIDE</td>\n",
       "      <td>NONE</td>\n",
       "      <td>600 Block of EDNA ST</td>\n",
       "      <td>-122.447364</td>\n",
       "      <td>37.731948</td>\n",
       "    </tr>\n",
       "    <tr>\n",
       "      <th>878046</th>\n",
       "      <td>2003-01-06 00:01:00</td>\n",
       "      <td>LARCENY/THEFT</td>\n",
       "      <td>GRAND THEFT FROM LOCKED AUTO</td>\n",
       "      <td>Monday</td>\n",
       "      <td>SOUTHERN</td>\n",
       "      <td>NONE</td>\n",
       "      <td>5TH ST / FOLSOM ST</td>\n",
       "      <td>-122.403390</td>\n",
       "      <td>37.780266</td>\n",
       "    </tr>\n",
       "    <tr>\n",
       "      <th>878047</th>\n",
       "      <td>2003-01-06 00:01:00</td>\n",
       "      <td>VANDALISM</td>\n",
       "      <td>MALICIOUS MISCHIEF, VANDALISM OF VEHICLES</td>\n",
       "      <td>Monday</td>\n",
       "      <td>SOUTHERN</td>\n",
       "      <td>NONE</td>\n",
       "      <td>TOWNSEND ST / 2ND ST</td>\n",
       "      <td>-122.390531</td>\n",
       "      <td>37.780607</td>\n",
       "    </tr>\n",
       "    <tr>\n",
       "      <th>878048</th>\n",
       "      <td>2003-01-06 00:01:00</td>\n",
       "      <td>FORGERY/COUNTERFEITING</td>\n",
       "      <td>CHECKS, FORGERY (FELONY)</td>\n",
       "      <td>Monday</td>\n",
       "      <td>BAYVIEW</td>\n",
       "      <td>NONE</td>\n",
       "      <td>1800 Block of NEWCOMB AV</td>\n",
       "      <td>-122.394926</td>\n",
       "      <td>37.738212</td>\n",
       "    </tr>\n",
       "  </tbody>\n",
       "</table>\n",
       "<p>878049 rows × 9 columns</p>\n",
       "</div>"
      ],
      "text/plain": [
       "                      Dates                Category  \\\n",
       "0       2015-05-13 23:53:00                WARRANTS   \n",
       "1       2015-05-13 23:53:00          OTHER OFFENSES   \n",
       "2       2015-05-13 23:33:00          OTHER OFFENSES   \n",
       "3       2015-05-13 23:30:00           LARCENY/THEFT   \n",
       "4       2015-05-13 23:30:00           LARCENY/THEFT   \n",
       "...                     ...                     ...   \n",
       "878044  2003-01-06 00:15:00                 ROBBERY   \n",
       "878045  2003-01-06 00:01:00           LARCENY/THEFT   \n",
       "878046  2003-01-06 00:01:00           LARCENY/THEFT   \n",
       "878047  2003-01-06 00:01:00               VANDALISM   \n",
       "878048  2003-01-06 00:01:00  FORGERY/COUNTERFEITING   \n",
       "\n",
       "                                         Descript  DayOfWeek PdDistrict  \\\n",
       "0                                  WARRANT ARREST  Wednesday   NORTHERN   \n",
       "1                        TRAFFIC VIOLATION ARREST  Wednesday   NORTHERN   \n",
       "2                        TRAFFIC VIOLATION ARREST  Wednesday   NORTHERN   \n",
       "3                    GRAND THEFT FROM LOCKED AUTO  Wednesday   NORTHERN   \n",
       "4                    GRAND THEFT FROM LOCKED AUTO  Wednesday       PARK   \n",
       "...                                           ...        ...        ...   \n",
       "878044           ROBBERY ON THE STREET WITH A GUN     Monday    TARAVAL   \n",
       "878045               GRAND THEFT FROM LOCKED AUTO     Monday  INGLESIDE   \n",
       "878046               GRAND THEFT FROM LOCKED AUTO     Monday   SOUTHERN   \n",
       "878047  MALICIOUS MISCHIEF, VANDALISM OF VEHICLES     Monday   SOUTHERN   \n",
       "878048                   CHECKS, FORGERY (FELONY)     Monday    BAYVIEW   \n",
       "\n",
       "            Resolution                     Address           X          Y  \n",
       "0       ARREST, BOOKED          OAK ST / LAGUNA ST -122.425892  37.774599  \n",
       "1       ARREST, BOOKED          OAK ST / LAGUNA ST -122.425892  37.774599  \n",
       "2       ARREST, BOOKED   VANNESS AV / GREENWICH ST -122.424363  37.800414  \n",
       "3                 NONE    1500 Block of LOMBARD ST -122.426995  37.800873  \n",
       "4                 NONE   100 Block of BRODERICK ST -122.438738  37.771541  \n",
       "...                ...                         ...         ...        ...  \n",
       "878044            NONE  FARALLONES ST / CAPITOL AV -122.459033  37.714056  \n",
       "878045            NONE        600 Block of EDNA ST -122.447364  37.731948  \n",
       "878046            NONE          5TH ST / FOLSOM ST -122.403390  37.780266  \n",
       "878047            NONE        TOWNSEND ST / 2ND ST -122.390531  37.780607  \n",
       "878048            NONE    1800 Block of NEWCOMB AV -122.394926  37.738212  \n",
       "\n",
       "[878049 rows x 9 columns]"
      ]
     },
     "execution_count": 3,
     "metadata": {},
     "output_type": "execute_result"
    }
   ],
   "source": [
    "train = pd.read_csv(\"../data/external/sf-crime/train.csv\")\n",
    "train"
   ]
  },
  {
   "cell_type": "code",
   "execution_count": 4,
   "id": "0424bedb-4eb4-479e-b2b3-8d94bf28cad8",
   "metadata": {},
   "outputs": [
    {
     "data": {
      "text/plain": [
       "Index(['Dates', 'Category', 'Descript', 'DayOfWeek', 'PdDistrict',\n",
       "       'Resolution', 'Address', 'X', 'Y'],\n",
       "      dtype='object')"
      ]
     },
     "execution_count": 4,
     "metadata": {},
     "output_type": "execute_result"
    }
   ],
   "source": [
    "train.columns"
   ]
  },
  {
   "cell_type": "code",
   "execution_count": 5,
   "id": "6a40dd0c-e74a-411a-8f05-5b4422ac5c13",
   "metadata": {},
   "outputs": [
    {
     "data": {
      "text/plain": [
       "Dates          object\n",
       "Category       object\n",
       "Descript       object\n",
       "DayOfWeek      object\n",
       "PdDistrict     object\n",
       "Resolution     object\n",
       "Address        object\n",
       "X             float64\n",
       "Y             float64\n",
       "dtype: object"
      ]
     },
     "execution_count": 5,
     "metadata": {},
     "output_type": "execute_result"
    }
   ],
   "source": [
    "train.dtypes"
   ]
  },
  {
   "cell_type": "markdown",
   "id": "22797432",
   "metadata": {},
   "source": [
    "## Selecting Fields"
   ]
  },
  {
   "cell_type": "markdown",
   "id": "71ed5e8e",
   "metadata": {},
   "source": [
    "**Description** and **Resolution** columns are not required for us, dropping"
   ]
  },
  {
   "cell_type": "code",
   "execution_count": 158,
   "id": "4eefbb8a",
   "metadata": {},
   "outputs": [
    {
     "data": {
      "text/plain": [
       "Index(['Dates', 'Category', 'DayOfWeek', 'PdDistrict', 'Address', 'X', 'Y'], dtype='object')"
      ]
     },
     "execution_count": 158,
     "metadata": {},
     "output_type": "execute_result"
    }
   ],
   "source": [
    "train.drop(columns=[\"Descript\", \"Resolution\"], inplace=True)\n",
    "train.columns"
   ]
  },
  {
   "cell_type": "markdown",
   "id": "c6f221a5",
   "metadata": {},
   "source": [
    "Extracting different date fileds from **Dates** column"
   ]
  },
  {
   "cell_type": "markdown",
   "id": "04a584fb",
   "metadata": {},
   "source": [
    "### Date"
   ]
  },
  {
   "cell_type": "code",
   "execution_count": 159,
   "id": "8322e4f7",
   "metadata": {},
   "outputs": [],
   "source": [
    "train[\"Dates\"] = pd.to_datetime(train[\"Dates\"])\n",
    "train[\"year\"] = train.Dates.dt.year\n",
    "train[\"month\"] = train.Dates.dt.month\n",
    "train[\"day\"] = train.Dates.dt.day\n",
    "train[\"hour\"] = train.Dates.dt.hour\n",
    "train[\"DayOfWeek\"] = train[\"Dates\"].dt.dayofweek"
   ]
  },
  {
   "cell_type": "markdown",
   "id": "27d5035a",
   "metadata": {
    "tags": []
   },
   "source": [
    "### Address and Streets"
   ]
  },
  {
   "cell_type": "markdown",
   "id": "4dd0efeb",
   "metadata": {},
   "source": [
    "Adress field usualy shows the intersection of two streets:"
   ]
  },
  {
   "cell_type": "code",
   "execution_count": 160,
   "id": "94a120d1",
   "metadata": {},
   "outputs": [
    {
     "data": {
      "text/plain": [
       "0                 OAK ST / LAGUNA ST\n",
       "1                 OAK ST / LAGUNA ST\n",
       "2          VANNESS AV / GREENWICH ST\n",
       "3           1500 Block of LOMBARD ST\n",
       "4          100 Block of BRODERICK ST\n",
       "                     ...            \n",
       "878044    FARALLONES ST / CAPITOL AV\n",
       "878045          600 Block of EDNA ST\n",
       "878046            5TH ST / FOLSOM ST\n",
       "878047          TOWNSEND ST / 2ND ST\n",
       "878048      1800 Block of NEWCOMB AV\n",
       "Name: Address, Length: 878049, dtype: object"
      ]
     },
     "execution_count": 160,
     "metadata": {},
     "output_type": "execute_result"
    }
   ],
   "source": [
    "train[\"Address\"]"
   ]
  },
  {
   "cell_type": "markdown",
   "id": "d0f03832",
   "metadata": {},
   "source": [
    "It make sense to extract these streets and treat them sperately:"
   ]
  },
  {
   "cell_type": "code",
   "execution_count": 161,
   "id": "a0754bcd",
   "metadata": {},
   "outputs": [],
   "source": [
    "train[\"street1\"] = train[\"Address\"].str.split(\"/\").str.get(0).str.strip()\n",
    "train[\"street2\"] = train[\"Address\"].str.split(\"/\").str.get(1).str.strip()"
   ]
  },
  {
   "cell_type": "markdown",
   "id": "76c0e174",
   "metadata": {},
   "source": [
    "Trying to extract most 200 most crimincal streets"
   ]
  },
  {
   "cell_type": "code",
   "execution_count": 162,
   "id": "145569a8",
   "metadata": {},
   "outputs": [],
   "source": [
    "str1_counts = train[\"street1\"].value_counts().head(200)\n",
    "train[\"str1\"] = train.apply(lambda r: \n",
    "                                     r[\"street1\"] if r[\"street1\"] in str1_counts.index else \"other\", axis=1)\n",
    "\n",
    "str2_counts = train[\"street2\"].value_counts().head(200)\n",
    "train[\"str2\"] = train.apply(lambda r: \n",
    "                                     r[\"street2\"] if r[\"street2\"] in str2_counts.index else \"other\", axis=1)"
   ]
  },
  {
   "cell_type": "markdown",
   "id": "42fc7c67",
   "metadata": {},
   "source": [
    "Here are cummulative plots "
   ]
  },
  {
   "cell_type": "code",
   "execution_count": 163,
   "id": "9e248290",
   "metadata": {},
   "outputs": [
    {
     "data": {
      "text/plain": [
       "<matplotlib.legend.Legend at 0x12d22bef0>"
      ]
     },
     "execution_count": 163,
     "metadata": {},
     "output_type": "execute_result"
    },
    {
     "data": {
      "image/png": "[encoded data removed]",
      "text/plain": [
       "<Figure size 432x288 with 1 Axes>"
      ]
     },
     "metadata": {
      "needs_background": "light"
     },
     "output_type": "display_data"
    }
   ],
   "source": [
    "plt.plot(np.cumsum(train[\"str1\"].value_counts().to_numpy()), label = \"str1\")\n",
    "plt.plot(np.cumsum(train[\"str2\"].value_counts().to_numpy()), label = \"str2\")\n",
    "plt.ylim(0, train.shape[0])\n",
    "plt.legend()"
   ]
  },
  {
   "cell_type": "markdown",
   "id": "07fab576",
   "metadata": {},
   "source": [
    "### Dropping strange coordinates"
   ]
  },
  {
   "cell_type": "code",
   "execution_count": 164,
   "id": "cc82ff54",
   "metadata": {},
   "outputs": [
    {
     "data": {
      "image/png": "[encoded data removed]",
      "text/plain": [
       "<Figure size 720x360 with 2 Axes>"
      ]
     },
     "metadata": {
      "needs_background": "light"
     },
     "output_type": "display_data"
    }
   ],
   "source": [
    "fig, axes = plt.subplots(nrows=1, ncols=2, figsize = (10, 5))\n",
    "train[\"X\"].hist(bins = 100, xrot = 90, ax=axes[0])\n",
    "axes[0].set_title(\"X\")\n",
    "train[\"Y\"].hist(bins = 100, xrot = 90, ax=axes[1])\n",
    "axes[1].set_title(\"Y\")\n",
    "plt.tight_layout()"
   ]
  },
  {
   "cell_type": "markdown",
   "id": "70cf4666",
   "metadata": {},
   "source": [
    "As you can see, the main part of the points have X<122.25, Y<40"
   ]
  },
  {
   "cell_type": "markdown",
   "id": "8f972d77",
   "metadata": {},
   "source": [
    "There are, however, 67 points with strange coordinates"
   ]
  },
  {
   "cell_type": "code",
   "execution_count": 165,
   "id": "ad7bbab6",
   "metadata": {},
   "outputs": [
    {
     "data": {
      "text/html": [
       "<div>\n",
       "<style scoped>\n",
       "    .dataframe tbody tr th:only-of-type {\n",
       "        vertical-align: middle;\n",
       "    }\n",
       "\n",
       "    .dataframe tbody tr th {\n",
       "        vertical-align: top;\n",
       "    }\n",
       "\n",
       "    .dataframe thead th {\n",
       "        text-align: right;\n",
       "    }\n",
       "</style>\n",
       "<table border=\"1\" class=\"dataframe\">\n",
       "  <thead>\n",
       "    <tr style=\"text-align: right;\">\n",
       "      <th></th>\n",
       "      <th>Dates</th>\n",
       "      <th>Category</th>\n",
       "      <th>DayOfWeek</th>\n",
       "      <th>PdDistrict</th>\n",
       "      <th>Address</th>\n",
       "      <th>X</th>\n",
       "      <th>Y</th>\n",
       "      <th>year</th>\n",
       "      <th>month</th>\n",
       "      <th>day</th>\n",
       "      <th>hour</th>\n",
       "      <th>street1</th>\n",
       "      <th>street2</th>\n",
       "      <th>str1</th>\n",
       "      <th>str2</th>\n",
       "    </tr>\n",
       "  </thead>\n",
       "  <tbody>\n",
       "    <tr>\n",
       "      <th>660485</th>\n",
       "      <td>2005-12-30 17:00:00</td>\n",
       "      <td>LARCENY/THEFT</td>\n",
       "      <td>4</td>\n",
       "      <td>TENDERLOIN</td>\n",
       "      <td>5THSTNORTH ST / OFARRELL ST</td>\n",
       "      <td>-120.5</td>\n",
       "      <td>90.0</td>\n",
       "      <td>2005</td>\n",
       "      <td>12</td>\n",
       "      <td>30</td>\n",
       "      <td>17</td>\n",
       "      <td>5THSTNORTH ST</td>\n",
       "      <td>OFARRELL ST</td>\n",
       "      <td>other</td>\n",
       "      <td>OFARRELL ST</td>\n",
       "    </tr>\n",
       "    <tr>\n",
       "      <th>660711</th>\n",
       "      <td>2005-12-30 00:34:00</td>\n",
       "      <td>ASSAULT</td>\n",
       "      <td>4</td>\n",
       "      <td>BAYVIEW</td>\n",
       "      <td>JAMESLICKFREEWAY HY / SILVER AV</td>\n",
       "      <td>-120.5</td>\n",
       "      <td>90.0</td>\n",
       "      <td>2005</td>\n",
       "      <td>12</td>\n",
       "      <td>30</td>\n",
       "      <td>0</td>\n",
       "      <td>JAMESLICKFREEWAY HY</td>\n",
       "      <td>SILVER AV</td>\n",
       "      <td>other</td>\n",
       "      <td>SILVER AV</td>\n",
       "    </tr>\n",
       "    <tr>\n",
       "      <th>660712</th>\n",
       "      <td>2005-12-30 00:34:00</td>\n",
       "      <td>ASSAULT</td>\n",
       "      <td>4</td>\n",
       "      <td>BAYVIEW</td>\n",
       "      <td>JAMESLICKFREEWAY HY / SILVER AV</td>\n",
       "      <td>-120.5</td>\n",
       "      <td>90.0</td>\n",
       "      <td>2005</td>\n",
       "      <td>12</td>\n",
       "      <td>30</td>\n",
       "      <td>0</td>\n",
       "      <td>JAMESLICKFREEWAY HY</td>\n",
       "      <td>SILVER AV</td>\n",
       "      <td>other</td>\n",
       "      <td>SILVER AV</td>\n",
       "    </tr>\n",
       "    <tr>\n",
       "      <th>661106</th>\n",
       "      <td>2005-12-29 00:07:00</td>\n",
       "      <td>NON-CRIMINAL</td>\n",
       "      <td>3</td>\n",
       "      <td>TENDERLOIN</td>\n",
       "      <td>5THSTNORTH ST / EDDY ST</td>\n",
       "      <td>-120.5</td>\n",
       "      <td>90.0</td>\n",
       "      <td>2005</td>\n",
       "      <td>12</td>\n",
       "      <td>29</td>\n",
       "      <td>0</td>\n",
       "      <td>5THSTNORTH ST</td>\n",
       "      <td>EDDY ST</td>\n",
       "      <td>other</td>\n",
       "      <td>EDDY ST</td>\n",
       "    </tr>\n",
       "    <tr>\n",
       "      <th>666430</th>\n",
       "      <td>2005-11-30 11:25:00</td>\n",
       "      <td>OTHER OFFENSES</td>\n",
       "      <td>2</td>\n",
       "      <td>TENDERLOIN</td>\n",
       "      <td>5THSTNORTH ST / ELLIS ST</td>\n",
       "      <td>-120.5</td>\n",
       "      <td>90.0</td>\n",
       "      <td>2005</td>\n",
       "      <td>11</td>\n",
       "      <td>30</td>\n",
       "      <td>11</td>\n",
       "      <td>5THSTNORTH ST</td>\n",
       "      <td>ELLIS ST</td>\n",
       "      <td>other</td>\n",
       "      <td>ELLIS ST</td>\n",
       "    </tr>\n",
       "    <tr>\n",
       "      <th>...</th>\n",
       "      <td>...</td>\n",
       "      <td>...</td>\n",
       "      <td>...</td>\n",
       "      <td>...</td>\n",
       "      <td>...</td>\n",
       "      <td>...</td>\n",
       "      <td>...</td>\n",
       "      <td>...</td>\n",
       "      <td>...</td>\n",
       "      <td>...</td>\n",
       "      <td>...</td>\n",
       "      <td>...</td>\n",
       "      <td>...</td>\n",
       "      <td>...</td>\n",
       "      <td>...</td>\n",
       "    </tr>\n",
       "    <tr>\n",
       "      <th>844995</th>\n",
       "      <td>2003-06-11 08:49:00</td>\n",
       "      <td>OTHER OFFENSES</td>\n",
       "      <td>2</td>\n",
       "      <td>INGLESIDE</td>\n",
       "      <td>JAMES LICK FREEWAY HY / CESAR CHAVEZ ST</td>\n",
       "      <td>-120.5</td>\n",
       "      <td>90.0</td>\n",
       "      <td>2003</td>\n",
       "      <td>6</td>\n",
       "      <td>11</td>\n",
       "      <td>8</td>\n",
       "      <td>JAMES LICK FREEWAY HY</td>\n",
       "      <td>CESAR CHAVEZ ST</td>\n",
       "      <td>other</td>\n",
       "      <td>CESAR CHAVEZ ST</td>\n",
       "    </tr>\n",
       "    <tr>\n",
       "      <th>845842</th>\n",
       "      <td>2003-06-09 09:25:00</td>\n",
       "      <td>OTHER OFFENSES</td>\n",
       "      <td>0</td>\n",
       "      <td>INGLESIDE</td>\n",
       "      <td>JAMES LICK FREEWAY HY / CESAR CHAVEZ ST</td>\n",
       "      <td>-120.5</td>\n",
       "      <td>90.0</td>\n",
       "      <td>2003</td>\n",
       "      <td>6</td>\n",
       "      <td>9</td>\n",
       "      <td>9</td>\n",
       "      <td>JAMES LICK FREEWAY HY</td>\n",
       "      <td>CESAR CHAVEZ ST</td>\n",
       "      <td>other</td>\n",
       "      <td>CESAR CHAVEZ ST</td>\n",
       "    </tr>\n",
       "    <tr>\n",
       "      <th>852880</th>\n",
       "      <td>2003-05-02 01:00:00</td>\n",
       "      <td>SEX OFFENSES FORCIBLE</td>\n",
       "      <td>4</td>\n",
       "      <td>SOUTHERN</td>\n",
       "      <td>3RD ST / JAMES LICK FREEWAY HY</td>\n",
       "      <td>-120.5</td>\n",
       "      <td>90.0</td>\n",
       "      <td>2003</td>\n",
       "      <td>5</td>\n",
       "      <td>2</td>\n",
       "      <td>1</td>\n",
       "      <td>3RD ST</td>\n",
       "      <td>JAMES LICK FREEWAY HY</td>\n",
       "      <td>3RD ST</td>\n",
       "      <td>other</td>\n",
       "    </tr>\n",
       "    <tr>\n",
       "      <th>857248</th>\n",
       "      <td>2003-04-14 16:30:00</td>\n",
       "      <td>ROBBERY</td>\n",
       "      <td>0</td>\n",
       "      <td>BAYVIEW</td>\n",
       "      <td>GILMAN AV / FITCH ST</td>\n",
       "      <td>-120.5</td>\n",
       "      <td>90.0</td>\n",
       "      <td>2003</td>\n",
       "      <td>4</td>\n",
       "      <td>14</td>\n",
       "      <td>16</td>\n",
       "      <td>GILMAN AV</td>\n",
       "      <td>FITCH ST</td>\n",
       "      <td>other</td>\n",
       "      <td>other</td>\n",
       "    </tr>\n",
       "    <tr>\n",
       "      <th>871198</th>\n",
       "      <td>2003-02-05 12:00:00</td>\n",
       "      <td>LARCENY/THEFT</td>\n",
       "      <td>2</td>\n",
       "      <td>SOUTHERN</td>\n",
       "      <td>SPEAR ST / THE EMBARCADERO SOUTH ST</td>\n",
       "      <td>-120.5</td>\n",
       "      <td>90.0</td>\n",
       "      <td>2003</td>\n",
       "      <td>2</td>\n",
       "      <td>5</td>\n",
       "      <td>12</td>\n",
       "      <td>SPEAR ST</td>\n",
       "      <td>THE EMBARCADERO SOUTH ST</td>\n",
       "      <td>other</td>\n",
       "      <td>other</td>\n",
       "    </tr>\n",
       "  </tbody>\n",
       "</table>\n",
       "<p>67 rows × 15 columns</p>\n",
       "</div>"
      ],
      "text/plain": [
       "                     Dates               Category  DayOfWeek  PdDistrict  \\\n",
       "660485 2005-12-30 17:00:00          LARCENY/THEFT          4  TENDERLOIN   \n",
       "660711 2005-12-30 00:34:00                ASSAULT          4     BAYVIEW   \n",
       "660712 2005-12-30 00:34:00                ASSAULT          4     BAYVIEW   \n",
       "661106 2005-12-29 00:07:00           NON-CRIMINAL          3  TENDERLOIN   \n",
       "666430 2005-11-30 11:25:00         OTHER OFFENSES          2  TENDERLOIN   \n",
       "...                    ...                    ...        ...         ...   \n",
       "844995 2003-06-11 08:49:00         OTHER OFFENSES          2   INGLESIDE   \n",
       "845842 2003-06-09 09:25:00         OTHER OFFENSES          0   INGLESIDE   \n",
       "852880 2003-05-02 01:00:00  SEX OFFENSES FORCIBLE          4    SOUTHERN   \n",
       "857248 2003-04-14 16:30:00                ROBBERY          0     BAYVIEW   \n",
       "871198 2003-02-05 12:00:00          LARCENY/THEFT          2    SOUTHERN   \n",
       "\n",
       "                                        Address      X     Y  year  month  \\\n",
       "660485              5THSTNORTH ST / OFARRELL ST -120.5  90.0  2005     12   \n",
       "660711          JAMESLICKFREEWAY HY / SILVER AV -120.5  90.0  2005     12   \n",
       "660712          JAMESLICKFREEWAY HY / SILVER AV -120.5  90.0  2005     12   \n",
       "661106                  5THSTNORTH ST / EDDY ST -120.5  90.0  2005     12   \n",
       "666430                 5THSTNORTH ST / ELLIS ST -120.5  90.0  2005     11   \n",
       "...                                         ...    ...   ...   ...    ...   \n",
       "844995  JAMES LICK FREEWAY HY / CESAR CHAVEZ ST -120.5  90.0  2003      6   \n",
       "845842  JAMES LICK FREEWAY HY / CESAR CHAVEZ ST -120.5  90.0  2003      6   \n",
       "852880           3RD ST / JAMES LICK FREEWAY HY -120.5  90.0  2003      5   \n",
       "857248                     GILMAN AV / FITCH ST -120.5  90.0  2003      4   \n",
       "871198      SPEAR ST / THE EMBARCADERO SOUTH ST -120.5  90.0  2003      2   \n",
       "\n",
       "        day  hour                street1                   street2    str1  \\\n",
       "660485   30    17          5THSTNORTH ST               OFARRELL ST   other   \n",
       "660711   30     0    JAMESLICKFREEWAY HY                 SILVER AV   other   \n",
       "660712   30     0    JAMESLICKFREEWAY HY                 SILVER AV   other   \n",
       "661106   29     0          5THSTNORTH ST                   EDDY ST   other   \n",
       "666430   30    11          5THSTNORTH ST                  ELLIS ST   other   \n",
       "...     ...   ...                    ...                       ...     ...   \n",
       "844995   11     8  JAMES LICK FREEWAY HY           CESAR CHAVEZ ST   other   \n",
       "845842    9     9  JAMES LICK FREEWAY HY           CESAR CHAVEZ ST   other   \n",
       "852880    2     1                 3RD ST     JAMES LICK FREEWAY HY  3RD ST   \n",
       "857248   14    16              GILMAN AV                  FITCH ST   other   \n",
       "871198    5    12               SPEAR ST  THE EMBARCADERO SOUTH ST   other   \n",
       "\n",
       "                   str2  \n",
       "660485      OFARRELL ST  \n",
       "660711        SILVER AV  \n",
       "660712        SILVER AV  \n",
       "661106          EDDY ST  \n",
       "666430         ELLIS ST  \n",
       "...                 ...  \n",
       "844995  CESAR CHAVEZ ST  \n",
       "845842  CESAR CHAVEZ ST  \n",
       "852880            other  \n",
       "857248            other  \n",
       "871198            other  \n",
       "\n",
       "[67 rows x 15 columns]"
      ]
     },
     "execution_count": 165,
     "metadata": {},
     "output_type": "execute_result"
    }
   ],
   "source": [
    "train.query(\"X>-122.25\")"
   ]
  },
  {
   "cell_type": "markdown",
   "id": "d76ed094",
   "metadata": {},
   "source": [
    "Number of such points is small, so we can safely drop them"
   ]
  },
  {
   "cell_type": "code",
   "execution_count": 166,
   "id": "9005986b",
   "metadata": {},
   "outputs": [],
   "source": [
    "train = train.query(\"X<-122\")"
   ]
  },
  {
   "cell_type": "markdown",
   "id": "d530853f",
   "metadata": {
    "tags": []
   },
   "source": [
    "### Crime categories"
   ]
  },
  {
   "cell_type": "code",
   "execution_count": 8,
   "id": "6c5c442c",
   "metadata": {},
   "outputs": [
    {
     "data": {
      "text/plain": [
       "LARCENY/THEFT                  174900\n",
       "OTHER OFFENSES                 126182\n",
       "NON-CRIMINAL                    92304\n",
       "ASSAULT                         76876\n",
       "DRUG/NARCOTIC                   53971\n",
       "VEHICLE THEFT                   53781\n",
       "VANDALISM                       44725\n",
       "WARRANTS                        42214\n",
       "BURGLARY                        36755\n",
       "SUSPICIOUS OCC                  31414\n",
       "MISSING PERSON                  25989\n",
       "ROBBERY                         23000\n",
       "FRAUD                           16679\n",
       "FORGERY/COUNTERFEITING          10609\n",
       "SECONDARY CODES                  9985\n",
       "WEAPON LAWS                      8555\n",
       "PROSTITUTION                     7484\n",
       "TRESPASS                         7326\n",
       "STOLEN PROPERTY                  4540\n",
       "SEX OFFENSES FORCIBLE            4388\n",
       "DISORDERLY CONDUCT               4320\n",
       "DRUNKENNESS                      4280\n",
       "RECOVERED VEHICLE                3138\n",
       "KIDNAPPING                       2341\n",
       "DRIVING UNDER THE INFLUENCE      2268\n",
       "RUNAWAY                          1946\n",
       "LIQUOR LAWS                      1903\n",
       "ARSON                            1513\n",
       "LOITERING                        1225\n",
       "EMBEZZLEMENT                     1166\n",
       "SUICIDE                           508\n",
       "FAMILY OFFENSES                   491\n",
       "BAD CHECKS                        406\n",
       "BRIBERY                           289\n",
       "EXTORTION                         256\n",
       "SEX OFFENSES NON FORCIBLE         148\n",
       "GAMBLING                          146\n",
       "PORNOGRAPHY/OBSCENE MAT            22\n",
       "TREA                                6\n",
       "Name: Category, dtype: int64"
      ]
     },
     "execution_count": 8,
     "metadata": {},
     "output_type": "execute_result"
    }
   ],
   "source": [
    "categories = train[\"Category\"].drop_duplicates()\n",
    "cat_sums = train[\"Category\"].value_counts()\n",
    "cat_sums"
   ]
  },
  {
   "cell_type": "code",
   "execution_count": 168,
   "id": "a66661ff",
   "metadata": {},
   "outputs": [
    {
     "name": "stdout",
     "output_type": "stream",
     "text": [
      "['larceny', 'other offenses', 'non-criminal', 'assault', 'drug', 'vehicle theft', 'vandalism', 'warrants', 'burglary', 'suspicious occ', 'missing person', 'robbery', 'fraud', 'forgery', 'secondary codes', 'weapon laws', 'prostitution', 'trespass', 'stolen property', 'sex offenses forcible', 'disorderly conduct', 'drunkenness', 'recovered vehicle', 'kidnapping', 'driving under the influence', 'runaway', 'liquor laws', 'arson', 'loitering', 'embezzlement', 'suicide', 'family offenses', 'bad checks', 'bribery', 'extortion', 'sex offenses non forcible', 'gambling', 'pornography', 'trea']\n"
     ]
    }
   ],
   "source": [
    "print([f.split(\"/\")[0].lower() for f in cat_sums.index])"
   ]
  },
  {
   "cell_type": "markdown",
   "id": "5c863118",
   "metadata": {},
   "source": [
    "Good idea is not to describe all the catrgories, but to split them into violent/nonviolent"
   ]
  },
  {
   "cell_type": "markdown",
   "id": "4da15534",
   "metadata": {},
   "source": [
    "I have asked chatGPT, but the answer was not satisfactory (see below)"
   ]
  },
  {
   "cell_type": "markdown",
   "id": "d4a7468c",
   "metadata": {},
   "source": [
    "#### Sums from Confusion Matrices"
   ]
  },
  {
   "cell_type": "markdown",
   "id": "79e54c19",
   "metadata": {},
   "source": [
    "Explicit list of the violent categories is not shown in paper, so I will guess it from numbers, extracted from the confusion matrices (tables 3, 4, 6, 7, 9, 10)"
   ]
  },
  {
   "cell_type": "code",
   "execution_count": 6,
   "id": "6b570222",
   "metadata": {},
   "outputs": [],
   "source": [
    "table3 = np.array([[226209, 118873], [121250, 236107]]) # NB, train\n",
    "table4 = np.array([[55282, 31117], [31518, 57693]])     # NB, test\n",
    "table_NB = table3 + table4\n",
    "\n",
    "table6 = np.array([[280840, 68390], [66192, 287017]])   # RF, train\n",
    "table7 = np.array([[254779, 31766], [32448, 56617]])    # RF, test\n",
    "table_RF = table6 + table7\n",
    "\n",
    "table9 = np.array([[347260, 3885], [0, 351294]])        # GBDT, train\n",
    "table10 = np.array([[86569, 0], [430, 88611]])          # GBDT, test\n",
    "table_GBDT = table9 + table10"
   ]
  },
  {
   "cell_type": "code",
   "execution_count": 7,
   "id": "14a6180a-2794-47c1-af23-e1dda402b366",
   "metadata": {},
   "outputs": [
    {
     "data": {
      "text/plain": [
       "array([[226209, 118873],\n",
       "       [121250, 236107]])"
      ]
     },
     "execution_count": 7,
     "metadata": {},
     "output_type": "execute_result"
    }
   ],
   "source": [
    "table3"
   ]
  },
  {
   "cell_type": "code",
   "execution_count": 8,
   "id": "c096a0d4-3612-4fcd-b96d-847ded7d5227",
   "metadata": {},
   "outputs": [],
   "source": [
    "def accs_from_cm(cm):\n",
    "    [[tp, fn], [fp, tn]] = cm\n",
    "    print(\"accuracy={:.3}\".format((tp+tn)/(tp+fp+tn+fn)))\n",
    "    print(\"sensitivity={:.3}\".format((tp)/(tp+fn)))\n",
    "    print(\"specificity={:.3}\".format((tn)/(tn+fp)))    "
   ]
  },
  {
   "cell_type": "code",
   "execution_count": 10,
   "id": "c032b969-ea14-458a-b328-5ee52438ed17",
   "metadata": {},
   "outputs": [
    {
     "name": "stdout",
     "output_type": "stream",
     "text": [
      "accuracy=0.643\n",
      "sensitivity=0.64\n",
      "specificity=0.647\n"
     ]
    }
   ],
   "source": [
    "accs_from_cm(table4)"
   ]
  },
  {
   "cell_type": "code",
   "execution_count": 14,
   "id": "bc99d340-69ea-4ec6-a41b-e81862017980",
   "metadata": {},
   "outputs": [
    {
     "name": "stdout",
     "output_type": "stream",
     "text": [
      "accuracy=0.658\n",
      "sensitivity=0.656\n",
      "specificity=0.661\n"
     ]
    }
   ],
   "source": [
    "[[tp, fn], [fp, tn]] = table3\n",
    "print(\"accuracy={:.3}\".format((tp+tn)/(tp+fp+tn+fn)))\n",
    "print(\"sensitivity={:.3}\".format((tp)/(tp+fn)))\n",
    "print(\"specificity={:.3}\".format((tn)/(tn+fp)))\n",
    "print(\"kappa={:.3}\".format((tn)/(tn+fp)))\n"
   ]
  },
  {
   "cell_type": "markdown",
   "id": "74ab88eb",
   "metadata": {},
   "source": [
    "Total sum of all elements in the **train** confusion matrices are the same"
   ]
  },
  {
   "cell_type": "code",
   "execution_count": 189,
   "id": "af946a08",
   "metadata": {},
   "outputs": [
    {
     "data": {
      "text/plain": [
       "[702439, 702439, 702439]"
      ]
     },
     "execution_count": 189,
     "metadata": {},
     "output_type": "execute_result"
    }
   ],
   "source": [
    "[sum(sum(t)) for t in [table3, table6, table9]]"
   ]
  },
  {
   "cell_type": "markdown",
   "id": "cc291e39",
   "metadata": {},
   "source": [
    "This is not true for **test** confusion matrices"
   ]
  },
  {
   "cell_type": "code",
   "execution_count": 190,
   "id": "1bd48bfe",
   "metadata": {},
   "outputs": [
    {
     "data": {
      "text/plain": [
       "[175610, 375610, 175610]"
      ]
     },
     "execution_count": 190,
     "metadata": {},
     "output_type": "execute_result"
    }
   ],
   "source": [
    "[sum(sum(t)) for t in [table4, table7, table10]]"
   ]
  },
  {
   "cell_type": "markdown",
   "id": "f4772338",
   "metadata": {},
   "source": [
    "Total sum of all elements in both **train** and **test** (which should be total number of elements in the data set) is"
   ]
  },
  {
   "cell_type": "code",
   "execution_count": 191,
   "id": "839f3b89",
   "metadata": {},
   "outputs": [
    {
     "data": {
      "text/plain": [
       "[878049, 1078049, 878049]"
      ]
     },
     "execution_count": 191,
     "metadata": {},
     "output_type": "execute_result"
    }
   ],
   "source": [
    "[sum(sum(t)) for t in [table_NB, table_RF, table_GBDT]]"
   ]
  },
  {
   "cell_type": "markdown",
   "id": "4dba50a6",
   "metadata": {},
   "source": [
    "This should be compared with actual number"
   ]
  },
  {
   "cell_type": "code",
   "execution_count": 192,
   "id": "f512a05e",
   "metadata": {},
   "outputs": [
    {
     "data": {
      "text/plain": [
       "877982"
      ]
     },
     "execution_count": 192,
     "metadata": {},
     "output_type": "execute_result"
    }
   ],
   "source": [
    "train.shape[0]"
   ]
  },
  {
   "cell_type": "markdown",
   "id": "8449e1d7",
   "metadata": {},
   "source": [
    "As you can see, everything is great for NB and GBDT confusion matrices, but there is some problem with RF"
   ]
  },
  {
   "cell_type": "markdown",
   "id": "0947fcef",
   "metadata": {},
   "source": [
    "Let us check the columns sums (should be the same for all matrices and give actual number of non-violent and violent crimes)"
   ]
  },
  {
   "cell_type": "code",
   "execution_count": 193,
   "id": "f9f6a4de",
   "metadata": {},
   "outputs": [
    {
     "name": "stdout",
     "output_type": "stream",
     "text": [
      "NB:   [434259 443790]\n",
      "RF:   [634259 443790]\n",
      "GDBT: [434259 443790]\n"
     ]
    }
   ],
   "source": [
    "print(\"NB:  \", sum(table_NB))\n",
    "print(\"RF:  \", sum(table_RF))\n",
    "print(\"GDBT:\", sum(table_GBDT))"
   ]
  },
  {
   "cell_type": "code",
   "execution_count": 195,
   "id": "486bfb4b",
   "metadata": {},
   "outputs": [
    {
     "data": {
      "text/plain": [
       "array([345082, 357357])"
      ]
     },
     "execution_count": 195,
     "metadata": {},
     "output_type": "execute_result"
    }
   ],
   "source": [
    "sum(np.transpose(table3))"
   ]
  },
  {
   "cell_type": "markdown",
   "id": "afa8f1fd",
   "metadata": {},
   "source": [
    "I will assume that total number non-violent and violent crimes are 434259 and 443790 respectively"
   ]
  },
  {
   "cell_type": "markdown",
   "id": "e71aa79c",
   "metadata": {},
   "source": [
    "#### Guessing violent/non-violent"
   ]
  },
  {
   "cell_type": "markdown",
   "id": "a1b5fe0c",
   "metadata": {},
   "source": [
    "According to chatGPT answer, the following categories can be considered as violent\n",
    "\n",
    "*    Assault\n",
    "*    Robbery\n",
    "*    Sex offenses (forcible)\n",
    "*    Kidnapping\n",
    "*    Weapon laws (depending on the specific offense, as some may involve the use or threat of violence)\n",
    "*    Arson (it may result in harm to individuals, even if it's not the primary intent)\n",
    "*    Sex offenses (non-forcible) - this can depend on the specific offense; some may involve a degree of violence or coercion, while others may not"
   ]
  },
  {
   "cell_type": "code",
   "execution_count": 9,
   "id": "a47b19db",
   "metadata": {},
   "outputs": [
    {
     "data": {
      "text/plain": [
       "0.2533473039050001"
      ]
     },
     "execution_count": 9,
     "metadata": {},
     "output_type": "execute_result"
    }
   ],
   "source": [
    "violent_list_ = ['ASSAULT', 'ROBBERY', 'SEX OFFENSES NON FORCIBLE', 'KIDNAPPING', 'WEAPON LAWS', 'ARSON']\n",
    "sum(cat_sums[violent_list_])/443790"
   ]
  },
  {
   "cell_type": "markdown",
   "id": "e085fceb",
   "metadata": {},
   "source": [
    "This list is not exaustive, I will try to add something more"
   ]
  },
  {
   "cell_type": "code",
   "execution_count": 15,
   "id": "c99b24e8",
   "metadata": {},
   "outputs": [
    {
     "name": "stdout",
     "output_type": "stream",
     "text": [
      "total violent is  444604 vs 443790 ( 100 %) diff =  814\n"
     ]
    }
   ],
   "source": [
    "violent_list = violent_list_ + ['VANDALISM', 'MISSING PERSON', 'DRUG/NARCOTIC', 'DRUG/NARCOTIC', 'SEX OFFENSES FORCIBLE', 'BURGLARY', 'FRAUD',\n",
    "                               'DISORDERLY CONDUCT', 'FORGERY/COUNTERFEITING', 'TRESPASS', 'SUSPICIOUS OCC', 'WARRANTS', 'VEHICLE THEFT' ]\n",
    "violent_list = list(set(violent_list))\n",
    "nonviolent_list = [f for f in cat_sums.index if not f in violent_list]\n",
    "n_violent = sum(cat_sums[violent_list])\n",
    "print(\"total violent is \", n_violent, \"vs 443790 (\", int(100*n_violent/443790),\"%) diff = \", n_violent - 443790)\n",
    "#print([f for f in cat_sums.index if not f in violent_list])\n",
    "#print(\"list of violent categories is\\n\\t\", violent_list)"
   ]
  },
  {
   "cell_type": "code",
   "execution_count": 14,
   "id": "384b4697-ffda-4ffc-9292-2d4341dc48cf",
   "metadata": {},
   "outputs": [
    {
     "name": "stdout",
     "output_type": "stream",
     "text": [
      "TRESPASS, VEHICLE THEFT, ASSAULT, ARSON, WARRANTS, FRAUD, SEX OFFENSES NON FORCIBLE, ROBBERY, MISSING PERSON, SEX OFFENSES FORCIBLE, VANDALISM, BURGLARY, DRUG/NARCOTIC, FORGERY/COUNTERFEITING, WEAPON LAWS, KIDNAPPING, DISORDERLY CONDUCT, SUSPICIOUS OCC, "
     ]
    }
   ],
   "source": [
    "for f in violent_list:\n",
    "    print(f, end = \", \")"
   ]
  },
  {
   "cell_type": "code",
   "execution_count": 17,
   "id": "f0217ec1-547c-43e5-8679-27e5755a37c7",
   "metadata": {},
   "outputs": [
    {
     "name": "stdout",
     "output_type": "stream",
     "text": [
      "LARCENY/THEFT, OTHER OFFENSES, NON-CRIMINAL, SECONDARY CODES, PROSTITUTION, STOLEN PROPERTY, DRUNKENNESS, RECOVERED VEHICLE, DRIVING UNDER THE INFLUENCE, RUNAWAY, LIQUOR LAWS, LOITERING, EMBEZZLEMENT, SUICIDE, FAMILY OFFENSES, BAD CHECKS, BRIBERY, EXTORTION, GAMBLING, PORNOGRAPHY/OBSCENE MAT, TREA, "
     ]
    },
    {
     "data": {
      "text/plain": [
       "433445"
      ]
     },
     "execution_count": 17,
     "metadata": {},
     "output_type": "execute_result"
    }
   ],
   "source": [
    "for f in nonviolent_list:\n",
    "    print(f, end = \", \")\n",
    "sum(cat_sums[nonviolent_list])"
   ]
  },
  {
   "cell_type": "markdown",
   "id": "1a3da644",
   "metadata": {},
   "source": [
    "Here are counts for violent and non-violent categories"
   ]
  },
  {
   "cell_type": "code",
   "execution_count": 178,
   "id": "50d20752",
   "metadata": {},
   "outputs": [
    {
     "name": "stdout",
     "output_type": "stream",
     "text": [
      "Violent\n",
      "--------\n"
     ]
    },
    {
     "data": {
      "text/plain": [
       "ASSAULT                      76872\n",
       "DRUG/NARCOTIC                53971\n",
       "VEHICLE THEFT                53772\n",
       "VANDALISM                    44724\n",
       "WARRANTS                     42206\n",
       "BURGLARY                     36754\n",
       "SUSPICIOUS OCC               31412\n",
       "MISSING PERSON               25989\n",
       "ROBBERY                      22999\n",
       "FRAUD                        16679\n",
       "FORGERY/COUNTERFEITING       10609\n",
       "WEAPON LAWS                   8555\n",
       "TRESPASS                      7325\n",
       "SEX OFFENSES FORCIBLE         4387\n",
       "DISORDERLY CONDUCT            4318\n",
       "KIDNAPPING                    2341\n",
       "ARSON                         1513\n",
       "SEX OFFENSES NON FORCIBLE      148\n",
       "Name: Category, dtype: int64"
      ]
     },
     "execution_count": 178,
     "metadata": {},
     "output_type": "execute_result"
    }
   ],
   "source": [
    "print(\"Violent\")\n",
    "print(\"--------\")\n",
    "train[train[\"Category\"].isin(violent_list)][\"Category\"].value_counts()"
   ]
  },
  {
   "cell_type": "code",
   "execution_count": 180,
   "id": "c943afae",
   "metadata": {},
   "outputs": [
    {
     "name": "stdout",
     "output_type": "stream",
     "text": [
      "Non-violent\n",
      "--------\n"
     ]
    },
    {
     "data": {
      "text/plain": [
       "LARCENY/THEFT                  174885\n",
       "OTHER OFFENSES                 126165\n",
       "NON-CRIMINAL                    92300\n",
       "SECONDARY CODES                  9985\n",
       "PROSTITUTION                     7484\n",
       "STOLEN PROPERTY                  4539\n",
       "DRUNKENNESS                      4280\n",
       "RECOVERED VEHICLE                3138\n",
       "DRIVING UNDER THE INFLUENCE      2268\n",
       "RUNAWAY                          1946\n",
       "LIQUOR LAWS                      1903\n",
       "LOITERING                        1225\n",
       "EMBEZZLEMENT                     1166\n",
       "SUICIDE                           508\n",
       "FAMILY OFFENSES                   491\n",
       "BAD CHECKS                        406\n",
       "BRIBERY                           289\n",
       "EXTORTION                         256\n",
       "GAMBLING                          146\n",
       "PORNOGRAPHY/OBSCENE MAT            22\n",
       "TREA                                6\n",
       "Name: Category, dtype: int64"
      ]
     },
     "execution_count": 180,
     "metadata": {},
     "output_type": "execute_result"
    }
   ],
   "source": [
    "print(\"Non-violent\")\n",
    "print(\"--------\")\n",
    "train[~train[\"Category\"].isin(violent_list)][\"Category\"].value_counts()"
   ]
  },
  {
   "cell_type": "markdown",
   "id": "cfea47f2",
   "metadata": {},
   "source": [
    "Binary **violent** field is created"
   ]
  },
  {
   "cell_type": "code",
   "execution_count": 181,
   "id": "07da55ca",
   "metadata": {
    "scrolled": true
   },
   "outputs": [],
   "source": [
    "#train.drop(columns=[\"violent\"])\n",
    "train.loc[:, \"violent\"] = train[\"Category\"].isin(violent_list)"
   ]
  },
  {
   "cell_type": "markdown",
   "id": "b8f0acb0",
   "metadata": {},
   "source": [
    "## Saving"
   ]
  },
  {
   "cell_type": "markdown",
   "id": "21154302",
   "metadata": {},
   "source": [
    "The resulting data set is saved"
   ]
  },
  {
   "cell_type": "code",
   "execution_count": 186,
   "id": "5059e638",
   "metadata": {},
   "outputs": [
    {
     "data": {
      "text/plain": [
       "345082"
      ]
     },
     "execution_count": 186,
     "metadata": {},
     "output_type": "execute_result"
    }
   ],
   "source": [
    "226209+118873"
   ]
  },
  {
   "cell_type": "code",
   "execution_count": 187,
   "id": "8d084b90",
   "metadata": {},
   "outputs": [
    {
     "data": {
      "text/plain": [
       "357357"
      ]
     },
     "execution_count": 187,
     "metadata": {},
     "output_type": "execute_result"
    }
   ],
   "source": [
    "121250+236107"
   ]
  },
  {
   "cell_type": "code",
   "execution_count": 184,
   "id": "7781c74c",
   "metadata": {},
   "outputs": [],
   "source": [
    "train.to_csv(\"../data/cleaned_data/SanFrancisco.csv\")"
   ]
  },
  {
   "cell_type": "markdown",
   "id": "86b8aeae",
   "metadata": {},
   "source": [
    "To work with this data set you should remove such columns as Dates, Category, Address, street1, street2 and make dummies from the others"
   ]
  },
  {
   "cell_type": "code",
   "execution_count": 19,
   "id": "82f84802-33df-4261-9fd6-c14faf09c2b2",
   "metadata": {},
   "outputs": [
    {
     "data": {
      "text/plain": [
       "Unnamed: 0      int64\n",
       "Dates          object\n",
       "Category       object\n",
       "DayOfWeek       int64\n",
       "PdDistrict     object\n",
       "Address        object\n",
       "X             float64\n",
       "Y             float64\n",
       "year            int64\n",
       "month           int64\n",
       "day             int64\n",
       "hour            int64\n",
       "violent          bool\n",
       "street1        object\n",
       "street2        object\n",
       "str1           object\n",
       "str2           object\n",
       "dtype: object"
      ]
     },
     "execution_count": 19,
     "metadata": {},
     "output_type": "execute_result"
    }
   ],
   "source": [
    "sf_data = pd.read_csv(\"../data/cleaned_data/SanFrancisco.csv\")\n",
    "sf_data.dtypes"
   ]
  },
  {
   "cell_type": "code",
   "execution_count": 185,
   "id": "caca843a",
   "metadata": {},
   "outputs": [],
   "source": [
    "data = pd.get_dummies(train.drop(columns = [\"Dates\", \"Category\", \"Address\", \"street1\", \"street2\"]))"
   ]
  },
  {
   "cell_type": "code",
   "execution_count": 237,
   "id": "02368762",
   "metadata": {},
   "outputs": [
    {
     "data": {
      "text/plain": [
       "DayOfWeek              int64\n",
       "X                    float64\n",
       "Y                    float64\n",
       "year                   int64\n",
       "month                  int64\n",
       "                      ...   \n",
       "str2_WEBSTER ST        uint8\n",
       "str2_WINSTON DR        uint8\n",
       "str2_WISCONSIN ST      uint8\n",
       "str2_YORK ST           uint8\n",
       "str2_other             uint8\n",
       "Length: 420, dtype: object"
      ]
     },
     "execution_count": 237,
     "metadata": {},
     "output_type": "execute_result"
    }
   ],
   "source": [
    "data.dtypes"
   ]
  },
  {
   "cell_type": "code",
   "execution_count": 198,
   "id": "6ceaaf26",
   "metadata": {},
   "outputs": [
    {
     "data": {
      "text/plain": [
       "['VANDALISM',\n",
       " 'FRAUD',\n",
       " 'SEX OFFENSES NON FORCIBLE',\n",
       " 'WEAPON LAWS',\n",
       " 'SEX OFFENSES FORCIBLE',\n",
       " 'ASSAULT',\n",
       " 'BURGLARY',\n",
       " 'DISORDERLY CONDUCT',\n",
       " 'TRESPASS',\n",
       " 'ARSON',\n",
       " 'SUSPICIOUS OCC',\n",
       " 'ROBBERY',\n",
       " 'MISSING PERSON',\n",
       " 'DRUG/NARCOTIC',\n",
       " 'FORGERY/COUNTERFEITING',\n",
       " 'WARRANTS',\n",
       " 'VEHICLE THEFT',\n",
       " 'KIDNAPPING']"
      ]
     },
     "execution_count": 198,
     "metadata": {},
     "output_type": "execute_result"
    }
   ],
   "source": [
    "violent_list"
   ]
  },
  {
   "cell_type": "code",
   "execution_count": 240,
   "id": "dd197b21",
   "metadata": {},
   "outputs": [
    {
     "data": {
      "text/plain": [
       "0.5063589002963614"
      ]
     },
     "execution_count": 240,
     "metadata": {},
     "output_type": "execute_result"
    }
   ],
   "source": [
    "sum(data[\"violent\"])/data.shape[0]"
   ]
  },
  {
   "cell_type": "markdown",
   "id": "af4b3543",
   "metadata": {
    "tags": []
   },
   "source": [
    "# Montreal"
   ]
  },
  {
   "cell_type": "code",
   "execution_count": 62,
   "id": "0b2627c2",
   "metadata": {},
   "outputs": [
    {
     "data": {
      "text/html": [
       "<div>\n",
       "<style scoped>\n",
       "    .dataframe tbody tr th:only-of-type {\n",
       "        vertical-align: middle;\n",
       "    }\n",
       "\n",
       "    .dataframe tbody tr th {\n",
       "        vertical-align: top;\n",
       "    }\n",
       "\n",
       "    .dataframe thead th {\n",
       "        text-align: right;\n",
       "    }\n",
       "</style>\n",
       "<table border=\"1\" class=\"dataframe\">\n",
       "  <thead>\n",
       "    <tr style=\"text-align: right;\">\n",
       "      <th></th>\n",
       "      <th>Unnamed: 0</th>\n",
       "      <th>category</th>\n",
       "      <th>date</th>\n",
       "      <th>postal_code</th>\n",
       "      <th>city</th>\n",
       "      <th>neighbourhood</th>\n",
       "      <th>year</th>\n",
       "      <th>count</th>\n",
       "      <th>longitude</th>\n",
       "      <th>latitude</th>\n",
       "    </tr>\n",
       "  </thead>\n",
       "  <tbody>\n",
       "    <tr>\n",
       "      <th>0</th>\n",
       "      <td>0</td>\n",
       "      <td>Motor vehicle theft</td>\n",
       "      <td>2018-09-13</td>\n",
       "      <td>H1Z 1S9</td>\n",
       "      <td>MONTREAL</td>\n",
       "      <td>Saint-Michel</td>\n",
       "      <td>2018</td>\n",
       "      <td>1</td>\n",
       "      <td>-73.626</td>\n",
       "      <td>45.567</td>\n",
       "    </tr>\n",
       "    <tr>\n",
       "      <th>1</th>\n",
       "      <td>1</td>\n",
       "      <td>Motor vehicle theft</td>\n",
       "      <td>2018-04-30</td>\n",
       "      <td>H1Z 1S9</td>\n",
       "      <td>MONTREAL</td>\n",
       "      <td>Saint-Michel</td>\n",
       "      <td>2018</td>\n",
       "      <td>1</td>\n",
       "      <td>-73.626</td>\n",
       "      <td>45.567</td>\n",
       "    </tr>\n",
       "    <tr>\n",
       "      <th>2</th>\n",
       "      <td>2</td>\n",
       "      <td>Home Invasion</td>\n",
       "      <td>2018-01-10</td>\n",
       "      <td>H1Z 2V6</td>\n",
       "      <td>MONTREAL</td>\n",
       "      <td>Saint-Michel</td>\n",
       "      <td>2018</td>\n",
       "      <td>1</td>\n",
       "      <td>-73.629</td>\n",
       "      <td>45.569</td>\n",
       "    </tr>\n",
       "    <tr>\n",
       "      <th>3</th>\n",
       "      <td>3</td>\n",
       "      <td>Mischief</td>\n",
       "      <td>2018-11-12</td>\n",
       "      <td>H1Z 2V6</td>\n",
       "      <td>MONTREAL</td>\n",
       "      <td>Saint-Michel</td>\n",
       "      <td>2018</td>\n",
       "      <td>1</td>\n",
       "      <td>-73.629</td>\n",
       "      <td>45.569</td>\n",
       "    </tr>\n",
       "    <tr>\n",
       "      <th>4</th>\n",
       "      <td>4</td>\n",
       "      <td>Mischief</td>\n",
       "      <td>2018-08-15</td>\n",
       "      <td>H1Z 2V6</td>\n",
       "      <td>MONTREAL</td>\n",
       "      <td>Saint-Michel</td>\n",
       "      <td>2018</td>\n",
       "      <td>1</td>\n",
       "      <td>-73.629</td>\n",
       "      <td>45.569</td>\n",
       "    </tr>\n",
       "    <tr>\n",
       "      <th>...</th>\n",
       "      <td>...</td>\n",
       "      <td>...</td>\n",
       "      <td>...</td>\n",
       "      <td>...</td>\n",
       "      <td>...</td>\n",
       "      <td>...</td>\n",
       "      <td>...</td>\n",
       "      <td>...</td>\n",
       "      <td>...</td>\n",
       "      <td>...</td>\n",
       "    </tr>\n",
       "    <tr>\n",
       "      <th>136637</th>\n",
       "      <td>136637</td>\n",
       "      <td>Motor vehicle theft</td>\n",
       "      <td>2020-03-25</td>\n",
       "      <td>H4Y 1G6</td>\n",
       "      <td>DORVAL</td>\n",
       "      <td>Dorval</td>\n",
       "      <td>2020</td>\n",
       "      <td>1</td>\n",
       "      <td>-73.752</td>\n",
       "      <td>45.452</td>\n",
       "    </tr>\n",
       "    <tr>\n",
       "      <th>136638</th>\n",
       "      <td>136638</td>\n",
       "      <td>Motor vehicle theft</td>\n",
       "      <td>2020-03-27</td>\n",
       "      <td>H4Y 1G6</td>\n",
       "      <td>DORVAL</td>\n",
       "      <td>Dorval</td>\n",
       "      <td>2020</td>\n",
       "      <td>1</td>\n",
       "      <td>-73.752</td>\n",
       "      <td>45.452</td>\n",
       "    </tr>\n",
       "    <tr>\n",
       "      <th>136639</th>\n",
       "      <td>136639</td>\n",
       "      <td>Mischief</td>\n",
       "      <td>2021-04-01</td>\n",
       "      <td>H4Y 1G6</td>\n",
       "      <td>DORVAL</td>\n",
       "      <td>Dorval</td>\n",
       "      <td>2021</td>\n",
       "      <td>1</td>\n",
       "      <td>-73.752</td>\n",
       "      <td>45.452</td>\n",
       "    </tr>\n",
       "    <tr>\n",
       "      <th>136640</th>\n",
       "      <td>136640</td>\n",
       "      <td>Home Invasion</td>\n",
       "      <td>2021-06-06</td>\n",
       "      <td>H4Y 1G6</td>\n",
       "      <td>DORVAL</td>\n",
       "      <td>Dorval</td>\n",
       "      <td>2021</td>\n",
       "      <td>1</td>\n",
       "      <td>-73.752</td>\n",
       "      <td>45.452</td>\n",
       "    </tr>\n",
       "    <tr>\n",
       "      <th>136641</th>\n",
       "      <td>136641</td>\n",
       "      <td>Mischief</td>\n",
       "      <td>2021-06-22</td>\n",
       "      <td>H4Y 1G6</td>\n",
       "      <td>DORVAL</td>\n",
       "      <td>Dorval</td>\n",
       "      <td>2021</td>\n",
       "      <td>1</td>\n",
       "      <td>-73.752</td>\n",
       "      <td>45.452</td>\n",
       "    </tr>\n",
       "  </tbody>\n",
       "</table>\n",
       "<p>136642 rows × 10 columns</p>\n",
       "</div>"
      ],
      "text/plain": [
       "        Unnamed: 0             category        date postal_code      city  \\\n",
       "0                0  Motor vehicle theft  2018-09-13     H1Z 1S9  MONTREAL   \n",
       "1                1  Motor vehicle theft  2018-04-30     H1Z 1S9  MONTREAL   \n",
       "2                2        Home Invasion  2018-01-10     H1Z 2V6  MONTREAL   \n",
       "3                3             Mischief  2018-11-12     H1Z 2V6  MONTREAL   \n",
       "4                4             Mischief  2018-08-15     H1Z 2V6  MONTREAL   \n",
       "...            ...                  ...         ...         ...       ...   \n",
       "136637      136637  Motor vehicle theft  2020-03-25     H4Y 1G6    DORVAL   \n",
       "136638      136638  Motor vehicle theft  2020-03-27     H4Y 1G6    DORVAL   \n",
       "136639      136639             Mischief  2021-04-01     H4Y 1G6    DORVAL   \n",
       "136640      136640        Home Invasion  2021-06-06     H4Y 1G6    DORVAL   \n",
       "136641      136641             Mischief  2021-06-22     H4Y 1G6    DORVAL   \n",
       "\n",
       "       neighbourhood  year  count  longitude  latitude  \n",
       "0       Saint-Michel  2018      1    -73.626    45.567  \n",
       "1       Saint-Michel  2018      1    -73.626    45.567  \n",
       "2       Saint-Michel  2018      1    -73.629    45.569  \n",
       "3       Saint-Michel  2018      1    -73.629    45.569  \n",
       "4       Saint-Michel  2018      1    -73.629    45.569  \n",
       "...              ...   ...    ...        ...       ...  \n",
       "136637        Dorval  2020      1    -73.752    45.452  \n",
       "136638        Dorval  2020      1    -73.752    45.452  \n",
       "136639        Dorval  2021      1    -73.752    45.452  \n",
       "136640        Dorval  2021      1    -73.752    45.452  \n",
       "136641        Dorval  2021      1    -73.752    45.452  \n",
       "\n",
       "[136642 rows x 10 columns]"
      ]
     },
     "execution_count": 62,
     "metadata": {},
     "output_type": "execute_result"
    }
   ],
   "source": [
    "mt_data = pd.read_csv(\"../data/external/Montreal Crime Data.csv\")\n",
    "mt_data"
   ]
  },
  {
   "cell_type": "code",
   "execution_count": 60,
   "id": "5664f72c",
   "metadata": {},
   "outputs": [
    {
     "data": {
      "text/plain": [
       "(136642, 9)"
      ]
     },
     "execution_count": 60,
     "metadata": {},
     "output_type": "execute_result"
    }
   ],
   "source": [
    "mt_data.shape"
   ]
  },
  {
   "cell_type": "markdown",
   "id": "721f328a",
   "metadata": {
    "tags": []
   },
   "source": [
    "## Selecting Fields"
   ]
  },
  {
   "cell_type": "code",
   "execution_count": 63,
   "id": "6bc87653",
   "metadata": {},
   "outputs": [],
   "source": [
    "mt_data = mt_data.drop(columns=[\"Unnamed: 0\"])"
   ]
  },
  {
   "cell_type": "markdown",
   "id": "7334472e",
   "metadata": {
    "tags": []
   },
   "source": [
    "### Date"
   ]
  },
  {
   "cell_type": "code",
   "execution_count": 64,
   "id": "5cc5b37d",
   "metadata": {},
   "outputs": [],
   "source": [
    "mt_data[\"date\"] = pd.to_datetime(mt_data[\"date\"])\n",
    "mt_data[\"year\"] = mt_data[\"date\"].dt.year\n",
    "mt_data[\"month\"] = mt_data[\"date\"].dt.month\n",
    "mt_data[\"day\"] = mt_data[\"date\"].dt.day\n",
    "mt_data[\"hour\"] = mt_data[\"date\"].dt.hour\n",
    "mt_data[\"DayOfWeek\"] = mt_data[\"date\"].dt.dayofweek"
   ]
  },
  {
   "cell_type": "markdown",
   "id": "37a35af7",
   "metadata": {},
   "source": [
    "### Postal Code"
   ]
  },
  {
   "cell_type": "markdown",
   "id": "977a8160",
   "metadata": {},
   "source": [
    "Here is the postal code variable"
   ]
  },
  {
   "cell_type": "code",
   "execution_count": 65,
   "id": "c6464836",
   "metadata": {},
   "outputs": [
    {
     "data": {
      "text/plain": [
       "H1M 3A3    354\n",
       "H3B 3B5    298\n",
       "H3G 1A8    249\n",
       "H2Y 1B7    236\n",
       "H2L 4E3    228\n",
       "          ... \n",
       "H4R 2V1      1\n",
       "H9B 3J6      1\n",
       "H9B 2K9      1\n",
       "H9B 1B8      1\n",
       "H4Y 1G3      1\n",
       "Name: postal_code, Length: 10831, dtype: int64"
      ]
     },
     "execution_count": 65,
     "metadata": {},
     "output_type": "execute_result"
    }
   ],
   "source": [
    "mt_data[\"postal_code\"].value_counts()"
   ]
  },
  {
   "cell_type": "code",
   "execution_count": 66,
   "id": "9a48277a",
   "metadata": {},
   "outputs": [
    {
     "data": {
      "text/plain": [
       "<AxesSubplot: xlabel='index'>"
      ]
     },
     "execution_count": 66,
     "metadata": {},
     "output_type": "execute_result"
    },
    {
     "data": {
      "image/png": "[encoded data removed]",
      "text/plain": [
       "<Figure size 640x480 with 1 Axes>"
      ]
     },
     "metadata": {},
     "output_type": "display_data"
    }
   ],
   "source": [
    "mt_data[\"postal_code\"].value_counts().reset_index().head(30).\\\n",
    "    plot(x=\"index\", y=\"postal_code\", kind=\"bar\")"
   ]
  },
  {
   "cell_type": "markdown",
   "id": "183d07a4",
   "metadata": {},
   "source": [
    "I will split it into two fields"
   ]
  },
  {
   "cell_type": "code",
   "execution_count": 67,
   "id": "2635ef3a",
   "metadata": {},
   "outputs": [
    {
     "name": "stdout",
     "output_type": "stream",
     "text": [
      "[postal_code_1]= (101,)\n"
     ]
    },
    {
     "data": {
      "text/plain": [
       "H2L    4720\n",
       "H1W    4207\n",
       "H1G    3868\n",
       "H2X    3791\n",
       "H1L    3280\n",
       "       ... \n",
       "H9K     135\n",
       "H4Y     122\n",
       "H5B     106\n",
       "H4Z      88\n",
       "H9E      50\n",
       "Name: postal_code_1, Length: 101, dtype: int64"
      ]
     },
     "execution_count": 67,
     "metadata": {},
     "output_type": "execute_result"
    }
   ],
   "source": [
    "mt_data[\"postal_code_1\"] = mt_data[\"postal_code\"].str.split(\" \").str.get(0)\n",
    "print(\"[postal_code_1]=\", mt_data[\"postal_code_1\"].drop_duplicates().shape)\n",
    "mt_data[\"postal_code_1\"].value_counts()"
   ]
  },
  {
   "cell_type": "code",
   "execution_count": 68,
   "id": "20c63585",
   "metadata": {},
   "outputs": [
    {
     "name": "stdout",
     "output_type": "stream",
     "text": [
      "[postal_code_2]= (1060,)\n"
     ]
    },
    {
     "data": {
      "text/plain": [
       "1S4    649\n",
       "1M1    635\n",
       "2A1    635\n",
       "1N5    615\n",
       "1J5    590\n",
       "      ... \n",
       "0R5      1\n",
       "5Y3      1\n",
       "5L1      1\n",
       "4N7      1\n",
       "6A5      1\n",
       "Name: postal_code_2, Length: 1060, dtype: int64"
      ]
     },
     "execution_count": 68,
     "metadata": {},
     "output_type": "execute_result"
    }
   ],
   "source": [
    "mt_data[\"postal_code_2\"] = mt_data[\"postal_code\"].str.split(\" \").str.get(1)\n",
    "print(\"[postal_code_2]=\",mt_data[\"postal_code_2\"].drop_duplicates().shape)\n",
    "mt_data[\"postal_code_2\"].value_counts()"
   ]
  },
  {
   "cell_type": "code",
   "execution_count": 69,
   "id": "3745016d",
   "metadata": {},
   "outputs": [
    {
     "data": {
      "image/png": "[encoded data removed]",
      "text/plain": [
       "<Figure size 1000x500 with 2 Axes>"
      ]
     },
     "metadata": {},
     "output_type": "display_data"
    }
   ],
   "source": [
    "fig, axes = plt.subplots(nrows = 1, ncols=2, figsize = (10, 5))\n",
    "mt_data[\"postal_code_1\"].value_counts().reset_index().head(30).\\\n",
    "    plot(x=\"index\", y=\"postal_code_1\", kind=\"bar\", ax = axes[0])\n",
    "mt_data[\"postal_code_2\"].value_counts().reset_index().head(30).\\\n",
    "    plot(x=\"index\", y=\"postal_code_2\", kind=\"bar\", ax = axes[1])\n",
    "plt.tight_layout()"
   ]
  },
  {
   "cell_type": "markdown",
   "id": "61be4034",
   "metadata": {},
   "source": [
    "As in SF data, I will use 200 entries for each part of the post code"
   ]
  },
  {
   "cell_type": "code",
   "execution_count": 70,
   "id": "ed346e82",
   "metadata": {},
   "outputs": [
    {
     "data": {
      "text/plain": [
       "(101,)"
      ]
     },
     "execution_count": 70,
     "metadata": {},
     "output_type": "execute_result"
    }
   ],
   "source": [
    "psc1_counts = mt_data.postal_code_1.value_counts().head(200)\n",
    "mt_data[\"pc1\"] = mt_data.apply(lambda r: \n",
    "                                     r[\"postal_code_1\"] if r[\"postal_code_1\"] in psc1_counts.index else \"other\", axis=1)\n",
    "mt_data.pc1.drop_duplicates().shape"
   ]
  },
  {
   "cell_type": "code",
   "execution_count": 71,
   "id": "91b26f8e",
   "metadata": {},
   "outputs": [
    {
     "data": {
      "text/plain": [
       "(201,)"
      ]
     },
     "execution_count": 71,
     "metadata": {},
     "output_type": "execute_result"
    }
   ],
   "source": [
    "psc2_counts = mt_data.postal_code_2.value_counts().head(200)\n",
    "mt_data[\"pc2\"] = mt_data.apply(lambda r: \n",
    "                                     r[\"postal_code_2\"] if r[\"postal_code_2\"] in psc2_counts.index else \"other\", axis=1)\n",
    "mt_data.pc2.drop_duplicates().shape"
   ]
  },
  {
   "cell_type": "markdown",
   "id": "52d49d37",
   "metadata": {},
   "source": [
    "### Crime Categories"
   ]
  },
  {
   "cell_type": "code",
   "execution_count": 72,
   "id": "a69787c8",
   "metadata": {},
   "outputs": [
    {
     "data": {
      "text/plain": [
       "Home Invasion                      43354\n",
       "Theft in / from a motor vehicle    35382\n",
       "Mischief                           31385\n",
       "Motor vehicle theft                18723\n",
       "Confirmed Theft                     7676\n",
       "Offenses resulting in death          122\n",
       "Name: category, dtype: int64"
      ]
     },
     "execution_count": 72,
     "metadata": {},
     "output_type": "execute_result"
    }
   ],
   "source": [
    "mt_data.category.value_counts()"
   ]
  },
  {
   "cell_type": "code",
   "execution_count": 73,
   "id": "0865a0fa",
   "metadata": {},
   "outputs": [
    {
     "name": "stdout",
     "output_type": "stream",
     "text": [
      "violent: 74565 (55)%\n"
     ]
    }
   ],
   "source": [
    "mt_violent = ['Offenses resulting in death', 'Theft in / from a motor vehicle', 'Confirmed Theft', 'Mischief']\n",
    "n_violent = sum(mt_data.category.isin(mt_violent))\n",
    "print(\"violent: {} ({:.0f})%\".format(n_violent, 100*n_violent/mt_data.shape[0]))\n",
    "mt_data[\"violent\"] = mt_data.category.isin(mt_violent)"
   ]
  },
  {
   "cell_type": "markdown",
   "id": "67001b40",
   "metadata": {},
   "source": [
    "### Visualization"
   ]
  },
  {
   "cell_type": "code",
   "execution_count": 79,
   "id": "1eac7022",
   "metadata": {},
   "outputs": [
    {
     "data": {
      "image/png": "[encoded data removed]",
      "text/plain": [
       "<Figure size 640x480 with 1 Axes>"
      ]
     },
     "metadata": {},
     "output_type": "display_data"
    },
    {
     "data": {
      "text/plain": [
       "<ggplot: (421056413)>"
      ]
     },
     "execution_count": 79,
     "metadata": {},
     "output_type": "execute_result"
    }
   ],
   "source": [
    "(\n",
    "    ggplot(mt_data, aes(x=\"longitude\", y=\"latitude\", color = \"city\")) +geom_point()\n",
    ")"
   ]
  },
  {
   "cell_type": "code",
   "execution_count": 84,
   "id": "5dea29fd",
   "metadata": {},
   "outputs": [
    {
     "data": {
      "text/plain": [
       "'H2L'"
      ]
     },
     "execution_count": 84,
     "metadata": {},
     "output_type": "execute_result"
    }
   ],
   "source": [
    "psc1_counts.index[0]"
   ]
  },
  {
   "cell_type": "code",
   "execution_count": 100,
   "id": "6d18d940",
   "metadata": {},
   "outputs": [
    {
     "data": {
      "image/png": "[encoded data removed]",
      "text/plain": [
       "<Figure size 640x480 with 1 Axes>"
      ]
     },
     "metadata": {},
     "output_type": "display_data"
    },
    {
     "data": {
      "text/plain": [
       "<ggplot: (423519345)>"
      ]
     },
     "execution_count": 100,
     "metadata": {},
     "output_type": "execute_result"
    }
   ],
   "source": [
    "(\n",
    "ggplot(mt_data[mt_data.pc1.isin(psc1_counts.index[:3])], aes(x=\"longitude\", y=\"latitude\", color = \"city\", shape = \"pc1\")) +\n",
    "    geom_point()\n",
    ")"
   ]
  },
  {
   "cell_type": "markdown",
   "id": "db41ee0d",
   "metadata": {
    "tags": []
   },
   "source": [
    "## Saving"
   ]
  },
  {
   "cell_type": "code",
   "execution_count": 98,
   "id": "61ecc854",
   "metadata": {},
   "outputs": [],
   "source": [
    "mt_data.to_csv(\"../data/cleaned_data/MontReal.csv\")"
   ]
  },
  {
   "cell_type": "markdown",
   "id": "d73e8809",
   "metadata": {},
   "source": [
    "To work with this data set you should remove such columns as Dates, Category, Address, street1, street2 and make dummies from the others"
   ]
  },
  {
   "cell_type": "markdown",
   "id": "01d5380b",
   "metadata": {},
   "source": [
    "To work with this data set you should remove such columns as date, category, postal_code, postal_code_1, postal_code_1 and make dummies from the others"
   ]
  },
  {
   "cell_type": "code",
   "execution_count": 81,
   "id": "6f2817e8",
   "metadata": {},
   "outputs": [
    {
     "data": {
      "text/plain": [
       "Index(['category', 'date', 'postal_code', 'city', 'neighbourhood', 'year',\n",
       "       'count', 'longitude', 'latitude', 'month', 'day', 'hour', 'DayOfWeek',\n",
       "       'postal_code_1', 'postal_code_2', 'pc1', 'pc2', 'violent'],\n",
       "      dtype='object')"
      ]
     },
     "execution_count": 81,
     "metadata": {},
     "output_type": "execute_result"
    }
   ],
   "source": [
    "mt_data.columns"
   ]
  },
  {
   "cell_type": "markdown",
   "id": "dbbaa305",
   "metadata": {},
   "source": [
    "# Denver"
   ]
  },
  {
   "cell_type": "markdown",
   "id": "a3df5aca",
   "metadata": {},
   "source": [
    "## Loading "
   ]
  },
  {
   "cell_type": "code",
   "execution_count": 4,
   "id": "fade20fd",
   "metadata": {},
   "outputs": [
    {
     "data": {
      "text/html": [
       "<div>\n",
       "<style scoped>\n",
       "    .dataframe tbody tr th:only-of-type {\n",
       "        vertical-align: middle;\n",
       "    }\n",
       "\n",
       "    .dataframe tbody tr th {\n",
       "        vertical-align: top;\n",
       "    }\n",
       "\n",
       "    .dataframe thead th {\n",
       "        text-align: right;\n",
       "    }\n",
       "</style>\n",
       "<table border=\"1\" class=\"dataframe\">\n",
       "  <thead>\n",
       "    <tr style=\"text-align: right;\">\n",
       "      <th></th>\n",
       "      <th>incident_id</th>\n",
       "      <th>offense_id</th>\n",
       "      <th>OFFENSE_CODE</th>\n",
       "      <th>OFFENSE_CODE_EXTENSION</th>\n",
       "      <th>OFFENSE_TYPE_ID</th>\n",
       "      <th>OFFENSE_CATEGORY_ID</th>\n",
       "      <th>FIRST_OCCURRENCE_DATE</th>\n",
       "      <th>LAST_OCCURRENCE_DATE</th>\n",
       "      <th>REPORTED_DATE</th>\n",
       "      <th>INCIDENT_ADDRESS</th>\n",
       "      <th>GEO_X</th>\n",
       "      <th>GEO_Y</th>\n",
       "      <th>GEO_LON</th>\n",
       "      <th>GEO_LAT</th>\n",
       "      <th>DISTRICT_ID</th>\n",
       "      <th>PRECINCT_ID</th>\n",
       "      <th>NEIGHBORHOOD_ID</th>\n",
       "      <th>IS_CRIME</th>\n",
       "      <th>IS_TRAFFIC</th>\n",
       "      <th>VICTIM_COUNT</th>\n",
       "    </tr>\n",
       "  </thead>\n",
       "  <tbody>\n",
       "    <tr>\n",
       "      <th>0</th>\n",
       "      <td>2017421909</td>\n",
       "      <td>2017421909299900</td>\n",
       "      <td>2999</td>\n",
       "      <td>0</td>\n",
       "      <td>criminal-mischief-other</td>\n",
       "      <td>public-disorder</td>\n",
       "      <td>6/25/2017 8:40:00 PM</td>\n",
       "      <td>NaN</td>\n",
       "      <td>6/27/2017 7:01:00 PM</td>\n",
       "      <td>2920 W 32ND AVE</td>\n",
       "      <td>3133773.0</td>\n",
       "      <td>1702660.0</td>\n",
       "      <td>-105.024167</td>\n",
       "      <td>39.761646</td>\n",
       "      <td>1</td>\n",
       "      <td>113</td>\n",
       "      <td>highland</td>\n",
       "      <td>1</td>\n",
       "      <td>0</td>\n",
       "      <td>1</td>\n",
       "    </tr>\n",
       "    <tr>\n",
       "      <th>1</th>\n",
       "      <td>2017342682</td>\n",
       "      <td>2017342682299900</td>\n",
       "      <td>2999</td>\n",
       "      <td>0</td>\n",
       "      <td>criminal-mischief-other</td>\n",
       "      <td>public-disorder</td>\n",
       "      <td>5/26/2017 7:00:00 PM</td>\n",
       "      <td>NaN</td>\n",
       "      <td>5/26/2017 11:04:00 PM</td>\n",
       "      <td>13400 E ALBROOK DR</td>\n",
       "      <td>3185904.0</td>\n",
       "      <td>1709037.0</td>\n",
       "      <td>-104.838576</td>\n",
       "      <td>39.778256</td>\n",
       "      <td>5</td>\n",
       "      <td>521</td>\n",
       "      <td>montbello</td>\n",
       "      <td>1</td>\n",
       "      <td>0</td>\n",
       "      <td>1</td>\n",
       "    </tr>\n",
       "    <tr>\n",
       "      <th>2</th>\n",
       "      <td>2017421829</td>\n",
       "      <td>2017421829299900</td>\n",
       "      <td>2999</td>\n",
       "      <td>0</td>\n",
       "      <td>criminal-mischief-other</td>\n",
       "      <td>public-disorder</td>\n",
       "      <td>6/27/2017 4:40:00 PM</td>\n",
       "      <td>NaN</td>\n",
       "      <td>6/27/2017 5:50:00 PM</td>\n",
       "      <td>1600 BLOCK 16TH ST</td>\n",
       "      <td>3140436.0</td>\n",
       "      <td>1699005.0</td>\n",
       "      <td>-105.000538</td>\n",
       "      <td>39.751514</td>\n",
       "      <td>6</td>\n",
       "      <td>612</td>\n",
       "      <td>union-station</td>\n",
       "      <td>1</td>\n",
       "      <td>0</td>\n",
       "      <td>1</td>\n",
       "    </tr>\n",
       "    <tr>\n",
       "      <th>3</th>\n",
       "      <td>2017342681</td>\n",
       "      <td>2017342681299900</td>\n",
       "      <td>2999</td>\n",
       "      <td>0</td>\n",
       "      <td>criminal-mischief-other</td>\n",
       "      <td>public-disorder</td>\n",
       "      <td>5/26/2017 7:01:00 PM</td>\n",
       "      <td>NaN</td>\n",
       "      <td>5/26/2017 10:21:00 PM</td>\n",
       "      <td>2200 BLOCK MARKET ST</td>\n",
       "      <td>3143338.0</td>\n",
       "      <td>1700561.0</td>\n",
       "      <td>-104.990186</td>\n",
       "      <td>39.755741</td>\n",
       "      <td>6</td>\n",
       "      <td>612</td>\n",
       "      <td>five-points</td>\n",
       "      <td>1</td>\n",
       "      <td>0</td>\n",
       "      <td>1</td>\n",
       "    </tr>\n",
       "    <tr>\n",
       "      <th>4</th>\n",
       "      <td>2017448789</td>\n",
       "      <td>2017448789299900</td>\n",
       "      <td>2999</td>\n",
       "      <td>0</td>\n",
       "      <td>criminal-mischief-other</td>\n",
       "      <td>public-disorder</td>\n",
       "      <td>7/7/2017 9:48:00 PM</td>\n",
       "      <td>NaN</td>\n",
       "      <td>7/7/2017 9:48:00 PM</td>\n",
       "      <td>1733 N GROVE ST</td>\n",
       "      <td>3132994.0</td>\n",
       "      <td>1696487.0</td>\n",
       "      <td>-105.027052</td>\n",
       "      <td>39.744711</td>\n",
       "      <td>1</td>\n",
       "      <td>121</td>\n",
       "      <td>west-colfax</td>\n",
       "      <td>1</td>\n",
       "      <td>0</td>\n",
       "      <td>1</td>\n",
       "    </tr>\n",
       "    <tr>\n",
       "      <th>...</th>\n",
       "      <td>...</td>\n",
       "      <td>...</td>\n",
       "      <td>...</td>\n",
       "      <td>...</td>\n",
       "      <td>...</td>\n",
       "      <td>...</td>\n",
       "      <td>...</td>\n",
       "      <td>...</td>\n",
       "      <td>...</td>\n",
       "      <td>...</td>\n",
       "      <td>...</td>\n",
       "      <td>...</td>\n",
       "      <td>...</td>\n",
       "      <td>...</td>\n",
       "      <td>...</td>\n",
       "      <td>...</td>\n",
       "      <td>...</td>\n",
       "      <td>...</td>\n",
       "      <td>...</td>\n",
       "      <td>...</td>\n",
       "    </tr>\n",
       "    <tr>\n",
       "      <th>399567</th>\n",
       "      <td>2022510783</td>\n",
       "      <td>2022510783240400</td>\n",
       "      <td>2404</td>\n",
       "      <td>0</td>\n",
       "      <td>theft-of-motor-vehicle</td>\n",
       "      <td>auto-theft</td>\n",
       "      <td>10/2/2022 9:30:00 PM</td>\n",
       "      <td>10/3/2022 6:30:00 AM</td>\n",
       "      <td>10/3/2022 5:33:00 PM</td>\n",
       "      <td>934 16TH ST</td>\n",
       "      <td>3142109.0</td>\n",
       "      <td>1697318.0</td>\n",
       "      <td>-104.994621</td>\n",
       "      <td>39.746857</td>\n",
       "      <td>6</td>\n",
       "      <td>611</td>\n",
       "      <td>cbd</td>\n",
       "      <td>1</td>\n",
       "      <td>0</td>\n",
       "      <td>1</td>\n",
       "    </tr>\n",
       "    <tr>\n",
       "      <th>399568</th>\n",
       "      <td>2022510866</td>\n",
       "      <td>2022510866240400</td>\n",
       "      <td>2404</td>\n",
       "      <td>0</td>\n",
       "      <td>theft-of-motor-vehicle</td>\n",
       "      <td>auto-theft</td>\n",
       "      <td>10/3/2022 2:15:00 PM</td>\n",
       "      <td>NaN</td>\n",
       "      <td>10/3/2022 6:09:00 PM</td>\n",
       "      <td>4905 N CATHAY ST</td>\n",
       "      <td>3206327.0</td>\n",
       "      <td>1712283.0</td>\n",
       "      <td>-104.765823</td>\n",
       "      <td>39.786736</td>\n",
       "      <td>5</td>\n",
       "      <td>523</td>\n",
       "      <td>gateway-green-valley-ranch</td>\n",
       "      <td>1</td>\n",
       "      <td>0</td>\n",
       "      <td>1</td>\n",
       "    </tr>\n",
       "    <tr>\n",
       "      <th>399569</th>\n",
       "      <td>2022510341</td>\n",
       "      <td>2022510341250100</td>\n",
       "      <td>2501</td>\n",
       "      <td>0</td>\n",
       "      <td>forgery-checks</td>\n",
       "      <td>white-collar-crime</td>\n",
       "      <td>8/3/2022 12:01:00 PM</td>\n",
       "      <td>9/8/2022 9:01:00 PM</td>\n",
       "      <td>10/3/2022 11:53:00 AM</td>\n",
       "      <td>1551S S ROSLYN ST</td>\n",
       "      <td>3168587.0</td>\n",
       "      <td>1676396.0</td>\n",
       "      <td>-104.900952</td>\n",
       "      <td>39.688981</td>\n",
       "      <td>3</td>\n",
       "      <td>322</td>\n",
       "      <td>indian-creek</td>\n",
       "      <td>1</td>\n",
       "      <td>0</td>\n",
       "      <td>1</td>\n",
       "    </tr>\n",
       "    <tr>\n",
       "      <th>399570</th>\n",
       "      <td>2022510188</td>\n",
       "      <td>2022510188260500</td>\n",
       "      <td>2605</td>\n",
       "      <td>0</td>\n",
       "      <td>theft-unauth-use-of-ftd</td>\n",
       "      <td>white-collar-crime</td>\n",
       "      <td>7/17/2022 10:16:00 AM</td>\n",
       "      <td>10/3/2022 10:16:00 AM</td>\n",
       "      <td>10/3/2022 10:16:00 AM</td>\n",
       "      <td>1727 N PEARL ST</td>\n",
       "      <td>3146166.0</td>\n",
       "      <td>1696259.0</td>\n",
       "      <td>-104.980215</td>\n",
       "      <td>39.743887</td>\n",
       "      <td>6</td>\n",
       "      <td>621</td>\n",
       "      <td>north-capitol-hill</td>\n",
       "      <td>1</td>\n",
       "      <td>0</td>\n",
       "      <td>1</td>\n",
       "    </tr>\n",
       "    <tr>\n",
       "      <th>399571</th>\n",
       "      <td>2022510146</td>\n",
       "      <td>2022510146260600</td>\n",
       "      <td>2606</td>\n",
       "      <td>0</td>\n",
       "      <td>fraud-nsf-closed-account</td>\n",
       "      <td>white-collar-crime</td>\n",
       "      <td>9/14/2022 4:00:00 PM</td>\n",
       "      <td>NaN</td>\n",
       "      <td>9/23/2022 1:45:00 PM</td>\n",
       "      <td>4404 W COLFAX AVE</td>\n",
       "      <td>3128140.0</td>\n",
       "      <td>1694785.0</td>\n",
       "      <td>-105.044343</td>\n",
       "      <td>39.740107</td>\n",
       "      <td>1</td>\n",
       "      <td>122</td>\n",
       "      <td>west-colfax</td>\n",
       "      <td>1</td>\n",
       "      <td>0</td>\n",
       "      <td>1</td>\n",
       "    </tr>\n",
       "  </tbody>\n",
       "</table>\n",
       "<p>399572 rows × 20 columns</p>\n",
       "</div>"
      ],
      "text/plain": [
       "        incident_id        offense_id  OFFENSE_CODE  OFFENSE_CODE_EXTENSION  \\\n",
       "0        2017421909  2017421909299900          2999                       0   \n",
       "1        2017342682  2017342682299900          2999                       0   \n",
       "2        2017421829  2017421829299900          2999                       0   \n",
       "3        2017342681  2017342681299900          2999                       0   \n",
       "4        2017448789  2017448789299900          2999                       0   \n",
       "...             ...               ...           ...                     ...   \n",
       "399567   2022510783  2022510783240400          2404                       0   \n",
       "399568   2022510866  2022510866240400          2404                       0   \n",
       "399569   2022510341  2022510341250100          2501                       0   \n",
       "399570   2022510188  2022510188260500          2605                       0   \n",
       "399571   2022510146  2022510146260600          2606                       0   \n",
       "\n",
       "                 OFFENSE_TYPE_ID OFFENSE_CATEGORY_ID  FIRST_OCCURRENCE_DATE  \\\n",
       "0        criminal-mischief-other     public-disorder   6/25/2017 8:40:00 PM   \n",
       "1        criminal-mischief-other     public-disorder   5/26/2017 7:00:00 PM   \n",
       "2        criminal-mischief-other     public-disorder   6/27/2017 4:40:00 PM   \n",
       "3        criminal-mischief-other     public-disorder   5/26/2017 7:01:00 PM   \n",
       "4        criminal-mischief-other     public-disorder    7/7/2017 9:48:00 PM   \n",
       "...                          ...                 ...                    ...   \n",
       "399567    theft-of-motor-vehicle          auto-theft   10/2/2022 9:30:00 PM   \n",
       "399568    theft-of-motor-vehicle          auto-theft   10/3/2022 2:15:00 PM   \n",
       "399569            forgery-checks  white-collar-crime   8/3/2022 12:01:00 PM   \n",
       "399570   theft-unauth-use-of-ftd  white-collar-crime  7/17/2022 10:16:00 AM   \n",
       "399571  fraud-nsf-closed-account  white-collar-crime   9/14/2022 4:00:00 PM   \n",
       "\n",
       "         LAST_OCCURRENCE_DATE          REPORTED_DATE      INCIDENT_ADDRESS  \\\n",
       "0                         NaN   6/27/2017 7:01:00 PM       2920 W 32ND AVE   \n",
       "1                         NaN  5/26/2017 11:04:00 PM    13400 E ALBROOK DR   \n",
       "2                         NaN   6/27/2017 5:50:00 PM    1600 BLOCK 16TH ST   \n",
       "3                         NaN  5/26/2017 10:21:00 PM  2200 BLOCK MARKET ST   \n",
       "4                         NaN    7/7/2017 9:48:00 PM       1733 N GROVE ST   \n",
       "...                       ...                    ...                   ...   \n",
       "399567   10/3/2022 6:30:00 AM   10/3/2022 5:33:00 PM           934 16TH ST   \n",
       "399568                    NaN   10/3/2022 6:09:00 PM      4905 N CATHAY ST   \n",
       "399569    9/8/2022 9:01:00 PM  10/3/2022 11:53:00 AM     1551S S ROSLYN ST   \n",
       "399570  10/3/2022 10:16:00 AM  10/3/2022 10:16:00 AM       1727 N PEARL ST   \n",
       "399571                    NaN   9/23/2022 1:45:00 PM     4404 W COLFAX AVE   \n",
       "\n",
       "            GEO_X      GEO_Y     GEO_LON    GEO_LAT DISTRICT_ID  PRECINCT_ID  \\\n",
       "0       3133773.0  1702660.0 -105.024167  39.761646           1          113   \n",
       "1       3185904.0  1709037.0 -104.838576  39.778256           5          521   \n",
       "2       3140436.0  1699005.0 -105.000538  39.751514           6          612   \n",
       "3       3143338.0  1700561.0 -104.990186  39.755741           6          612   \n",
       "4       3132994.0  1696487.0 -105.027052  39.744711           1          121   \n",
       "...           ...        ...         ...        ...         ...          ...   \n",
       "399567  3142109.0  1697318.0 -104.994621  39.746857           6          611   \n",
       "399568  3206327.0  1712283.0 -104.765823  39.786736           5          523   \n",
       "399569  3168587.0  1676396.0 -104.900952  39.688981           3          322   \n",
       "399570  3146166.0  1696259.0 -104.980215  39.743887           6          621   \n",
       "399571  3128140.0  1694785.0 -105.044343  39.740107           1          122   \n",
       "\n",
       "                   NEIGHBORHOOD_ID  IS_CRIME  IS_TRAFFIC  VICTIM_COUNT  \n",
       "0                         highland         1           0             1  \n",
       "1                        montbello         1           0             1  \n",
       "2                    union-station         1           0             1  \n",
       "3                      five-points         1           0             1  \n",
       "4                      west-colfax         1           0             1  \n",
       "...                            ...       ...         ...           ...  \n",
       "399567                         cbd         1           0             1  \n",
       "399568  gateway-green-valley-ranch         1           0             1  \n",
       "399569                indian-creek         1           0             1  \n",
       "399570          north-capitol-hill         1           0             1  \n",
       "399571                 west-colfax         1           0             1  \n",
       "\n",
       "[399572 rows x 20 columns]"
      ]
     },
     "execution_count": 4,
     "metadata": {},
     "output_type": "execute_result"
    }
   ],
   "source": [
    "denver = pd.read_csv(\"../data/external/Denver/crime.csv\", encoding = \"ISO-8859-1\")\n",
    "denver"
   ]
  },
  {
   "cell_type": "code",
   "execution_count": 189,
   "id": "3be1f065",
   "metadata": {},
   "outputs": [
    {
     "data": {
      "text/plain": [
       "Index(['incident_id', 'offense_id', 'OFFENSE_CODE', 'OFFENSE_CODE_EXTENSION',\n",
       "       'OFFENSE_TYPE_ID', 'OFFENSE_CATEGORY_ID', 'FIRST_OCCURRENCE_DATE',\n",
       "       'LAST_OCCURRENCE_DATE', 'REPORTED_DATE', 'INCIDENT_ADDRESS', 'GEO_X',\n",
       "       'GEO_Y', 'GEO_LON', 'GEO_LAT', 'DISTRICT_ID', 'PRECINCT_ID',\n",
       "       'NEIGHBORHOOD_ID', 'IS_CRIME', 'IS_TRAFFIC', 'VICTIM_COUNT'],\n",
       "      dtype='object')"
      ]
     },
     "execution_count": 189,
     "metadata": {},
     "output_type": "execute_result"
    }
   ],
   "source": [
    "denver.columns"
   ]
  },
  {
   "cell_type": "markdown",
   "id": "0fbccadc",
   "metadata": {},
   "source": [
    "## Selecting Fields"
   ]
  },
  {
   "cell_type": "markdown",
   "id": "d3bcc7e0",
   "metadata": {},
   "source": [
    "As you can see, there are lots of NaNs in the LAST_OCCURRENCE_DATE field, some in geographical"
   ]
  },
  {
   "cell_type": "code",
   "execution_count": 241,
   "id": "bae10bba",
   "metadata": {},
   "outputs": [
    {
     "data": {
      "text/plain": [
       "LAST_OCCURRENCE_DATE      48.637042\n",
       "street                     1.406255\n",
       "GEO_LAT                    1.391489\n",
       "GEO_LON                    1.391489\n",
       "GEO_Y                      1.391489\n",
       "GEO_X                      1.391489\n",
       "INCIDENT_ADDRESS           1.391489\n",
       "NEIGHBORHOOD_ID            1.333927\n",
       "DISTRICT_ID                0.365641\n",
       "IS_CRIME                   0.000000\n",
       "month                      0.000000\n",
       "day                        0.000000\n",
       "hour                       0.000000\n",
       "DayOfWeek                  0.000000\n",
       "VICTIM_COUNT               0.000000\n",
       "IS_TRAFFIC                 0.000000\n",
       "year                       0.000000\n",
       "incident_id                0.000000\n",
       "PRECINCT_ID                0.000000\n",
       "offense_id                 0.000000\n",
       "REPORTED_DATE              0.000000\n",
       "FIRST_OCCURRENCE_DATE      0.000000\n",
       "OFFENSE_CATEGORY_ID        0.000000\n",
       "OFFENSE_TYPE_ID            0.000000\n",
       "OFFENSE_CODE_EXTENSION     0.000000\n",
       "OFFENSE_CODE               0.000000\n",
       "str                        0.000000\n",
       "dtype: float64"
      ]
     },
     "execution_count": 241,
     "metadata": {},
     "output_type": "execute_result"
    }
   ],
   "source": [
    "100*denver.isna().sum(axis = 0).sort_values(ascending=False)/denver.shape[0]"
   ]
  },
  {
   "cell_type": "markdown",
   "id": "ad7d7aea",
   "metadata": {},
   "source": [
    "I will drop the LAST_OCCURRENCE_DATE column and all rows with NaNs in the rest. Only 3% of data will be dropped"
   ]
  },
  {
   "cell_type": "code",
   "execution_count": 246,
   "id": "973930d4",
   "metadata": {},
   "outputs": [
    {
     "data": {
      "text/plain": [
       "0.9732588870090997"
      ]
     },
     "execution_count": 246,
     "metadata": {},
     "output_type": "execute_result"
    }
   ],
   "source": [
    "denver.drop(columns=[\"LAST_OCCURRENCE_DATE\"]).dropna().shape[0]/denver.shape[0]"
   ]
  },
  {
   "cell_type": "code",
   "execution_count": 247,
   "id": "cb6c5cd5",
   "metadata": {},
   "outputs": [],
   "source": [
    "denver = denver.drop(columns=[\"LAST_OCCURRENCE_DATE\"]).dropna()"
   ]
  },
  {
   "cell_type": "markdown",
   "id": "9de6074b",
   "metadata": {},
   "source": [
    "### Date"
   ]
  },
  {
   "cell_type": "code",
   "execution_count": 248,
   "id": "c066430d",
   "metadata": {},
   "outputs": [],
   "source": [
    "denver[\"FIRST_OCCURRENCE_DATE\"] = pd.to_datetime(denver[\"FIRST_OCCURRENCE_DATE\"])"
   ]
  },
  {
   "cell_type": "code",
   "execution_count": 249,
   "id": "a292d6f8",
   "metadata": {},
   "outputs": [],
   "source": [
    "denver[\"year\"] = denver[\"FIRST_OCCURRENCE_DATE\"].dt.year\n",
    "denver[\"month\"] = denver[\"FIRST_OCCURRENCE_DATE\"].dt.month\n",
    "denver[\"day\"] = denver[\"FIRST_OCCURRENCE_DATE\"].dt.day\n",
    "denver[\"hour\"] = denver[\"FIRST_OCCURRENCE_DATE\"].dt.hour\n",
    "denver[\"DayOfWeek\"] = denver[\"FIRST_OCCURRENCE_DATE\"].dt.dayofweek"
   ]
  },
  {
   "cell_type": "markdown",
   "id": "1daeb23e",
   "metadata": {},
   "source": [
    "### Address and Streets"
   ]
  },
  {
   "cell_type": "code",
   "execution_count": 251,
   "id": "3a3c3fac",
   "metadata": {},
   "outputs": [
    {
     "data": {
      "text/plain": [
       "1066"
      ]
     },
     "execution_count": 251,
     "metadata": {},
     "output_type": "execute_result"
    }
   ],
   "source": [
    "denver[\"street\"] = denver[\"INCIDENT_ADDRESS\"].str.split(\" \").str.get(-2)\n",
    "denver[\"street\"].drop_duplicates().shape[0]"
   ]
  },
  {
   "cell_type": "code",
   "execution_count": 252,
   "id": "44bb71a0",
   "metadata": {},
   "outputs": [
    {
     "data": {
      "text/plain": [
       "<AxesSubplot: >"
      ]
     },
     "execution_count": 252,
     "metadata": {},
     "output_type": "execute_result"
    },
    {
     "data": {
      "image/png": "[encoded data removed]",
      "text/plain": [
       "<Figure size 640x480 with 1 Axes>"
      ]
     },
     "metadata": {},
     "output_type": "display_data"
    }
   ],
   "source": [
    "denver[\"street\"].value_counts().head(50).plot(kind=\"bar\")"
   ]
  },
  {
   "cell_type": "code",
   "execution_count": 253,
   "id": "48566648",
   "metadata": {},
   "outputs": [],
   "source": [
    "str_counts = denver[\"street\"].value_counts().head(200)\n",
    "denver[\"str\"] = denver.apply(lambda r: \n",
    "                                     r[\"street\"] if r[\"street\"] in str_counts.index else \"other\", axis=1)"
   ]
  },
  {
   "cell_type": "markdown",
   "id": "063c92e7",
   "metadata": {},
   "source": [
    "### Dropping Strange coordinates"
   ]
  },
  {
   "cell_type": "markdown",
   "id": "f1a78bb1",
   "metadata": {},
   "source": [
    "Most of the points have 0.1e7 < GEO_X < 1e7"
   ]
  },
  {
   "cell_type": "code",
   "execution_count": 254,
   "id": "cdfabff0",
   "metadata": {},
   "outputs": [
    {
     "data": {
      "text/plain": [
       "<AxesSubplot: xlabel='GEO_X', ylabel='GEO_Y'>"
      ]
     },
     "execution_count": 254,
     "metadata": {},
     "output_type": "execute_result"
    },
    {
     "data": {
      "image/png": "[encoded data removed]",
      "text/plain": [
       "<Figure size 1400x300 with 3 Axes>"
      ]
     },
     "metadata": {},
     "output_type": "display_data"
    }
   ],
   "source": [
    "fig, axes = plt.subplots(nrows = 1, ncols = 3, figsize = (14, 3))\n",
    "denver[\"GEO_X\"].hist(bins = 100, ax = axes[0])\n",
    "denver[\"GEO_Y\"].hist(bins = 100, ax = axes[1])\n",
    "sns.scatterplot(data = denver, x=\"GEO_X\", y=\"GEO_Y\", ax = axes[2])"
   ]
  },
  {
   "cell_type": "markdown",
   "id": "410effa4",
   "metadata": {},
   "source": [
    "The others seem to have some strange coordinates, so I will drop them"
   ]
  },
  {
   "cell_type": "code",
   "execution_count": 258,
   "id": "7c68a2f6",
   "metadata": {},
   "outputs": [
    {
     "data": {
      "text/html": [
       "<div>\n",
       "<style scoped>\n",
       "    .dataframe tbody tr th:only-of-type {\n",
       "        vertical-align: middle;\n",
       "    }\n",
       "\n",
       "    .dataframe tbody tr th {\n",
       "        vertical-align: top;\n",
       "    }\n",
       "\n",
       "    .dataframe thead th {\n",
       "        text-align: right;\n",
       "    }\n",
       "</style>\n",
       "<table border=\"1\" class=\"dataframe\">\n",
       "  <thead>\n",
       "    <tr style=\"text-align: right;\">\n",
       "      <th></th>\n",
       "      <th>GEO_X</th>\n",
       "      <th>GEO_Y</th>\n",
       "    </tr>\n",
       "  </thead>\n",
       "  <tbody>\n",
       "    <tr>\n",
       "      <th>16149</th>\n",
       "      <td>40674765.0</td>\n",
       "      <td>10890451.0</td>\n",
       "    </tr>\n",
       "    <tr>\n",
       "      <th>24439</th>\n",
       "      <td>40674765.0</td>\n",
       "      <td>10890451.0</td>\n",
       "    </tr>\n",
       "    <tr>\n",
       "      <th>36381</th>\n",
       "      <td>40674765.0</td>\n",
       "      <td>10890451.0</td>\n",
       "    </tr>\n",
       "    <tr>\n",
       "      <th>50572</th>\n",
       "      <td>40674765.0</td>\n",
       "      <td>10890451.0</td>\n",
       "    </tr>\n",
       "    <tr>\n",
       "      <th>53520</th>\n",
       "      <td>40674765.0</td>\n",
       "      <td>10890451.0</td>\n",
       "    </tr>\n",
       "    <tr>\n",
       "      <th>58531</th>\n",
       "      <td>40674765.0</td>\n",
       "      <td>10890451.0</td>\n",
       "    </tr>\n",
       "    <tr>\n",
       "      <th>60714</th>\n",
       "      <td>0.0</td>\n",
       "      <td>0.0</td>\n",
       "    </tr>\n",
       "    <tr>\n",
       "      <th>60727</th>\n",
       "      <td>0.0</td>\n",
       "      <td>0.0</td>\n",
       "    </tr>\n",
       "    <tr>\n",
       "      <th>61455</th>\n",
       "      <td>0.0</td>\n",
       "      <td>0.0</td>\n",
       "    </tr>\n",
       "    <tr>\n",
       "      <th>61935</th>\n",
       "      <td>0.0</td>\n",
       "      <td>0.0</td>\n",
       "    </tr>\n",
       "    <tr>\n",
       "      <th>62510</th>\n",
       "      <td>0.0</td>\n",
       "      <td>0.0</td>\n",
       "    </tr>\n",
       "  </tbody>\n",
       "</table>\n",
       "</div>"
      ],
      "text/plain": [
       "            GEO_X       GEO_Y\n",
       "16149  40674765.0  10890451.0\n",
       "24439  40674765.0  10890451.0\n",
       "36381  40674765.0  10890451.0\n",
       "50572  40674765.0  10890451.0\n",
       "53520  40674765.0  10890451.0\n",
       "58531  40674765.0  10890451.0\n",
       "60714         0.0         0.0\n",
       "60727         0.0         0.0\n",
       "61455         0.0         0.0\n",
       "61935         0.0         0.0\n",
       "62510         0.0         0.0"
      ]
     },
     "execution_count": 258,
     "metadata": {},
     "output_type": "execute_result"
    }
   ],
   "source": [
    "denver.query(\"~(0.1e7<GEO_X<0.5e7)\")[[\"GEO_X\", \"GEO_Y\"]]"
   ]
  },
  {
   "cell_type": "code",
   "execution_count": 259,
   "id": "3cc6e1cb",
   "metadata": {},
   "outputs": [
    {
     "data": {
      "text/plain": [
       "11"
      ]
     },
     "execution_count": 259,
     "metadata": {},
     "output_type": "execute_result"
    }
   ],
   "source": [
    "_.shape[0]"
   ]
  },
  {
   "cell_type": "code",
   "execution_count": 260,
   "id": "057fbd21",
   "metadata": {},
   "outputs": [],
   "source": [
    "denver = denver.query(\"0.1e7<GEO_X<0.5e7\")"
   ]
  },
  {
   "cell_type": "markdown",
   "id": "a2b9b0f0",
   "metadata": {},
   "source": [
    "Here is the scatter plot of the points colored by districts"
   ]
  },
  {
   "cell_type": "code",
   "execution_count": 261,
   "id": "ea54dbb2",
   "metadata": {},
   "outputs": [
    {
     "data": {
      "text/plain": [
       "<AxesSubplot: xlabel='GEO_X', ylabel='GEO_Y'>"
      ]
     },
     "execution_count": 261,
     "metadata": {},
     "output_type": "execute_result"
    },
    {
     "data": {
      "image/png": "[encoded data removed]",
      "text/plain": [
       "<Figure size 640x480 with 1 Axes>"
      ]
     },
     "metadata": {},
     "output_type": "display_data"
    }
   ],
   "source": [
    "sns.scatterplot(x=\"GEO_X\", y=\"GEO_Y\", data=denver[(denver[\"GEO_X\"]<4e7) & (denver[\"GEO_X\"]>0.1e7)], hue = 'DISTRICT_ID')"
   ]
  },
  {
   "cell_type": "code",
   "execution_count": 262,
   "id": "c85170bf",
   "metadata": {},
   "outputs": [
    {
     "data": {
      "text/plain": [
       "Index(['incident_id', 'offense_id', 'OFFENSE_CODE', 'OFFENSE_CODE_EXTENSION',\n",
       "       'OFFENSE_TYPE_ID', 'OFFENSE_CATEGORY_ID', 'FIRST_OCCURRENCE_DATE',\n",
       "       'REPORTED_DATE', 'INCIDENT_ADDRESS', 'GEO_X', 'GEO_Y', 'GEO_LON',\n",
       "       'GEO_LAT', 'DISTRICT_ID', 'PRECINCT_ID', 'NEIGHBORHOOD_ID', 'IS_CRIME',\n",
       "       'IS_TRAFFIC', 'VICTIM_COUNT', 'year', 'month', 'day', 'hour',\n",
       "       'DayOfWeek', 'street', 'str'],\n",
       "      dtype='object')"
      ]
     },
     "execution_count": 262,
     "metadata": {},
     "output_type": "execute_result"
    }
   ],
   "source": [
    "denver.columns"
   ]
  },
  {
   "cell_type": "markdown",
   "id": "c0b8a9fa",
   "metadata": {},
   "source": [
    "There is almost 1-1 correspondence between GEO_X and GEO_LON, GEO_Y and GEO_LAT, so I can drop some of the fields"
   ]
  },
  {
   "cell_type": "code",
   "execution_count": 270,
   "id": "15bd4c40",
   "metadata": {},
   "outputs": [
    {
     "data": {
      "text/plain": [
       "<AxesSubplot: xlabel='GEO_Y', ylabel='GEO_LAT'>"
      ]
     },
     "execution_count": 270,
     "metadata": {},
     "output_type": "execute_result"
    },
    {
     "data": {
      "image/png": "[encoded data removed]",
      "text/plain": [
       "<Figure size 1000x300 with 2 Axes>"
      ]
     },
     "metadata": {},
     "output_type": "display_data"
    }
   ],
   "source": [
    "fig, axes = plt.subplots(nrows = 1, ncols = 2, figsize = (10, 3))\n",
    "sns.scatterplot(data = denver, x=\"GEO_X\", y=\"GEO_LON\", ax = axes[0])\n",
    "sns.scatterplot(data = denver, x=\"GEO_Y\", y=\"GEO_LAT\", ax = axes[1])"
   ]
  },
  {
   "cell_type": "code",
   "execution_count": 272,
   "id": "7c1c194f",
   "metadata": {},
   "outputs": [
    {
     "data": {
      "text/plain": [
       "Index(['incident_id', 'offense_id', 'OFFENSE_CODE', 'OFFENSE_CODE_EXTENSION',\n",
       "       'OFFENSE_TYPE_ID', 'OFFENSE_CATEGORY_ID', 'FIRST_OCCURRENCE_DATE',\n",
       "       'REPORTED_DATE', 'INCIDENT_ADDRESS', 'GEO_X', 'GEO_Y', 'DISTRICT_ID',\n",
       "       'PRECINCT_ID', 'NEIGHBORHOOD_ID', 'IS_CRIME', 'IS_TRAFFIC',\n",
       "       'VICTIM_COUNT', 'year', 'month', 'day', 'hour', 'DayOfWeek', 'street',\n",
       "       'str'],\n",
       "      dtype='object')"
      ]
     },
     "execution_count": 272,
     "metadata": {},
     "output_type": "execute_result"
    }
   ],
   "source": [
    "denver = denver.drop(columns = [\"GEO_LON\", \"GEO_LAT\"])\n",
    "denver.columns"
   ]
  },
  {
   "cell_type": "markdown",
   "id": "486c03e8",
   "metadata": {},
   "source": [
    "### Crime Categories"
   ]
  },
  {
   "cell_type": "code",
   "execution_count": 298,
   "id": "20376ccf",
   "metadata": {},
   "outputs": [
    {
     "data": {
      "text/html": [
       "<div>\n",
       "<style scoped>\n",
       "    .dataframe tbody tr th:only-of-type {\n",
       "        vertical-align: middle;\n",
       "    }\n",
       "\n",
       "    .dataframe tbody tr th {\n",
       "        vertical-align: top;\n",
       "    }\n",
       "\n",
       "    .dataframe thead th {\n",
       "        text-align: right;\n",
       "    }\n",
       "</style>\n",
       "<table border=\"1\" class=\"dataframe\">\n",
       "  <thead>\n",
       "    <tr style=\"text-align: right;\">\n",
       "      <th></th>\n",
       "      <th>incident_id</th>\n",
       "      <th>offense_id</th>\n",
       "      <th>OFFENSE_CODE</th>\n",
       "      <th>OFFENSE_CODE_EXTENSION</th>\n",
       "      <th>OFFENSE_TYPE_ID</th>\n",
       "      <th>OFFENSE_CATEGORY_ID</th>\n",
       "    </tr>\n",
       "  </thead>\n",
       "  <tbody>\n",
       "    <tr>\n",
       "      <th>0</th>\n",
       "      <td>2017421909</td>\n",
       "      <td>2017421909299900</td>\n",
       "      <td>2999</td>\n",
       "      <td>0</td>\n",
       "      <td>criminal-mischief-other</td>\n",
       "      <td>public-disorder</td>\n",
       "    </tr>\n",
       "    <tr>\n",
       "      <th>1</th>\n",
       "      <td>2017342682</td>\n",
       "      <td>2017342682299900</td>\n",
       "      <td>2999</td>\n",
       "      <td>0</td>\n",
       "      <td>criminal-mischief-other</td>\n",
       "      <td>public-disorder</td>\n",
       "    </tr>\n",
       "    <tr>\n",
       "      <th>2</th>\n",
       "      <td>2017421829</td>\n",
       "      <td>2017421829299900</td>\n",
       "      <td>2999</td>\n",
       "      <td>0</td>\n",
       "      <td>criminal-mischief-other</td>\n",
       "      <td>public-disorder</td>\n",
       "    </tr>\n",
       "    <tr>\n",
       "      <th>3</th>\n",
       "      <td>2017342681</td>\n",
       "      <td>2017342681299900</td>\n",
       "      <td>2999</td>\n",
       "      <td>0</td>\n",
       "      <td>criminal-mischief-other</td>\n",
       "      <td>public-disorder</td>\n",
       "    </tr>\n",
       "    <tr>\n",
       "      <th>4</th>\n",
       "      <td>2017448789</td>\n",
       "      <td>2017448789299900</td>\n",
       "      <td>2999</td>\n",
       "      <td>0</td>\n",
       "      <td>criminal-mischief-other</td>\n",
       "      <td>public-disorder</td>\n",
       "    </tr>\n",
       "    <tr>\n",
       "      <th>...</th>\n",
       "      <td>...</td>\n",
       "      <td>...</td>\n",
       "      <td>...</td>\n",
       "      <td>...</td>\n",
       "      <td>...</td>\n",
       "      <td>...</td>\n",
       "    </tr>\n",
       "    <tr>\n",
       "      <th>399567</th>\n",
       "      <td>2022510783</td>\n",
       "      <td>2022510783240400</td>\n",
       "      <td>2404</td>\n",
       "      <td>0</td>\n",
       "      <td>theft-of-motor-vehicle</td>\n",
       "      <td>auto-theft</td>\n",
       "    </tr>\n",
       "    <tr>\n",
       "      <th>399568</th>\n",
       "      <td>2022510866</td>\n",
       "      <td>2022510866240400</td>\n",
       "      <td>2404</td>\n",
       "      <td>0</td>\n",
       "      <td>theft-of-motor-vehicle</td>\n",
       "      <td>auto-theft</td>\n",
       "    </tr>\n",
       "    <tr>\n",
       "      <th>399569</th>\n",
       "      <td>2022510341</td>\n",
       "      <td>2022510341250100</td>\n",
       "      <td>2501</td>\n",
       "      <td>0</td>\n",
       "      <td>forgery-checks</td>\n",
       "      <td>white-collar-crime</td>\n",
       "    </tr>\n",
       "    <tr>\n",
       "      <th>399570</th>\n",
       "      <td>2022510188</td>\n",
       "      <td>2022510188260500</td>\n",
       "      <td>2605</td>\n",
       "      <td>0</td>\n",
       "      <td>theft-unauth-use-of-ftd</td>\n",
       "      <td>white-collar-crime</td>\n",
       "    </tr>\n",
       "    <tr>\n",
       "      <th>399571</th>\n",
       "      <td>2022510146</td>\n",
       "      <td>2022510146260600</td>\n",
       "      <td>2606</td>\n",
       "      <td>0</td>\n",
       "      <td>fraud-nsf-closed-account</td>\n",
       "      <td>white-collar-crime</td>\n",
       "    </tr>\n",
       "  </tbody>\n",
       "</table>\n",
       "<p>388876 rows × 6 columns</p>\n",
       "</div>"
      ],
      "text/plain": [
       "        incident_id        offense_id  OFFENSE_CODE  OFFENSE_CODE_EXTENSION  \\\n",
       "0        2017421909  2017421909299900          2999                       0   \n",
       "1        2017342682  2017342682299900          2999                       0   \n",
       "2        2017421829  2017421829299900          2999                       0   \n",
       "3        2017342681  2017342681299900          2999                       0   \n",
       "4        2017448789  2017448789299900          2999                       0   \n",
       "...             ...               ...           ...                     ...   \n",
       "399567   2022510783  2022510783240400          2404                       0   \n",
       "399568   2022510866  2022510866240400          2404                       0   \n",
       "399569   2022510341  2022510341250100          2501                       0   \n",
       "399570   2022510188  2022510188260500          2605                       0   \n",
       "399571   2022510146  2022510146260600          2606                       0   \n",
       "\n",
       "                 OFFENSE_TYPE_ID OFFENSE_CATEGORY_ID  \n",
       "0        criminal-mischief-other     public-disorder  \n",
       "1        criminal-mischief-other     public-disorder  \n",
       "2        criminal-mischief-other     public-disorder  \n",
       "3        criminal-mischief-other     public-disorder  \n",
       "4        criminal-mischief-other     public-disorder  \n",
       "...                          ...                 ...  \n",
       "399567    theft-of-motor-vehicle          auto-theft  \n",
       "399568    theft-of-motor-vehicle          auto-theft  \n",
       "399569            forgery-checks  white-collar-crime  \n",
       "399570   theft-unauth-use-of-ftd  white-collar-crime  \n",
       "399571  fraud-nsf-closed-account  white-collar-crime  \n",
       "\n",
       "[388876 rows x 6 columns]"
      ]
     },
     "execution_count": 298,
     "metadata": {},
     "output_type": "execute_result"
    }
   ],
   "source": [
    "denver[[\"incident_id\", \"offense_id\", \"OFFENSE_CODE\", \"OFFENSE_CODE_EXTENSION\", \"OFFENSE_TYPE_ID\", \"OFFENSE_CATEGORY_ID\"]]"
   ]
  },
  {
   "cell_type": "markdown",
   "id": "626ed94d",
   "metadata": {},
   "source": [
    "As you can see, **offense_id** is combination of incident_id, OFFENSE_CODE, OFFENSE_CODE_EXTENSION, so I will drop "
   ]
  },
  {
   "cell_type": "code",
   "execution_count": 309,
   "id": "b3cf9700",
   "metadata": {},
   "outputs": [
    {
     "data": {
      "text/plain": [
       "True"
      ]
     },
     "execution_count": 309,
     "metadata": {},
     "output_type": "execute_result"
    }
   ],
   "source": [
    "np.all(\n",
    "   10**6*denver[\"incident_id\"] + 10**2*denver[\"OFFENSE_CODE\"] + denver[\"OFFENSE_CODE_EXTENSION\"] == denver[\"offense_id\"]\n",
    ")"
   ]
  },
  {
   "cell_type": "code",
   "execution_count": 310,
   "id": "5c30b706",
   "metadata": {},
   "outputs": [],
   "source": [
    "denver = denver.drop(columns=[\"offense_id\"])"
   ]
  },
  {
   "cell_type": "markdown",
   "id": "c671a1d1",
   "metadata": {},
   "source": [
    "Number of distinct incident_id values is huge, so I drop it too"
   ]
  },
  {
   "cell_type": "code",
   "execution_count": 313,
   "id": "c6045f1e",
   "metadata": {},
   "outputs": [
    {
     "data": {
      "text/plain": [
       "0.9259738322755839"
      ]
     },
     "execution_count": 313,
     "metadata": {},
     "output_type": "execute_result"
    }
   ],
   "source": [
    "denver[\"incident_id\"].drop_duplicates().shape[0]/denver.shape[0]"
   ]
  },
  {
   "cell_type": "code",
   "execution_count": 314,
   "id": "29968f64",
   "metadata": {},
   "outputs": [],
   "source": [
    "denver = denver.drop(columns = [\"incident_id\"])"
   ]
  },
  {
   "cell_type": "code",
   "execution_count": 315,
   "id": "535ef277",
   "metadata": {},
   "outputs": [
    {
     "data": {
      "text/plain": [
       "0         0\n",
       "2407      1\n",
       "5187      2\n",
       "21910     3\n",
       "21949     4\n",
       "53576     5\n",
       "377534    6\n",
       "Name: OFFENSE_CODE_EXTENSION, dtype: int64"
      ]
     },
     "execution_count": 315,
     "metadata": {},
     "output_type": "execute_result"
    }
   ],
   "source": [
    "denver[\"OFFENSE_CODE_EXTENSION\"].drop_duplicates()"
   ]
  },
  {
   "cell_type": "markdown",
   "id": "f78092f5",
   "metadata": {},
   "source": [
    "It is probably better to leave only OFFENSE_CATEGORY_ID and make conclusion about the violence using it"
   ]
  },
  {
   "cell_type": "code",
   "execution_count": 317,
   "id": "71ab48b1",
   "metadata": {},
   "outputs": [
    {
     "data": {
      "text/plain": [
       "0                     public-disorder\n",
       "5732                     drug-alcohol\n",
       "10336    other-crimes-against-persons\n",
       "10531                all-other-crimes\n",
       "23256                          murder\n",
       "24126                         robbery\n",
       "29862              aggravated-assault\n",
       "32983                           arson\n",
       "33119                        burglary\n",
       "37545                         larceny\n",
       "40050        theft-from-motor-vehicle\n",
       "53572                      auto-theft\n",
       "59085              white-collar-crime\n",
       "Name: OFFENSE_CATEGORY_ID, dtype: object"
      ]
     },
     "execution_count": 317,
     "metadata": {},
     "output_type": "execute_result"
    }
   ],
   "source": [
    "denver[\"OFFENSE_CATEGORY_ID\"].drop_duplicates()"
   ]
  },
  {
   "cell_type": "code",
   "execution_count": 318,
   "id": "bb969790",
   "metadata": {},
   "outputs": [
    {
     "data": {
      "text/plain": [
       "Index(['OFFENSE_CODE', 'OFFENSE_CODE_EXTENSION', 'OFFENSE_TYPE_ID',\n",
       "       'OFFENSE_CATEGORY_ID', 'FIRST_OCCURRENCE_DATE', 'REPORTED_DATE',\n",
       "       'INCIDENT_ADDRESS', 'GEO_X', 'GEO_Y', 'DISTRICT_ID', 'PRECINCT_ID',\n",
       "       'NEIGHBORHOOD_ID', 'IS_CRIME', 'IS_TRAFFIC', 'VICTIM_COUNT', 'year',\n",
       "       'month', 'day', 'hour', 'DayOfWeek', 'street', 'str'],\n",
       "      dtype='object')"
      ]
     },
     "execution_count": 318,
     "metadata": {},
     "output_type": "execute_result"
    }
   ],
   "source": [
    "denver.columns"
   ]
  },
  {
   "cell_type": "code",
   "execution_count": 320,
   "id": "9f0a177a",
   "metadata": {},
   "outputs": [
    {
     "data": {
      "text/plain": [
       "Index(['OFFENSE_CATEGORY_ID', 'FIRST_OCCURRENCE_DATE', 'REPORTED_DATE',\n",
       "       'INCIDENT_ADDRESS', 'GEO_X', 'GEO_Y', 'DISTRICT_ID', 'PRECINCT_ID',\n",
       "       'NEIGHBORHOOD_ID', 'IS_CRIME', 'IS_TRAFFIC', 'VICTIM_COUNT', 'year',\n",
       "       'month', 'day', 'hour', 'DayOfWeek', 'street', 'str'],\n",
       "      dtype='object')"
      ]
     },
     "execution_count": 320,
     "metadata": {},
     "output_type": "execute_result"
    }
   ],
   "source": [
    "denver = denver.drop(columns = ['OFFENSE_CODE', 'OFFENSE_CODE_EXTENSION', 'OFFENSE_TYPE_ID'])\n",
    "denver.columns"
   ]
  },
  {
   "cell_type": "markdown",
   "id": "a0a925ce",
   "metadata": {},
   "source": [
    "I also do not need some other fields"
   ]
  },
  {
   "cell_type": "code",
   "execution_count": 321,
   "id": "f018bbf0",
   "metadata": {},
   "outputs": [
    {
     "data": {
      "text/plain": [
       "Index(['OFFENSE_CATEGORY_ID', 'FIRST_OCCURRENCE_DATE', 'REPORTED_DATE',\n",
       "       'INCIDENT_ADDRESS', 'GEO_X', 'GEO_Y', 'DISTRICT_ID', 'PRECINCT_ID',\n",
       "       'NEIGHBORHOOD_ID', 'year', 'month', 'day', 'hour', 'DayOfWeek',\n",
       "       'street', 'str'],\n",
       "      dtype='object')"
      ]
     },
     "execution_count": 321,
     "metadata": {},
     "output_type": "execute_result"
    }
   ],
   "source": [
    "denver = denver.drop(columns = [\"IS_CRIME\", 'IS_TRAFFIC', 'VICTIM_COUNT'])\n",
    "denver.columns"
   ]
  },
  {
   "cell_type": "code",
   "execution_count": 322,
   "id": "29389f27",
   "metadata": {},
   "outputs": [
    {
     "data": {
      "text/plain": [
       "Index(['OFFENSE_CATEGORY_ID', 'INCIDENT_ADDRESS', 'GEO_X', 'GEO_Y',\n",
       "       'DISTRICT_ID', 'PRECINCT_ID', 'NEIGHBORHOOD_ID', 'year', 'month', 'day',\n",
       "       'hour', 'DayOfWeek', 'street', 'str'],\n",
       "      dtype='object')"
      ]
     },
     "execution_count": 322,
     "metadata": {},
     "output_type": "execute_result"
    }
   ],
   "source": [
    "denver = denver.drop(columns = ['FIRST_OCCURRENCE_DATE', 'REPORTED_DATE',])\n",
    "denver.columns"
   ]
  },
  {
   "cell_type": "markdown",
   "id": "7e8e6187",
   "metadata": {},
   "source": [
    "### Selecting Violents"
   ]
  },
  {
   "cell_type": "code",
   "execution_count": 325,
   "id": "620313cd",
   "metadata": {},
   "outputs": [
    {
     "data": {
      "text/plain": [
       "theft-from-motor-vehicle        58615\n",
       "public-disorder                 58065\n",
       "all-other-crimes                55962\n",
       "larceny                         55925\n",
       "auto-theft                      48937\n",
       "burglary                        27470\n",
       "other-crimes-against-persons    26200\n",
       "drug-alcohol                    25256\n",
       "aggravated-assault              17053\n",
       "robbery                          7131\n",
       "white-collar-crime               7013\n",
       "arson                             838\n",
       "murder                            411\n",
       "Name: OFFENSE_CATEGORY_ID, dtype: int64"
      ]
     },
     "execution_count": 325,
     "metadata": {},
     "output_type": "execute_result"
    }
   ],
   "source": [
    "denver_cat_sums = denver[\"OFFENSE_CATEGORY_ID\"].value_counts()\n",
    "denver_cat_sums"
   ]
  },
  {
   "cell_type": "code",
   "execution_count": 339,
   "id": "bde33595",
   "metadata": {},
   "outputs": [
    {
     "name": "stdout",
     "output_type": "stream",
     "text": [
      "Violent:  149002  vs NonViolent  239874  n_v/n_nv= 0.621167779751036\n"
     ]
    }
   ],
   "source": [
    "denver_violent_list = [\"public-disorder\", \"burglary\", \"robbery\", \"larceny\", \"murder\"]\n",
    "denver_nonviolent_list = [c for c in denver_cat_sums.index if not c in denver_violent_list]\n",
    "n_v = denver_cat_sums[denver_violent_list].sum()\n",
    "n_nv = denver_cat_sums[denver_nonviolent_list].sum()\n",
    "print(\"Violent: \", n_v, \" vs NonViolent \", n_nv, \" n_v/n_nv=\", n_v/n_nv)"
   ]
  },
  {
   "cell_type": "code",
   "execution_count": 341,
   "id": "16780617",
   "metadata": {},
   "outputs": [],
   "source": [
    "denver[\"violent\"] = denver[\"OFFENSE_CATEGORY_ID\"].isin(denver_violent_list)"
   ]
  },
  {
   "cell_type": "code",
   "execution_count": 342,
   "id": "b66820e9",
   "metadata": {},
   "outputs": [
    {
     "data": {
      "text/plain": [
       "OFFENSE_CATEGORY_ID     object\n",
       "INCIDENT_ADDRESS        object\n",
       "GEO_X                  float64\n",
       "GEO_Y                  float64\n",
       "DISTRICT_ID             object\n",
       "PRECINCT_ID              int64\n",
       "NEIGHBORHOOD_ID         object\n",
       "year                     int64\n",
       "month                    int64\n",
       "day                      int64\n",
       "hour                     int64\n",
       "DayOfWeek                int64\n",
       "street                  object\n",
       "str                     object\n",
       "violent                   bool\n",
       "dtype: object"
      ]
     },
     "execution_count": 342,
     "metadata": {},
     "output_type": "execute_result"
    }
   ],
   "source": [
    "denver.dtypes"
   ]
  },
  {
   "cell_type": "markdown",
   "id": "6ff33eec",
   "metadata": {},
   "source": [
    "### Saving"
   ]
  },
  {
   "cell_type": "code",
   "execution_count": 345,
   "id": "48fe71f6",
   "metadata": {},
   "outputs": [],
   "source": [
    "denver.to_csv(\"../data/cleaned_data/denver.csv\")"
   ]
  },
  {
   "cell_type": "markdown",
   "id": "3a6cc47d-d5b4-42b3-9108-9bab4bf57dc0",
   "metadata": {},
   "source": [
    "# Philadelphia "
   ]
  },
  {
   "cell_type": "code",
   "execution_count": 5,
   "id": "22743396-1f5a-4eef-86f6-2795d393fc4b",
   "metadata": {},
   "outputs": [
    {
     "data": {
      "text/html": [
       "<div>\n",
       "<style scoped>\n",
       "    .dataframe tbody tr th:only-of-type {\n",
       "        vertical-align: middle;\n",
       "    }\n",
       "\n",
       "    .dataframe tbody tr th {\n",
       "        vertical-align: top;\n",
       "    }\n",
       "\n",
       "    .dataframe thead th {\n",
       "        text-align: right;\n",
       "    }\n",
       "</style>\n",
       "<table border=\"1\" class=\"dataframe\">\n",
       "  <thead>\n",
       "    <tr style=\"text-align: right;\">\n",
       "      <th></th>\n",
       "      <th>Dc_Dist</th>\n",
       "      <th>Psa</th>\n",
       "      <th>Dispatch_Date_Time</th>\n",
       "      <th>Dispatch_Date</th>\n",
       "      <th>Dispatch_Time</th>\n",
       "      <th>Hour</th>\n",
       "      <th>Dc_Key</th>\n",
       "      <th>Location_Block</th>\n",
       "      <th>UCR_General</th>\n",
       "      <th>Text_General_Code</th>\n",
       "      <th>Police_Districts</th>\n",
       "      <th>Month</th>\n",
       "      <th>Lon</th>\n",
       "      <th>Lat</th>\n",
       "    </tr>\n",
       "  </thead>\n",
       "  <tbody>\n",
       "    <tr>\n",
       "      <th>0</th>\n",
       "      <td>18</td>\n",
       "      <td>3</td>\n",
       "      <td>2009-10-02 14:24:00</td>\n",
       "      <td>2009-10-02</td>\n",
       "      <td>14:24:00</td>\n",
       "      <td>14</td>\n",
       "      <td>200918067518</td>\n",
       "      <td>S 38TH ST  / MARKETUT ST</td>\n",
       "      <td>800.0</td>\n",
       "      <td>Other Assaults</td>\n",
       "      <td>NaN</td>\n",
       "      <td>2009-10</td>\n",
       "      <td>NaN</td>\n",
       "      <td>NaN</td>\n",
       "    </tr>\n",
       "    <tr>\n",
       "      <th>1</th>\n",
       "      <td>14</td>\n",
       "      <td>1</td>\n",
       "      <td>2009-05-10 00:55:00</td>\n",
       "      <td>2009-05-10</td>\n",
       "      <td>00:55:00</td>\n",
       "      <td>0</td>\n",
       "      <td>200914033994</td>\n",
       "      <td>8500 BLOCK MITCH</td>\n",
       "      <td>2600.0</td>\n",
       "      <td>All Other Offenses</td>\n",
       "      <td>NaN</td>\n",
       "      <td>2009-05</td>\n",
       "      <td>NaN</td>\n",
       "      <td>NaN</td>\n",
       "    </tr>\n",
       "    <tr>\n",
       "      <th>2</th>\n",
       "      <td>25</td>\n",
       "      <td>J</td>\n",
       "      <td>2009-08-07 15:40:00</td>\n",
       "      <td>2009-08-07</td>\n",
       "      <td>15:40:00</td>\n",
       "      <td>15</td>\n",
       "      <td>200925083199</td>\n",
       "      <td>6TH CAMBRIA</td>\n",
       "      <td>800.0</td>\n",
       "      <td>Other Assaults</td>\n",
       "      <td>NaN</td>\n",
       "      <td>2009-08</td>\n",
       "      <td>NaN</td>\n",
       "      <td>NaN</td>\n",
       "    </tr>\n",
       "    <tr>\n",
       "      <th>3</th>\n",
       "      <td>35</td>\n",
       "      <td>D</td>\n",
       "      <td>2009-07-19 01:09:00</td>\n",
       "      <td>2009-07-19</td>\n",
       "      <td>01:09:00</td>\n",
       "      <td>1</td>\n",
       "      <td>200935061008</td>\n",
       "      <td>5500 BLOCK N 5TH ST</td>\n",
       "      <td>1500.0</td>\n",
       "      <td>Weapon Violations</td>\n",
       "      <td>20.0</td>\n",
       "      <td>2009-07</td>\n",
       "      <td>-75.130477</td>\n",
       "      <td>40.036389</td>\n",
       "    </tr>\n",
       "    <tr>\n",
       "      <th>4</th>\n",
       "      <td>9</td>\n",
       "      <td>R</td>\n",
       "      <td>2009-06-25 00:14:00</td>\n",
       "      <td>2009-06-25</td>\n",
       "      <td>00:14:00</td>\n",
       "      <td>0</td>\n",
       "      <td>200909030511</td>\n",
       "      <td>1800 BLOCK WYLIE ST</td>\n",
       "      <td>2600.0</td>\n",
       "      <td>All Other Offenses</td>\n",
       "      <td>8.0</td>\n",
       "      <td>2009-06</td>\n",
       "      <td>-75.166350</td>\n",
       "      <td>39.969532</td>\n",
       "    </tr>\n",
       "    <tr>\n",
       "      <th>...</th>\n",
       "      <td>...</td>\n",
       "      <td>...</td>\n",
       "      <td>...</td>\n",
       "      <td>...</td>\n",
       "      <td>...</td>\n",
       "      <td>...</td>\n",
       "      <td>...</td>\n",
       "      <td>...</td>\n",
       "      <td>...</td>\n",
       "      <td>...</td>\n",
       "      <td>...</td>\n",
       "      <td>...</td>\n",
       "      <td>...</td>\n",
       "      <td>...</td>\n",
       "    </tr>\n",
       "    <tr>\n",
       "      <th>2237600</th>\n",
       "      <td>1</td>\n",
       "      <td>1</td>\n",
       "      <td>2017-01-17 09:13:00</td>\n",
       "      <td>2017-01-17</td>\n",
       "      <td>09:13:00</td>\n",
       "      <td>9</td>\n",
       "      <td>201701002678</td>\n",
       "      <td>2100 BLOCK S BROAD ST</td>\n",
       "      <td>2600.0</td>\n",
       "      <td>All Other Offenses</td>\n",
       "      <td>1.0</td>\n",
       "      <td>2017-01</td>\n",
       "      <td>-75.169992</td>\n",
       "      <td>39.923556</td>\n",
       "    </tr>\n",
       "    <tr>\n",
       "      <th>2237601</th>\n",
       "      <td>16</td>\n",
       "      <td>1</td>\n",
       "      <td>2017-01-17 22:35:00</td>\n",
       "      <td>2017-01-17</td>\n",
       "      <td>22:35:00</td>\n",
       "      <td>22</td>\n",
       "      <td>201716002117</td>\n",
       "      <td>N 38TH ST / WALLACE ST</td>\n",
       "      <td>2600.0</td>\n",
       "      <td>All Other Offenses</td>\n",
       "      <td>12.0</td>\n",
       "      <td>2017-01</td>\n",
       "      <td>-75.197627</td>\n",
       "      <td>39.964593</td>\n",
       "    </tr>\n",
       "    <tr>\n",
       "      <th>2237602</th>\n",
       "      <td>16</td>\n",
       "      <td>1</td>\n",
       "      <td>2017-01-17 22:35:00</td>\n",
       "      <td>2017-01-17</td>\n",
       "      <td>22:35:00</td>\n",
       "      <td>22</td>\n",
       "      <td>201716002118</td>\n",
       "      <td>N 38TH ST / WALLACE ST</td>\n",
       "      <td>2600.0</td>\n",
       "      <td>All Other Offenses</td>\n",
       "      <td>12.0</td>\n",
       "      <td>2017-01</td>\n",
       "      <td>-75.197627</td>\n",
       "      <td>39.964593</td>\n",
       "    </tr>\n",
       "    <tr>\n",
       "      <th>2237603</th>\n",
       "      <td>19</td>\n",
       "      <td>2</td>\n",
       "      <td>2017-01-18 01:23:00</td>\n",
       "      <td>2017-01-18</td>\n",
       "      <td>01:23:00</td>\n",
       "      <td>1</td>\n",
       "      <td>201719004939</td>\n",
       "      <td>6000 BLOCK HAVERFORD AV</td>\n",
       "      <td>2600.0</td>\n",
       "      <td>All Other Offenses</td>\n",
       "      <td>15.0</td>\n",
       "      <td>2017-01</td>\n",
       "      <td>-75.240163</td>\n",
       "      <td>39.970507</td>\n",
       "    </tr>\n",
       "    <tr>\n",
       "      <th>2237604</th>\n",
       "      <td>16</td>\n",
       "      <td>1</td>\n",
       "      <td>2017-01-17 16:20:00</td>\n",
       "      <td>2017-01-17</td>\n",
       "      <td>16:20:00</td>\n",
       "      <td>16</td>\n",
       "      <td>201716002057</td>\n",
       "      <td>N 34TH ST / LANCASTER AV</td>\n",
       "      <td>800.0</td>\n",
       "      <td>Other Assaults</td>\n",
       "      <td>12.0</td>\n",
       "      <td>2017-01</td>\n",
       "      <td>-75.191173</td>\n",
       "      <td>39.957305</td>\n",
       "    </tr>\n",
       "  </tbody>\n",
       "</table>\n",
       "<p>2237605 rows × 14 columns</p>\n",
       "</div>"
      ],
      "text/plain": [
       "         Dc_Dist Psa   Dispatch_Date_Time Dispatch_Date Dispatch_Time  Hour  \\\n",
       "0             18   3  2009-10-02 14:24:00    2009-10-02      14:24:00    14   \n",
       "1             14   1  2009-05-10 00:55:00    2009-05-10      00:55:00     0   \n",
       "2             25   J  2009-08-07 15:40:00    2009-08-07      15:40:00    15   \n",
       "3             35   D  2009-07-19 01:09:00    2009-07-19      01:09:00     1   \n",
       "4              9   R  2009-06-25 00:14:00    2009-06-25      00:14:00     0   \n",
       "...          ...  ..                  ...           ...           ...   ...   \n",
       "2237600        1   1  2017-01-17 09:13:00    2017-01-17      09:13:00     9   \n",
       "2237601       16   1  2017-01-17 22:35:00    2017-01-17      22:35:00    22   \n",
       "2237602       16   1  2017-01-17 22:35:00    2017-01-17      22:35:00    22   \n",
       "2237603       19   2  2017-01-18 01:23:00    2017-01-18      01:23:00     1   \n",
       "2237604       16   1  2017-01-17 16:20:00    2017-01-17      16:20:00    16   \n",
       "\n",
       "               Dc_Key            Location_Block  UCR_General  \\\n",
       "0        200918067518  S 38TH ST  / MARKETUT ST        800.0   \n",
       "1        200914033994          8500 BLOCK MITCH       2600.0   \n",
       "2        200925083199               6TH CAMBRIA        800.0   \n",
       "3        200935061008       5500 BLOCK N 5TH ST       1500.0   \n",
       "4        200909030511       1800 BLOCK WYLIE ST       2600.0   \n",
       "...               ...                       ...          ...   \n",
       "2237600  201701002678     2100 BLOCK S BROAD ST       2600.0   \n",
       "2237601  201716002117    N 38TH ST / WALLACE ST       2600.0   \n",
       "2237602  201716002118    N 38TH ST / WALLACE ST       2600.0   \n",
       "2237603  201719004939   6000 BLOCK HAVERFORD AV       2600.0   \n",
       "2237604  201716002057  N 34TH ST / LANCASTER AV        800.0   \n",
       "\n",
       "          Text_General_Code  Police_Districts    Month        Lon        Lat  \n",
       "0            Other Assaults               NaN  2009-10        NaN        NaN  \n",
       "1        All Other Offenses               NaN  2009-05        NaN        NaN  \n",
       "2            Other Assaults               NaN  2009-08        NaN        NaN  \n",
       "3         Weapon Violations              20.0  2009-07 -75.130477  40.036389  \n",
       "4        All Other Offenses               8.0  2009-06 -75.166350  39.969532  \n",
       "...                     ...               ...      ...        ...        ...  \n",
       "2237600  All Other Offenses               1.0  2017-01 -75.169992  39.923556  \n",
       "2237601  All Other Offenses              12.0  2017-01 -75.197627  39.964593  \n",
       "2237602  All Other Offenses              12.0  2017-01 -75.197627  39.964593  \n",
       "2237603  All Other Offenses              15.0  2017-01 -75.240163  39.970507  \n",
       "2237604      Other Assaults              12.0  2017-01 -75.191173  39.957305  \n",
       "\n",
       "[2237605 rows x 14 columns]"
      ]
     },
     "execution_count": 5,
     "metadata": {},
     "output_type": "execute_result"
    }
   ],
   "source": [
    "phil_data = pd.read_csv(\"../data/external/Philadelphia.csv\")\n",
    "phil_data"
   ]
  },
  {
   "cell_type": "code",
   "execution_count": null,
   "id": "577f0f0f-34b3-4579-996a-31e8f5176343",
   "metadata": {},
   "outputs": [],
   "source": []
  }
 ],
 "metadata": {
  "kernelspec": {
   "display_name": "Python 3 (ipykernel)",
   "language": "python",
   "name": "python3"
  },
  "language_info": {
   "codemirror_mode": {
    "name": "ipython",
    "version": 3
   },
   "file_extension": ".py",
   "mimetype": "text/x-python",
   "name": "python",
   "nbconvert_exporter": "python",
   "pygments_lexer": "ipython3",
   "version": "3.11.0"
  }
 },
 "nbformat": 4,
 "nbformat_minor": 5
}
