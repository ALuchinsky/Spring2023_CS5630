{
 "cells": [
  {
   "cell_type": "code",
   "execution_count": 1,
   "id": "ff5ac444",
   "metadata": {},
   "outputs": [],
   "source": [
    "import pandas as pd\n",
    "from sklearn.model_selection import train_test_split\n",
    "from sklearn.naive_bayes import GaussianNB, BernoulliNB, MultinomialNB, CategoricalNB\n",
    "import sklearn.naive_bayes\n",
    "import sklearn.metrics as metrics\n",
    "from sklearn.metrics import confusion_matrix, ConfusionMatrixDisplay, accuracy_score\n",
    "import numpy as np\n",
    "import matplotlib.pyplot as plt"
   ]
  },
  {
   "cell_type": "code",
   "execution_count": 2,
   "id": "da9e4fa5",
   "metadata": {},
   "outputs": [],
   "source": [
    "def all_metrics(y_true, y_pred):\n",
    "    print(\"accuracy:\\t{:.3f}\".format(metrics.accuracy_score(y_true, y_pred)))\n",
    "    print(\"sensitivity: \\t{:.3f}\".format(metrics.recall_score(y_true, y_pred)))\n",
    "    print(\"specificity: \\t{:.3f}\".format(metrics.recall_score(y_true, y_pred, pos_label=0)))\n",
    "    print(\"kappa:    \\t{:.3f}\".format(metrics.cohen_kappa_score(y_true, y_pred)))"
   ]
  },
  {
   "cell_type": "code",
   "execution_count": 54,
   "id": "9e1ea927-cd12-49c4-9748-c8b7b4cd9bac",
   "metadata": {},
   "outputs": [],
   "source": [
    "def all_metrics_tex(y_true, y_pred):\n",
    "    def format_print(name, function, quad = True):\n",
    "            print(r\"\\mathrm{\",name,\"}:\",\" {:.3f}\".format(function(y_true, y_pred)),\",\\\\quad\" if quad else \"\", sep='')\n",
    "\n",
    "    print(r\"\\begin{align*}\")\n",
    "    format_print(\"accuracy\", metrics.accuracy_score)\n",
    "    format_print(\"sensitivity\", metrics.recall_score)\n",
    "    format_print(\"specificity\", lambda y1, y2: metrics.recall_score(y1, y2, pos_label=0))\n",
    "    format_print(\"kappa\", metrics.cohen_kappa_score, quad=False)\n",
    "    print(r\"\\end{align*}\")\n"
   ]
  },
  {
   "cell_type": "code",
   "execution_count": 9,
   "id": "21a62cc8-be8b-4f3e-b088-1a3e9ab79360",
   "metadata": {},
   "outputs": [],
   "source": [
    "def save_figure(file_name, save = True):\n",
    "    if save:\n",
    "        print(\"Saving figure to file ./cs5630_final_TeX/figures/\"+file_name+\".pdf\")\n",
    "        plt.savefig(\"../cs5630_final_TeX/figures/\"+file_name+\".pdf\")"
   ]
  },
  {
   "cell_type": "markdown",
   "id": "7a9f74da",
   "metadata": {},
   "source": [
    "# San-Francisco"
   ]
  },
  {
   "cell_type": "code",
   "execution_count": 3,
   "id": "f5ecb990",
   "metadata": {},
   "outputs": [
    {
     "data": {
      "text/plain": [
       "Index(['Unnamed: 0', 'Dates', 'Category', 'DayOfWeek', 'PdDistrict', 'Address',\n",
       "       'X', 'Y', 'year', 'month', 'day', 'hour', 'violent', 'street1',\n",
       "       'street2', 'str1', 'str2'],\n",
       "      dtype='object')"
      ]
     },
     "execution_count": 3,
     "metadata": {},
     "output_type": "execute_result"
    }
   ],
   "source": [
    "sf_data = pd.read_csv(\"../data/cleaned_data/SanFrancisco.csv\")\n",
    "sf_data.columns"
   ]
  },
  {
   "cell_type": "code",
   "execution_count": 6,
   "id": "6e36a0bb-a28a-427f-a2b4-013bd33eb4ce",
   "metadata": {},
   "outputs": [
    {
     "data": {
      "text/plain": [
       "23191"
      ]
     },
     "execution_count": 6,
     "metadata": {},
     "output_type": "execute_result"
    }
   ],
   "source": [
    "sf_data[\"Address\"].drop_duplicates().shape[0]"
   ]
  },
  {
   "cell_type": "code",
   "execution_count": 5,
   "id": "0be47de3-c447-4b0d-bf91-cbb315119588",
   "metadata": {},
   "outputs": [
    {
     "data": {
      "text/plain": [
       "12549"
      ]
     },
     "execution_count": 5,
     "metadata": {},
     "output_type": "execute_result"
    }
   ],
   "source": [
    "sf_data[\"street1\"].drop_duplicates().shape[0]"
   ]
  },
  {
   "cell_type": "code",
   "execution_count": 8,
   "id": "8877e040-4802-4332-9ed1-ed6cec838675",
   "metadata": {},
   "outputs": [
    {
     "data": {
      "text/plain": [
       "201"
      ]
     },
     "execution_count": 8,
     "metadata": {},
     "output_type": "execute_result"
    }
   ],
   "source": [
    "sf_data[\"str2\"].drop_duplicates().shape[0]"
   ]
  },
  {
   "cell_type": "markdown",
   "id": "2ea8e501",
   "metadata": {},
   "source": [
    "### All classifiers"
   ]
  },
  {
   "cell_type": "code",
   "execution_count": 4,
   "id": "a076941c",
   "metadata": {},
   "outputs": [],
   "source": [
    "def prepare_data_(random = 0, test_size =0.3, strs = False, catPdDistrict = False):\n",
    "    data = sf_data.drop(columns=[\"Unnamed: 0\", \"Dates\", \"Category\", \"street1\", \"street2\", \"Address\"])\n",
    "    if(not strs):\n",
    "        data = data.drop(columns=[\"str1\", \"str2\"])\n",
    "    if(not catPdDistrict):\n",
    "        data[\"PdDistrict\"] = data[\"PdDistrict\"].map({d:i for i, d in enumerate(sf_data[\"PdDistrict\"].drop_duplicates())})\n",
    "    X_train, X_test, y_train, y_test = train_test_split(\n",
    "            pd.get_dummies(data.drop(columns=[\"violent\"])),\n",
    "            data[\"violent\"], \n",
    "            test_size=test_size, random_state=random)\n",
    "    return X_train, X_test, y_train, y_test\n",
    "#\n",
    "def prepare_data(data_name, random = 0, test_size = 0.3):\n",
    "    if data_name == \"paper\":\n",
    "        return prepare_data_(random=random, test_size=test_size, strs=False, catPdDistrict=False)\n",
    "    elif data_name == \"catPdDistrict\":\n",
    "        return prepare_data_(random=random, test_size=test_size, strs=False, catPdDistrict=True)\n",
    "    elif data_name == \"catPdDistrict_strs\":\n",
    "        return prepare_data_(random=random, test_size=test_size, strs=True, catPdDistrict=True)\n",
    "    else:\n",
    "        print(\"Unknown data_name=\", data_name)\n",
    "\n",
    "    "
   ]
  },
  {
   "cell_type": "code",
   "execution_count": 5,
   "id": "e979f023-5bf7-49f1-b5ea-1d2779d637de",
   "metadata": {},
   "outputs": [
    {
     "data": {
      "text/plain": [
       "Index(['DayOfWeek', 'PdDistrict', 'X', 'Y', 'year', 'month', 'day', 'hour'], dtype='object')"
      ]
     },
     "execution_count": 5,
     "metadata": {},
     "output_type": "execute_result"
    }
   ],
   "source": [
    "X_train, X_test, y_train, y_test = prepare_data(\"paper\")\n",
    "X_train.columns"
   ]
  },
  {
   "cell_type": "code",
   "execution_count": 6,
   "id": "531ffea7",
   "metadata": {},
   "outputs": [],
   "source": [
    "def fillDF(data_name, random):\n",
    "    X_train, X_test, y_train, y_test = prepare_data(data_name=data_name, random=random)\n",
    "    df = pd.DataFrame()\n",
    "    for model, model_name in zip(\n",
    "        [sklearn.naive_bayes.GaussianNB(), sklearn.naive_bayes.BernoulliNB()],\n",
    "        [\"GaussianNB\", \"BernoulliNB\"]):\n",
    "    #     \n",
    "        model.fit(X_train, y_train)\n",
    "        #\n",
    "        y_train_pred = model.predict(X_train)\n",
    "        cm_train = confusion_matrix(y_train, y_train_pred)\n",
    "        tp_train = cm_train[0,0]\n",
    "        tn_train = cm_train[1,1]\n",
    "        fn_train = cm_train[0,1]\n",
    "        fp_train = cm_train[1,0]\n",
    "        #\n",
    "        y_test_pred = model.predict(X_test)\n",
    "        cm_test = confusion_matrix(y_test, y_test_pred)\n",
    "        tp_test = cm_test[0,0]\n",
    "        tn_test = cm_test[1,1]\n",
    "        fn_test = cm_test[0,1]\n",
    "        fp_test = cm_test[1,0]\n",
    "    #\n",
    "        df = pd.concat([df, pd.DataFrame([{\n",
    "            \"model\":model_name, \"data_name\":data_name, \"random\":random, \n",
    "            \"train_acc\":accuracy_score(y_train, y_train_pred), \"test_acc\":accuracy_score(y_test, y_test_pred),\n",
    "            \"tp_train\":tp_train, \"tn_train\":tn_train, \"fn_train\":fn_train, \"fp_train\":fp_train,\n",
    "            \"tp_test\":tp_train, \"tn_test\":tn_train, \"fn_test\":fn_train, \"fp_test\":fp_train}\n",
    "            ])])\n",
    "    return df"
   ]
  },
  {
   "cell_type": "markdown",
   "id": "621ca512-fe44-4f68-bc04-d18c2cd85ba4",
   "metadata": {
    "tags": []
   },
   "source": [
    "## One fit for the dataset (goes to presentation)"
   ]
  },
  {
   "cell_type": "markdown",
   "id": "3c71d374-46d1-4431-9d93-16d2859614a8",
   "metadata": {},
   "source": [
    "### Paper choice"
   ]
  },
  {
   "cell_type": "code",
   "execution_count": 57,
   "id": "ff6f2d23-6032-42f1-b415-ecfcf627958e",
   "metadata": {},
   "outputs": [],
   "source": [
    "X_train, X_test, y_train, y_test = prepare_data(\"paper\")\n",
    "model = sklearn.naive_bayes.GaussianNB()\n",
    "model.fit(X_train, y_train);\n"
   ]
  },
  {
   "cell_type": "code",
   "execution_count": 58,
   "id": "e18088b9-c1f3-49c1-88f4-6ebd62c8c99b",
   "metadata": {},
   "outputs": [
    {
     "name": "stdout",
     "output_type": "stream",
     "text": [
      "Saving figure to file ./cs5630_final_TeX/figures/NB_paper_train.pdf\n",
      "accuracy:\t0.546\n",
      "sensitivity: \t0.511\n",
      "specificity: \t0.582\n",
      "kappa:    \t0.093\n"
     ]
    },
    {
     "data": {
      "image/png": "[encoded data removed]",
      "text/plain": [
       "<Figure size 200x200 with 1 Axes>"
      ]
     },
     "metadata": {},
     "output_type": "display_data"
    }
   ],
   "source": [
    "y_train_pred = model.predict(X_train)\n",
    "cm_train = confusion_matrix(y_train, y_train_pred)\n",
    "\n",
    "disp = ConfusionMatrixDisplay(cm_train)\n",
    "fig, ax = plt.subplots(figsize=(2, 2))\n",
    "disp.plot(ax=ax, colorbar = None)\n",
    "plt.title(\"Train Confusion Matrix\")\n",
    "save_figure(\"NB_paper_train\")\n",
    "all_metrics(y_train, y_train_pred)"
   ]
  },
  {
   "cell_type": "code",
   "execution_count": 59,
   "id": "685ce40b-9052-4056-bda4-bc962b18b404",
   "metadata": {},
   "outputs": [
    {
     "name": "stdout",
     "output_type": "stream",
     "text": [
      "\\begin{align*}\n",
      "\\mathrm{accuracy}: 0.546,\\quad\n",
      "\\mathrm{sensitivity}: 0.511,\\quad\n",
      "\\mathrm{specificity}: 0.582,\\quad\n",
      "\\mathrm{kappa}: 0.093\n",
      "\\end{align*}\n"
     ]
    }
   ],
   "source": [
    "all_metrics_tex(y_train, y_train_pred)"
   ]
  },
  {
   "cell_type": "code",
   "execution_count": 60,
   "id": "b55bcf85-b8e9-4ca7-86c4-38bc2de8c84e",
   "metadata": {},
   "outputs": [
    {
     "name": "stdout",
     "output_type": "stream",
     "text": [
      "Saving figure to file ./cs5630_final_TeX/figures/NB_paper_test.pdf\n",
      "accuracy:\t0.549\n",
      "sensitivity: \t0.512\n",
      "specificity: \t0.586\n",
      "kappa:    \t0.099\n"
     ]
    },
    {
     "data": {
      "image/png": "[encoded data removed]",
      "text/plain": [
       "<Figure size 200x200 with 1 Axes>"
      ]
     },
     "metadata": {},
     "output_type": "display_data"
    }
   ],
   "source": [
    "y_test_pred = model.predict(X_test)\n",
    "cm_test = confusion_matrix(y_test, y_test_pred)\n",
    "\n",
    "disp = ConfusionMatrixDisplay(cm_test)\n",
    "fig, ax = plt.subplots(figsize=(2, 2))\n",
    "disp.plot(ax=ax, colorbar = None)\n",
    "plt.title(\"Test Confusion Matrix\")\n",
    "save_figure(\"NB_paper_test\")\n",
    "\n",
    "all_metrics(y_test, y_test_pred)"
   ]
  },
  {
   "cell_type": "code",
   "execution_count": 62,
   "id": "9cede6c3-297a-4ef0-a732-ec702140c1d8",
   "metadata": {},
   "outputs": [
    {
     "name": "stdout",
     "output_type": "stream",
     "text": [
      "\\begin{align*}\n",
      "\\mathrm{accuracy}: 0.549,\\quad\n",
      "\\mathrm{sensitivity}: 0.512,\\quad\n",
      "\\mathrm{specificity}: 0.586,\\quad\n",
      "\\mathrm{kappa}: 0.099\n",
      "\\end{align*}\n"
     ]
    }
   ],
   "source": [
    "all_metrics_tex(y_test, y_test_pred)"
   ]
  },
  {
   "cell_type": "markdown",
   "id": "4df1ce72-ebcf-40ab-a13e-574346e393a9",
   "metadata": {},
   "source": [
    "### catPdDistrict"
   ]
  },
  {
   "cell_type": "code",
   "execution_count": 63,
   "id": "13f6c5d1-95c9-4d32-a762-7c790e9f6d70",
   "metadata": {},
   "outputs": [],
   "source": [
    "X_train, X_test, y_train, y_test = prepare_data(\"catPdDistrict\")\n",
    "model = sklearn.naive_bayes.GaussianNB()\n",
    "model.fit(X_train, y_train);\n"
   ]
  },
  {
   "cell_type": "code",
   "execution_count": 64,
   "id": "e1d295d9-17fb-4437-8df2-1e9edc8a8d3b",
   "metadata": {},
   "outputs": [
    {
     "name": "stdout",
     "output_type": "stream",
     "text": [
      "Saving figure to file ./cs5630_final_TeX/figures/NB_catPd_train.pdf\n",
      "accuracy:\t0.552\n",
      "sensitivity: \t0.524\n",
      "specificity: \t0.581\n",
      "kappa:    \t0.105\n"
     ]
    },
    {
     "data": {
      "image/png": "[encoded data removed]",
      "text/plain": [
       "<Figure size 200x200 with 1 Axes>"
      ]
     },
     "metadata": {},
     "output_type": "display_data"
    }
   ],
   "source": [
    "y_train_pred = model.predict(X_train)\n",
    "cm_train = confusion_matrix(y_train, y_train_pred)\n",
    "\n",
    "disp = ConfusionMatrixDisplay(cm_train)\n",
    "fig, ax = plt.subplots(figsize=(2, 2))\n",
    "disp.plot(ax=ax, colorbar = None)\n",
    "plt.title(\"Train Confusion Matrix\")\n",
    "save_figure(\"NB_catPd_train\")\n",
    "\n",
    "all_metrics(y_train, y_train_pred)"
   ]
  },
  {
   "cell_type": "code",
   "execution_count": 65,
   "id": "5a0d59ea-4b9a-4c16-9ff7-4ef332ff56d3",
   "metadata": {},
   "outputs": [
    {
     "name": "stdout",
     "output_type": "stream",
     "text": [
      "\\begin{align*}\n",
      "\\mathrm{accuracy}: 0.552,\\quad\n",
      "\\mathrm{sensitivity}: 0.524,\\quad\n",
      "\\mathrm{specificity}: 0.581,\\quad\n",
      "\\mathrm{kappa}: 0.105\n",
      "\\end{align*}\n"
     ]
    }
   ],
   "source": [
    "all_metrics_tex(y_train, y_train_pred)"
   ]
  },
  {
   "cell_type": "code",
   "execution_count": 66,
   "id": "290e98f7-65ba-45a5-83c5-e5f7d7677b9e",
   "metadata": {},
   "outputs": [
    {
     "name": "stdout",
     "output_type": "stream",
     "text": [
      "Saving figure to file ./cs5630_final_TeX/figures/NB_catPd_test.pdf\n",
      "accuracy:\t0.554\n",
      "sensitivity: \t0.526\n",
      "specificity: \t0.583\n",
      "kappa:    \t0.109\n"
     ]
    },
    {
     "data": {
      "image/png": "[encoded data removed]",
      "text/plain": [
       "<Figure size 200x200 with 1 Axes>"
      ]
     },
     "metadata": {},
     "output_type": "display_data"
    }
   ],
   "source": [
    "y_test_pred = model.predict(X_test)\n",
    "cm_test = confusion_matrix(y_test, y_test_pred)\n",
    "\n",
    "disp = ConfusionMatrixDisplay(cm_test)\n",
    "fig, ax = plt.subplots(figsize=(2, 2))\n",
    "disp.plot(ax=ax, colorbar = None)\n",
    "plt.title(\"Test Confusion Matrix\")\n",
    "save_figure(\"NB_catPd_test\")\n",
    "\n",
    "\n",
    "all_metrics(y_test, y_test_pred)"
   ]
  },
  {
   "cell_type": "code",
   "execution_count": 67,
   "id": "8f63557c-dd41-49bb-a7a2-08081a5fc56c",
   "metadata": {},
   "outputs": [
    {
     "name": "stdout",
     "output_type": "stream",
     "text": [
      "\\begin{align*}\n",
      "\\mathrm{accuracy}: 0.554,\\quad\n",
      "\\mathrm{sensitivity}: 0.526,\\quad\n",
      "\\mathrm{specificity}: 0.583,\\quad\n",
      "\\mathrm{kappa}: 0.109\n",
      "\\end{align*}\n"
     ]
    }
   ],
   "source": [
    "all_metrics_tex(y_test, y_test_pred)"
   ]
  },
  {
   "cell_type": "markdown",
   "id": "ba5a9881-3e3f-4b19-9116-2843486d6fa4",
   "metadata": {},
   "source": [
    "### catPdDistrict_strs"
   ]
  },
  {
   "cell_type": "code",
   "execution_count": 68,
   "id": "f01b4481-1ecf-4746-8531-722f87a4bd7d",
   "metadata": {},
   "outputs": [],
   "source": [
    "X_train, X_test, y_train, y_test = prepare_data(\"catPdDistrict_strs\")\n",
    "model = sklearn.naive_bayes.GaussianNB()\n",
    "model.fit(X_train, y_train);\n"
   ]
  },
  {
   "cell_type": "code",
   "execution_count": 69,
   "id": "00a87d87-7092-478b-b67b-5123a1144570",
   "metadata": {},
   "outputs": [
    {
     "name": "stdout",
     "output_type": "stream",
     "text": [
      "Saving figure to file ./cs5630_final_TeX/figures/NB_strs_train.pdf\n",
      "accuracy:\t0.573\n",
      "sensitivity: \t0.828\n",
      "specificity: \t0.312\n",
      "kappa:    \t0.141\n"
     ]
    },
    {
     "data": {
      "image/png": "[encoded data removed]",
      "text/plain": [
       "<Figure size 200x200 with 1 Axes>"
      ]
     },
     "metadata": {},
     "output_type": "display_data"
    }
   ],
   "source": [
    "y_train_pred = model.predict(X_train)\n",
    "cm_train = confusion_matrix(y_train, y_train_pred)\n",
    "\n",
    "disp = ConfusionMatrixDisplay(cm_train)\n",
    "fig, ax = plt.subplots(figsize=(2, 2))\n",
    "disp.plot(ax=ax, colorbar = None)\n",
    "plt.title(\"Train Confusion Matrix\")\n",
    "save_figure(\"NB_strs_train\")\n",
    "\n",
    "all_metrics(y_train, y_train_pred)"
   ]
  },
  {
   "cell_type": "code",
   "execution_count": 70,
   "id": "541df423-38f3-4f5c-9e2d-510f3a6a0ad8",
   "metadata": {},
   "outputs": [
    {
     "name": "stdout",
     "output_type": "stream",
     "text": [
      "\\begin{align*}\n",
      "\\mathrm{accuracy}: 0.573,\\quad\n",
      "\\mathrm{sensitivity}: 0.828,\\quad\n",
      "\\mathrm{specificity}: 0.312,\\quad\n",
      "\\mathrm{kappa}: 0.141\n",
      "\\end{align*}\n"
     ]
    }
   ],
   "source": [
    "all_metrics_tex(y_train, y_train_pred)"
   ]
  },
  {
   "cell_type": "code",
   "execution_count": 71,
   "id": "b553eb3c-e07f-43b2-8cf2-ba0cf851d988",
   "metadata": {},
   "outputs": [
    {
     "name": "stdout",
     "output_type": "stream",
     "text": [
      "Saving figure to file ./cs5630_final_TeX/figures/NB_strs_test.pdf\n",
      "accuracy:\t0.573\n",
      "sensitivity: \t0.826\n",
      "specificity: \t0.312\n",
      "kappa:    \t0.139\n"
     ]
    },
    {
     "data": {
      "image/png": "[encoded data removed]",
      "text/plain": [
       "<Figure size 200x200 with 1 Axes>"
      ]
     },
     "metadata": {},
     "output_type": "display_data"
    }
   ],
   "source": [
    "y_test_pred = model.predict(X_test)\n",
    "cm_test = confusion_matrix(y_test, y_test_pred)\n",
    "\n",
    "disp = ConfusionMatrixDisplay(cm_test)\n",
    "fig, ax = plt.subplots(figsize=(2, 2))\n",
    "disp.plot(ax=ax, colorbar = None)\n",
    "plt.title(\"Test Confusion Matrix\")\n",
    "save_figure(\"NB_strs_test\")\n",
    "\n",
    "all_metrics(y_test, y_test_pred)"
   ]
  },
  {
   "cell_type": "code",
   "execution_count": 72,
   "id": "f425bac7-ff9f-4c2f-a8ad-7843e0c3f345",
   "metadata": {},
   "outputs": [
    {
     "name": "stdout",
     "output_type": "stream",
     "text": [
      "\\begin{align*}\n",
      "\\mathrm{accuracy}: 0.573,\\quad\n",
      "\\mathrm{sensitivity}: 0.826,\\quad\n",
      "\\mathrm{specificity}: 0.312,\\quad\n",
      "\\mathrm{kappa}: 0.139\n",
      "\\end{align*}\n"
     ]
    }
   ],
   "source": [
    "all_metrics_tex(y_test, y_test_pred)"
   ]
  },
  {
   "cell_type": "markdown",
   "id": "4a266b98-cd93-4a33-b1c6-6178dfa30af2",
   "metadata": {},
   "source": [
    "## Loops"
   ]
  },
  {
   "cell_type": "code",
   "execution_count": 52,
   "id": "8df1513a",
   "metadata": {},
   "outputs": [],
   "source": [
    "dfAcc = pd.DataFrame()"
   ]
  },
  {
   "cell_type": "code",
   "execution_count": 53,
   "id": "356f0f05",
   "metadata": {},
   "outputs": [
    {
     "name": "stdout",
     "output_type": "stream",
     "text": [
      "random =  0\n",
      "random =  1\n",
      "random =  2\n",
      "random =  3\n",
      "random =  4\n",
      "random =  5\n",
      "random =  6\n",
      "random =  7\n",
      "random =  8\n",
      "random =  9\n"
     ]
    }
   ],
   "source": [
    "data_name = \"paper\"\n",
    "for random in range(10):\n",
    "    print(\"random = \",random)\n",
    "    dfAcc = pd.concat([dfAcc, fillDF(data_name, random)])"
   ]
  },
  {
   "cell_type": "code",
   "execution_count": 56,
   "id": "225ba41d",
   "metadata": {},
   "outputs": [
    {
     "name": "stdout",
     "output_type": "stream",
     "text": [
      "random =  0\n",
      "random =  1\n",
      "random =  2\n",
      "random =  3\n",
      "random =  4\n",
      "random =  5\n",
      "random =  6\n",
      "random =  7\n",
      "random =  8\n",
      "random =  9\n"
     ]
    }
   ],
   "source": [
    "data_name = \"catPdDistrict\"\n",
    "for random in range(10):\n",
    "    print(\"random = \",random)\n",
    "    dfAcc = pd.concat([dfAcc, fillDF(data_name, random)])"
   ]
  },
  {
   "cell_type": "code",
   "execution_count": 60,
   "id": "7d0ecdf0",
   "metadata": {},
   "outputs": [
    {
     "name": "stdout",
     "output_type": "stream",
     "text": [
      "random =  0\n",
      "random =  1\n",
      "random =  2\n",
      "random =  3\n",
      "random =  4\n",
      "random =  5\n",
      "random =  6\n",
      "random =  7\n",
      "random =  8\n",
      "random =  9\n"
     ]
    }
   ],
   "source": [
    "data_name = \"catPdDistrict_strs\"\n",
    "for random in range(10):\n",
    "    print(\"random = \",random)\n",
    "    dfAcc = pd.concat([dfAcc, fillDF(data_name, random)])"
   ]
  },
  {
   "cell_type": "code",
   "execution_count": 64,
   "id": "47a706d5",
   "metadata": {},
   "outputs": [],
   "source": [
    "dfAcc = dfAcc.reset_index(drop = True)"
   ]
  },
  {
   "cell_type": "code",
   "execution_count": 71,
   "id": "3e90e556",
   "metadata": {},
   "outputs": [],
   "source": [
    "table3 = np.array([[226209, 118873], [121250, 236107]]) # NB, train\n",
    "table4 = np.array([[55282, 31117], [31518, 57693]])     # NB, test\n",
    "table_NB = table3 + table4"
   ]
  },
  {
   "cell_type": "code",
   "execution_count": 75,
   "id": "5051b0b7",
   "metadata": {},
   "outputs": [],
   "source": [
    "dfAcc = pd.concat([dfAcc, pd.DataFrame([{\n",
    "            \"model\":\"paper\", \"data_name\":\"paper\", \"random\":0, \n",
    "            \"train_acc\":(table_NB[0,0]+table_NB[1,1])/sum(sum(table_NB)), \n",
    "            \"test_acc\":(table_NB[0,0]+table_NB[1,1])/sum(sum(table_NB)),\n",
    "            \"tp_train\":table_NB[0,0], \"tn_train\":table_NB[1,1], \"fn_train\":table_NB[0,1], \"fp_train\":table_NB[1,0],\n",
    "            \"tp_test\":table_NB[0,0], \"tn_test\":table_NB[1,1], \"fn_test\":table_NB[0,1], \"fp_test\":table_NB[1,0]\n",
    "}])])"
   ]
  },
  {
   "cell_type": "code",
   "execution_count": 76,
   "id": "993976c8",
   "metadata": {},
   "outputs": [
    {
     "data": {
      "text/html": [
       "<div>\n",
       "<style scoped>\n",
       "    .dataframe tbody tr th:only-of-type {\n",
       "        vertical-align: middle;\n",
       "    }\n",
       "\n",
       "    .dataframe tbody tr th {\n",
       "        vertical-align: top;\n",
       "    }\n",
       "\n",
       "    .dataframe thead th {\n",
       "        text-align: right;\n",
       "    }\n",
       "</style>\n",
       "<table border=\"1\" class=\"dataframe\">\n",
       "  <thead>\n",
       "    <tr style=\"text-align: right;\">\n",
       "      <th></th>\n",
       "      <th>model</th>\n",
       "      <th>data_name</th>\n",
       "      <th>random</th>\n",
       "      <th>train_acc</th>\n",
       "      <th>test_acc</th>\n",
       "      <th>tp_train</th>\n",
       "      <th>tn_train</th>\n",
       "      <th>fn_train</th>\n",
       "      <th>fp_train</th>\n",
       "      <th>tp_test</th>\n",
       "      <th>tn_test</th>\n",
       "      <th>fn_test</th>\n",
       "      <th>fp_test</th>\n",
       "    </tr>\n",
       "  </thead>\n",
       "  <tbody>\n",
       "    <tr>\n",
       "      <th>0</th>\n",
       "      <td>GaussianNB</td>\n",
       "      <td>paper</td>\n",
       "      <td>0</td>\n",
       "      <td>0.546325</td>\n",
       "      <td>0.548871</td>\n",
       "      <td>176765</td>\n",
       "      <td>158999</td>\n",
       "      <td>126801</td>\n",
       "      <td>152022</td>\n",
       "      <td>176765</td>\n",
       "      <td>158999</td>\n",
       "      <td>126801</td>\n",
       "      <td>152022</td>\n",
       "    </tr>\n",
       "    <tr>\n",
       "      <th>1</th>\n",
       "      <td>BernoulliNB</td>\n",
       "      <td>paper</td>\n",
       "      <td>0</td>\n",
       "      <td>0.514295</td>\n",
       "      <td>0.515276</td>\n",
       "      <td>39521</td>\n",
       "      <td>276558</td>\n",
       "      <td>264045</td>\n",
       "      <td>34463</td>\n",
       "      <td>39521</td>\n",
       "      <td>276558</td>\n",
       "      <td>264045</td>\n",
       "      <td>34463</td>\n",
       "    </tr>\n",
       "    <tr>\n",
       "      <th>2</th>\n",
       "      <td>GaussianNB</td>\n",
       "      <td>paper</td>\n",
       "      <td>1</td>\n",
       "      <td>0.546574</td>\n",
       "      <td>0.547410</td>\n",
       "      <td>177516</td>\n",
       "      <td>158401</td>\n",
       "      <td>126055</td>\n",
       "      <td>152615</td>\n",
       "      <td>177516</td>\n",
       "      <td>158401</td>\n",
       "      <td>126055</td>\n",
       "      <td>152615</td>\n",
       "    </tr>\n",
       "    <tr>\n",
       "      <th>3</th>\n",
       "      <td>BernoulliNB</td>\n",
       "      <td>paper</td>\n",
       "      <td>1</td>\n",
       "      <td>0.514090</td>\n",
       "      <td>0.515754</td>\n",
       "      <td>39300</td>\n",
       "      <td>276653</td>\n",
       "      <td>264271</td>\n",
       "      <td>34363</td>\n",
       "      <td>39300</td>\n",
       "      <td>276653</td>\n",
       "      <td>264271</td>\n",
       "      <td>34363</td>\n",
       "    </tr>\n",
       "    <tr>\n",
       "      <th>4</th>\n",
       "      <td>GaussianNB</td>\n",
       "      <td>paper</td>\n",
       "      <td>2</td>\n",
       "      <td>0.547498</td>\n",
       "      <td>0.545534</td>\n",
       "      <td>178237</td>\n",
       "      <td>158248</td>\n",
       "      <td>125327</td>\n",
       "      <td>152775</td>\n",
       "      <td>178237</td>\n",
       "      <td>158248</td>\n",
       "      <td>125327</td>\n",
       "      <td>152775</td>\n",
       "    </tr>\n",
       "    <tr>\n",
       "      <th>...</th>\n",
       "      <td>...</td>\n",
       "      <td>...</td>\n",
       "      <td>...</td>\n",
       "      <td>...</td>\n",
       "      <td>...</td>\n",
       "      <td>...</td>\n",
       "      <td>...</td>\n",
       "      <td>...</td>\n",
       "      <td>...</td>\n",
       "      <td>...</td>\n",
       "      <td>...</td>\n",
       "      <td>...</td>\n",
       "      <td>...</td>\n",
       "    </tr>\n",
       "    <tr>\n",
       "      <th>56</th>\n",
       "      <td>GaussianNB</td>\n",
       "      <td>catPdDistrict_strs</td>\n",
       "      <td>8</td>\n",
       "      <td>0.572895</td>\n",
       "      <td>0.572642</td>\n",
       "      <td>93792</td>\n",
       "      <td>258302</td>\n",
       "      <td>209552</td>\n",
       "      <td>52941</td>\n",
       "      <td>93792</td>\n",
       "      <td>258302</td>\n",
       "      <td>209552</td>\n",
       "      <td>52941</td>\n",
       "    </tr>\n",
       "    <tr>\n",
       "      <th>57</th>\n",
       "      <td>BernoulliNB</td>\n",
       "      <td>catPdDistrict_strs</td>\n",
       "      <td>8</td>\n",
       "      <td>0.580295</td>\n",
       "      <td>0.579859</td>\n",
       "      <td>122632</td>\n",
       "      <td>234010</td>\n",
       "      <td>180712</td>\n",
       "      <td>77233</td>\n",
       "      <td>122632</td>\n",
       "      <td>234010</td>\n",
       "      <td>180712</td>\n",
       "      <td>77233</td>\n",
       "    </tr>\n",
       "    <tr>\n",
       "      <th>58</th>\n",
       "      <td>GaussianNB</td>\n",
       "      <td>catPdDistrict_strs</td>\n",
       "      <td>9</td>\n",
       "      <td>0.574182</td>\n",
       "      <td>0.570341</td>\n",
       "      <td>94856</td>\n",
       "      <td>258029</td>\n",
       "      <td>208266</td>\n",
       "      <td>53436</td>\n",
       "      <td>94856</td>\n",
       "      <td>258029</td>\n",
       "      <td>208266</td>\n",
       "      <td>53436</td>\n",
       "    </tr>\n",
       "    <tr>\n",
       "      <th>59</th>\n",
       "      <td>BernoulliNB</td>\n",
       "      <td>catPdDistrict_strs</td>\n",
       "      <td>9</td>\n",
       "      <td>0.581597</td>\n",
       "      <td>0.578386</td>\n",
       "      <td>122011</td>\n",
       "      <td>235431</td>\n",
       "      <td>181111</td>\n",
       "      <td>76034</td>\n",
       "      <td>122011</td>\n",
       "      <td>235431</td>\n",
       "      <td>181111</td>\n",
       "      <td>76034</td>\n",
       "    </tr>\n",
       "    <tr>\n",
       "      <th>0</th>\n",
       "      <td>paper</td>\n",
       "      <td>paper</td>\n",
       "      <td>0</td>\n",
       "      <td>0.655192</td>\n",
       "      <td>0.655192</td>\n",
       "      <td>281491</td>\n",
       "      <td>293800</td>\n",
       "      <td>149990</td>\n",
       "      <td>152768</td>\n",
       "      <td>281491</td>\n",
       "      <td>293800</td>\n",
       "      <td>149990</td>\n",
       "      <td>152768</td>\n",
       "    </tr>\n",
       "  </tbody>\n",
       "</table>\n",
       "<p>61 rows × 13 columns</p>\n",
       "</div>"
      ],
      "text/plain": [
       "          model           data_name  random  train_acc  test_acc  tp_train  \\\n",
       "0    GaussianNB               paper       0   0.546325  0.548871    176765   \n",
       "1   BernoulliNB               paper       0   0.514295  0.515276     39521   \n",
       "2    GaussianNB               paper       1   0.546574  0.547410    177516   \n",
       "3   BernoulliNB               paper       1   0.514090  0.515754     39300   \n",
       "4    GaussianNB               paper       2   0.547498  0.545534    178237   \n",
       "..          ...                 ...     ...        ...       ...       ...   \n",
       "56   GaussianNB  catPdDistrict_strs       8   0.572895  0.572642     93792   \n",
       "57  BernoulliNB  catPdDistrict_strs       8   0.580295  0.579859    122632   \n",
       "58   GaussianNB  catPdDistrict_strs       9   0.574182  0.570341     94856   \n",
       "59  BernoulliNB  catPdDistrict_strs       9   0.581597  0.578386    122011   \n",
       "0         paper               paper       0   0.655192  0.655192    281491   \n",
       "\n",
       "    tn_train  fn_train  fp_train  tp_test  tn_test  fn_test  fp_test  \n",
       "0     158999    126801    152022   176765   158999   126801   152022  \n",
       "1     276558    264045     34463    39521   276558   264045    34463  \n",
       "2     158401    126055    152615   177516   158401   126055   152615  \n",
       "3     276653    264271     34363    39300   276653   264271    34363  \n",
       "4     158248    125327    152775   178237   158248   125327   152775  \n",
       "..       ...       ...       ...      ...      ...      ...      ...  \n",
       "56    258302    209552     52941    93792   258302   209552    52941  \n",
       "57    234010    180712     77233   122632   234010   180712    77233  \n",
       "58    258029    208266     53436    94856   258029   208266    53436  \n",
       "59    235431    181111     76034   122011   235431   181111    76034  \n",
       "0     293800    149990    152768   281491   293800   149990   152768  \n",
       "\n",
       "[61 rows x 13 columns]"
      ]
     },
     "execution_count": 76,
     "metadata": {},
     "output_type": "execute_result"
    }
   ],
   "source": [
    "dfAcc"
   ]
  },
  {
   "cell_type": "code",
   "execution_count": 77,
   "id": "3a8775b8",
   "metadata": {},
   "outputs": [],
   "source": [
    "dfAcc = dfAcc.drop_duplicates()"
   ]
  },
  {
   "cell_type": "code",
   "execution_count": 78,
   "id": "1308de15",
   "metadata": {},
   "outputs": [],
   "source": [
    "dfAcc.to_csv(\"./dfAcc_nb.csv\", index=False)"
   ]
  },
  {
   "cell_type": "code",
   "execution_count": 82,
   "id": "2e84c264",
   "metadata": {},
   "outputs": [],
   "source": [
    "dfAcc = pd.read_csv(\"./dfAcc_nb.csv\")"
   ]
  },
  {
   "cell_type": "code",
   "execution_count": 90,
   "id": "9152117d",
   "metadata": {},
   "outputs": [
    {
     "data": {
      "text/html": [
       "<div>\n",
       "<style scoped>\n",
       "    .dataframe tbody tr th:only-of-type {\n",
       "        vertical-align: middle;\n",
       "    }\n",
       "\n",
       "    .dataframe tbody tr th {\n",
       "        vertical-align: top;\n",
       "    }\n",
       "\n",
       "    .dataframe thead th {\n",
       "        text-align: right;\n",
       "    }\n",
       "</style>\n",
       "<table border=\"1\" class=\"dataframe\">\n",
       "  <thead>\n",
       "    <tr style=\"text-align: right;\">\n",
       "      <th></th>\n",
       "      <th>model</th>\n",
       "      <th>data_name</th>\n",
       "      <th>train_acc_mean</th>\n",
       "      <th>train_acc_std</th>\n",
       "      <th>test_acc_mean</th>\n",
       "      <th>test_acc_std</th>\n",
       "    </tr>\n",
       "  </thead>\n",
       "  <tbody>\n",
       "    <tr>\n",
       "      <th>2</th>\n",
       "      <td>BernoulliNB</td>\n",
       "      <td>paper</td>\n",
       "      <td>0.514569</td>\n",
       "      <td>0.000287</td>\n",
       "      <td>0.514635</td>\n",
       "      <td>0.000669</td>\n",
       "    </tr>\n",
       "    <tr>\n",
       "      <th>5</th>\n",
       "      <td>GaussianNB</td>\n",
       "      <td>paper</td>\n",
       "      <td>0.546937</td>\n",
       "      <td>0.000353</td>\n",
       "      <td>0.546666</td>\n",
       "      <td>0.001024</td>\n",
       "    </tr>\n",
       "    <tr>\n",
       "      <th>0</th>\n",
       "      <td>BernoulliNB</td>\n",
       "      <td>catPdDistrict</td>\n",
       "      <td>0.550665</td>\n",
       "      <td>0.000480</td>\n",
       "      <td>0.550570</td>\n",
       "      <td>0.001080</td>\n",
       "    </tr>\n",
       "    <tr>\n",
       "      <th>3</th>\n",
       "      <td>GaussianNB</td>\n",
       "      <td>catPdDistrict</td>\n",
       "      <td>0.552700</td>\n",
       "      <td>0.000452</td>\n",
       "      <td>0.552753</td>\n",
       "      <td>0.000928</td>\n",
       "    </tr>\n",
       "    <tr>\n",
       "      <th>4</th>\n",
       "      <td>GaussianNB</td>\n",
       "      <td>catPdDistrict_strs</td>\n",
       "      <td>0.573278</td>\n",
       "      <td>0.000451</td>\n",
       "      <td>0.572627</td>\n",
       "      <td>0.001066</td>\n",
       "    </tr>\n",
       "    <tr>\n",
       "      <th>1</th>\n",
       "      <td>BernoulliNB</td>\n",
       "      <td>catPdDistrict_strs</td>\n",
       "      <td>0.580596</td>\n",
       "      <td>0.000578</td>\n",
       "      <td>0.579965</td>\n",
       "      <td>0.001048</td>\n",
       "    </tr>\n",
       "    <tr>\n",
       "      <th>6</th>\n",
       "      <td>paper</td>\n",
       "      <td>paper</td>\n",
       "      <td>0.655192</td>\n",
       "      <td>NaN</td>\n",
       "      <td>0.655192</td>\n",
       "      <td>NaN</td>\n",
       "    </tr>\n",
       "  </tbody>\n",
       "</table>\n",
       "</div>"
      ],
      "text/plain": [
       "         model           data_name  train_acc_mean  train_acc_std  \\\n",
       "2  BernoulliNB               paper        0.514569       0.000287   \n",
       "5   GaussianNB               paper        0.546937       0.000353   \n",
       "0  BernoulliNB       catPdDistrict        0.550665       0.000480   \n",
       "3   GaussianNB       catPdDistrict        0.552700       0.000452   \n",
       "4   GaussianNB  catPdDistrict_strs        0.573278       0.000451   \n",
       "1  BernoulliNB  catPdDistrict_strs        0.580596       0.000578   \n",
       "6        paper               paper        0.655192            NaN   \n",
       "\n",
       "   test_acc_mean  test_acc_std  \n",
       "2       0.514635      0.000669  \n",
       "5       0.546666      0.001024  \n",
       "0       0.550570      0.001080  \n",
       "3       0.552753      0.000928  \n",
       "4       0.572627      0.001066  \n",
       "1       0.579965      0.001048  \n",
       "6       0.655192           NaN  "
      ]
     },
     "execution_count": 90,
     "metadata": {},
     "output_type": "execute_result"
    }
   ],
   "source": [
    "dfAgg = dfAcc.groupby([\"model\", \"data_name\"]).\\\n",
    "    agg({\"train_acc\":[\"mean\", \"std\"], \"test_acc\":[\"mean\", \"std\"]})\n",
    "dfAgg.columns = [\"_\".join(col) for col in dfAgg.columns]\n",
    "dfAgg = dfAgg.reset_index()\n",
    "dfAgg = dfAgg.sort_values(\"train_acc_mean\")\n",
    "dfAgg"
   ]
  },
  {
   "cell_type": "code",
   "execution_count": 91,
   "id": "0b31c4eb",
   "metadata": {},
   "outputs": [
    {
     "data": {
      "text/plain": [
       "([<matplotlib.axis.XTick at 0x186f1ab50>,\n",
       "  <matplotlib.axis.XTick at 0x1871eac90>,\n",
       "  <matplotlib.axis.XTick at 0x1836eba50>],\n",
       " [Text(0, 0, 'paper'),\n",
       "  Text(1, 0, 'catPdDistrict'),\n",
       "  Text(2, 0, 'catPdDistrict_strs')])"
      ]
     },
     "execution_count": 91,
     "metadata": {},
     "output_type": "execute_result"
    },
    {
     "data": {
      "image/png": "[encoded data removed]",
      "text/plain": [
       "<Figure size 640x480 with 1 Axes>"
      ]
     },
     "metadata": {},
     "output_type": "display_data"
    }
   ],
   "source": [
    "for m in dfAgg[\"model\"].drop_duplicates():\n",
    "    dd = dfAgg[dfAgg[\"model\"]==m]\n",
    "    plt.plot(range(dd.shape[0]), dd[\"train_acc_mean\"], label = m+\", train\")\n",
    "for m in dfAgg[\"model\"].drop_duplicates():\n",
    "    dd = dfAgg[dfAgg[\"model\"]==m]\n",
    "    plt.plot(range(dd.shape[0]), dd[\"test_acc_mean\"], label = m+\", test\")\n",
    "plt.legend()\n",
    "plt.ylim(0, 0.7)\n",
    "plt.xticks([0,1,2], dfAgg[\"data_name\"].drop_duplicates(), rotation = \"vertical\")"
   ]
  },
  {
   "cell_type": "code",
   "execution_count": 71,
   "id": "d215498d",
   "metadata": {},
   "outputs": [
    {
     "data": {
      "text/plain": [
       "<sklearn.metrics._plot.confusion_matrix.ConfusionMatrixDisplay at 0x126f0f9b0>"
      ]
     },
     "execution_count": 71,
     "metadata": {},
     "output_type": "execute_result"
    },
    {
     "data": {
      "image/png": "[encoded data removed]",
      "text/plain": [
       "<Figure size 432x288 with 2 Axes>"
      ]
     },
     "metadata": {
      "needs_background": "light"
     },
     "output_type": "display_data"
    }
   ],
   "source": [
    "cm_train = confusion_matrix(y_train, y_train_pred)\n",
    "\n",
    "disp = ConfusionMatrixDisplay(cm_train)\n",
    "disp.plot()"
   ]
  },
  {
   "cell_type": "markdown",
   "id": "1a9c0560",
   "metadata": {},
   "source": [
    ".\n",
    "\n",
    ".\n",
    "\n",
    "\n",
    "\n",
    "\n",
    "\n",
    "\n",
    "\n",
    "\n",
    "# Backup"
   ]
  },
  {
   "cell_type": "code",
   "execution_count": 75,
   "id": "6db1acf9",
   "metadata": {},
   "outputs": [
    {
     "name": "stdout",
     "output_type": "stream",
     "text": [
      "accuracy:\t0.580\n",
      "sensitivity: \t0.752\n",
      "specificity: \t0.404\n",
      "kappa:    \t0.157\n"
     ]
    }
   ],
   "source": [
    "all_metrics(y_train,  y_train_pred)"
   ]
  },
  {
   "cell_type": "code",
   "execution_count": 76,
   "id": "dc978b20",
   "metadata": {},
   "outputs": [],
   "source": [
    "y_test_pred = bnb.predict(X_test)"
   ]
  },
  {
   "cell_type": "code",
   "execution_count": 77,
   "id": "25266dfb",
   "metadata": {},
   "outputs": [
    {
     "data": {
      "text/plain": [
       "<sklearn.metrics._plot.confusion_matrix.ConfusionMatrixDisplay at 0x183913fd0>"
      ]
     },
     "execution_count": 77,
     "metadata": {},
     "output_type": "execute_result"
    },
    {
     "data": {
      "image/png": "[encoded data removed]",
      "text/plain": [
       "<Figure size 640x480 with 2 Axes>"
      ]
     },
     "metadata": {},
     "output_type": "display_data"
    }
   ],
   "source": [
    "cm_test = confusion_matrix(y_test, y_test_pred)\n",
    "ConfusionMatrixDisplay(cm_test).plot()"
   ]
  },
  {
   "cell_type": "code",
   "execution_count": 78,
   "id": "819bcf63",
   "metadata": {},
   "outputs": [
    {
     "name": "stdout",
     "output_type": "stream",
     "text": [
      "accuracy:\t0.580\n",
      "sensitivity: \t0.750\n",
      "specificity: \t0.406\n",
      "kappa:    \t0.157\n"
     ]
    }
   ],
   "source": [
    "all_metrics(y_test,  y_test_pred)"
   ]
  },
  {
   "cell_type": "markdown",
   "id": "22719d23",
   "metadata": {},
   "source": [
    "# Mont Real"
   ]
  },
  {
   "cell_type": "code",
   "execution_count": 82,
   "id": "d9798249",
   "metadata": {},
   "outputs": [
    {
     "data": {
      "text/plain": [
       "Index(['Unnamed: 0', 'category', 'date', 'postal_code', 'city',\n",
       "       'neighbourhood', 'year', 'count', 'longitude', 'latitude', 'month',\n",
       "       'day', 'hour', 'DayOfWeek', 'postal_code_1', 'postal_code_2', 'pc1',\n",
       "       'pc2', 'violent'],\n",
       "      dtype='object')"
      ]
     },
     "execution_count": 82,
     "metadata": {},
     "output_type": "execute_result"
    }
   ],
   "source": [
    "mt_data = pd.read_csv(\"../data/cleaned_data/MontReal.csv\")\n",
    "mt_data.columns"
   ]
  },
  {
   "cell_type": "code",
   "execution_count": 102,
   "id": "e9d2df25",
   "metadata": {},
   "outputs": [
    {
     "data": {
      "text/html": [
       "<div>\n",
       "<style scoped>\n",
       "    .dataframe tbody tr th:only-of-type {\n",
       "        vertical-align: middle;\n",
       "    }\n",
       "\n",
       "    .dataframe tbody tr th {\n",
       "        vertical-align: top;\n",
       "    }\n",
       "\n",
       "    .dataframe thead th {\n",
       "        text-align: right;\n",
       "    }\n",
       "</style>\n",
       "<table border=\"1\" class=\"dataframe\">\n",
       "  <thead>\n",
       "    <tr style=\"text-align: right;\">\n",
       "      <th></th>\n",
       "      <th>year</th>\n",
       "      <th>count</th>\n",
       "      <th>longitude</th>\n",
       "      <th>latitude</th>\n",
       "      <th>month</th>\n",
       "      <th>day</th>\n",
       "      <th>hour</th>\n",
       "      <th>DayOfWeek</th>\n",
       "      <th>city_ANJOU</th>\n",
       "      <th>city_BAIE-D'URFE</th>\n",
       "      <th>...</th>\n",
       "      <th>pc2_2Y9</th>\n",
       "      <th>pc2_2Z6</th>\n",
       "      <th>pc2_3A3</th>\n",
       "      <th>pc2_3B5</th>\n",
       "      <th>pc2_3C5</th>\n",
       "      <th>pc2_3C6</th>\n",
       "      <th>pc2_3G5</th>\n",
       "      <th>pc2_3V6</th>\n",
       "      <th>pc2_4E3</th>\n",
       "      <th>pc2_other</th>\n",
       "    </tr>\n",
       "  </thead>\n",
       "  <tbody>\n",
       "    <tr>\n",
       "      <th>0</th>\n",
       "      <td>2018</td>\n",
       "      <td>1</td>\n",
       "      <td>-73.626</td>\n",
       "      <td>45.567</td>\n",
       "      <td>9</td>\n",
       "      <td>13</td>\n",
       "      <td>0</td>\n",
       "      <td>3</td>\n",
       "      <td>0</td>\n",
       "      <td>0</td>\n",
       "      <td>...</td>\n",
       "      <td>0</td>\n",
       "      <td>0</td>\n",
       "      <td>0</td>\n",
       "      <td>0</td>\n",
       "      <td>0</td>\n",
       "      <td>0</td>\n",
       "      <td>0</td>\n",
       "      <td>0</td>\n",
       "      <td>0</td>\n",
       "      <td>0</td>\n",
       "    </tr>\n",
       "    <tr>\n",
       "      <th>1</th>\n",
       "      <td>2018</td>\n",
       "      <td>1</td>\n",
       "      <td>-73.626</td>\n",
       "      <td>45.567</td>\n",
       "      <td>4</td>\n",
       "      <td>30</td>\n",
       "      <td>0</td>\n",
       "      <td>0</td>\n",
       "      <td>0</td>\n",
       "      <td>0</td>\n",
       "      <td>...</td>\n",
       "      <td>0</td>\n",
       "      <td>0</td>\n",
       "      <td>0</td>\n",
       "      <td>0</td>\n",
       "      <td>0</td>\n",
       "      <td>0</td>\n",
       "      <td>0</td>\n",
       "      <td>0</td>\n",
       "      <td>0</td>\n",
       "      <td>0</td>\n",
       "    </tr>\n",
       "    <tr>\n",
       "      <th>2</th>\n",
       "      <td>2018</td>\n",
       "      <td>1</td>\n",
       "      <td>-73.629</td>\n",
       "      <td>45.569</td>\n",
       "      <td>1</td>\n",
       "      <td>10</td>\n",
       "      <td>0</td>\n",
       "      <td>2</td>\n",
       "      <td>0</td>\n",
       "      <td>0</td>\n",
       "      <td>...</td>\n",
       "      <td>0</td>\n",
       "      <td>0</td>\n",
       "      <td>0</td>\n",
       "      <td>0</td>\n",
       "      <td>0</td>\n",
       "      <td>0</td>\n",
       "      <td>0</td>\n",
       "      <td>0</td>\n",
       "      <td>0</td>\n",
       "      <td>0</td>\n",
       "    </tr>\n",
       "    <tr>\n",
       "      <th>3</th>\n",
       "      <td>2018</td>\n",
       "      <td>1</td>\n",
       "      <td>-73.629</td>\n",
       "      <td>45.569</td>\n",
       "      <td>11</td>\n",
       "      <td>12</td>\n",
       "      <td>0</td>\n",
       "      <td>0</td>\n",
       "      <td>0</td>\n",
       "      <td>0</td>\n",
       "      <td>...</td>\n",
       "      <td>0</td>\n",
       "      <td>0</td>\n",
       "      <td>0</td>\n",
       "      <td>0</td>\n",
       "      <td>0</td>\n",
       "      <td>0</td>\n",
       "      <td>0</td>\n",
       "      <td>0</td>\n",
       "      <td>0</td>\n",
       "      <td>0</td>\n",
       "    </tr>\n",
       "    <tr>\n",
       "      <th>4</th>\n",
       "      <td>2018</td>\n",
       "      <td>1</td>\n",
       "      <td>-73.629</td>\n",
       "      <td>45.569</td>\n",
       "      <td>8</td>\n",
       "      <td>15</td>\n",
       "      <td>0</td>\n",
       "      <td>2</td>\n",
       "      <td>0</td>\n",
       "      <td>0</td>\n",
       "      <td>...</td>\n",
       "      <td>0</td>\n",
       "      <td>0</td>\n",
       "      <td>0</td>\n",
       "      <td>0</td>\n",
       "      <td>0</td>\n",
       "      <td>0</td>\n",
       "      <td>0</td>\n",
       "      <td>0</td>\n",
       "      <td>0</td>\n",
       "      <td>0</td>\n",
       "    </tr>\n",
       "    <tr>\n",
       "      <th>...</th>\n",
       "      <td>...</td>\n",
       "      <td>...</td>\n",
       "      <td>...</td>\n",
       "      <td>...</td>\n",
       "      <td>...</td>\n",
       "      <td>...</td>\n",
       "      <td>...</td>\n",
       "      <td>...</td>\n",
       "      <td>...</td>\n",
       "      <td>...</td>\n",
       "      <td>...</td>\n",
       "      <td>...</td>\n",
       "      <td>...</td>\n",
       "      <td>...</td>\n",
       "      <td>...</td>\n",
       "      <td>...</td>\n",
       "      <td>...</td>\n",
       "      <td>...</td>\n",
       "      <td>...</td>\n",
       "      <td>...</td>\n",
       "      <td>...</td>\n",
       "    </tr>\n",
       "    <tr>\n",
       "      <th>136637</th>\n",
       "      <td>2020</td>\n",
       "      <td>1</td>\n",
       "      <td>-73.752</td>\n",
       "      <td>45.452</td>\n",
       "      <td>3</td>\n",
       "      <td>25</td>\n",
       "      <td>0</td>\n",
       "      <td>2</td>\n",
       "      <td>0</td>\n",
       "      <td>0</td>\n",
       "      <td>...</td>\n",
       "      <td>0</td>\n",
       "      <td>0</td>\n",
       "      <td>0</td>\n",
       "      <td>0</td>\n",
       "      <td>0</td>\n",
       "      <td>0</td>\n",
       "      <td>0</td>\n",
       "      <td>0</td>\n",
       "      <td>0</td>\n",
       "      <td>0</td>\n",
       "    </tr>\n",
       "    <tr>\n",
       "      <th>136638</th>\n",
       "      <td>2020</td>\n",
       "      <td>1</td>\n",
       "      <td>-73.752</td>\n",
       "      <td>45.452</td>\n",
       "      <td>3</td>\n",
       "      <td>27</td>\n",
       "      <td>0</td>\n",
       "      <td>4</td>\n",
       "      <td>0</td>\n",
       "      <td>0</td>\n",
       "      <td>...</td>\n",
       "      <td>0</td>\n",
       "      <td>0</td>\n",
       "      <td>0</td>\n",
       "      <td>0</td>\n",
       "      <td>0</td>\n",
       "      <td>0</td>\n",
       "      <td>0</td>\n",
       "      <td>0</td>\n",
       "      <td>0</td>\n",
       "      <td>0</td>\n",
       "    </tr>\n",
       "    <tr>\n",
       "      <th>136639</th>\n",
       "      <td>2021</td>\n",
       "      <td>1</td>\n",
       "      <td>-73.752</td>\n",
       "      <td>45.452</td>\n",
       "      <td>4</td>\n",
       "      <td>1</td>\n",
       "      <td>0</td>\n",
       "      <td>3</td>\n",
       "      <td>0</td>\n",
       "      <td>0</td>\n",
       "      <td>...</td>\n",
       "      <td>0</td>\n",
       "      <td>0</td>\n",
       "      <td>0</td>\n",
       "      <td>0</td>\n",
       "      <td>0</td>\n",
       "      <td>0</td>\n",
       "      <td>0</td>\n",
       "      <td>0</td>\n",
       "      <td>0</td>\n",
       "      <td>0</td>\n",
       "    </tr>\n",
       "    <tr>\n",
       "      <th>136640</th>\n",
       "      <td>2021</td>\n",
       "      <td>1</td>\n",
       "      <td>-73.752</td>\n",
       "      <td>45.452</td>\n",
       "      <td>6</td>\n",
       "      <td>6</td>\n",
       "      <td>0</td>\n",
       "      <td>6</td>\n",
       "      <td>0</td>\n",
       "      <td>0</td>\n",
       "      <td>...</td>\n",
       "      <td>0</td>\n",
       "      <td>0</td>\n",
       "      <td>0</td>\n",
       "      <td>0</td>\n",
       "      <td>0</td>\n",
       "      <td>0</td>\n",
       "      <td>0</td>\n",
       "      <td>0</td>\n",
       "      <td>0</td>\n",
       "      <td>0</td>\n",
       "    </tr>\n",
       "    <tr>\n",
       "      <th>136641</th>\n",
       "      <td>2021</td>\n",
       "      <td>1</td>\n",
       "      <td>-73.752</td>\n",
       "      <td>45.452</td>\n",
       "      <td>6</td>\n",
       "      <td>22</td>\n",
       "      <td>0</td>\n",
       "      <td>1</td>\n",
       "      <td>0</td>\n",
       "      <td>0</td>\n",
       "      <td>...</td>\n",
       "      <td>0</td>\n",
       "      <td>0</td>\n",
       "      <td>0</td>\n",
       "      <td>0</td>\n",
       "      <td>0</td>\n",
       "      <td>0</td>\n",
       "      <td>0</td>\n",
       "      <td>0</td>\n",
       "      <td>0</td>\n",
       "      <td>0</td>\n",
       "    </tr>\n",
       "  </tbody>\n",
       "</table>\n",
       "<p>136642 rows × 389 columns</p>\n",
       "</div>"
      ],
      "text/plain": [
       "        year  count  longitude  latitude  month  day  hour  DayOfWeek  \\\n",
       "0       2018      1    -73.626    45.567      9   13     0          3   \n",
       "1       2018      1    -73.626    45.567      4   30     0          0   \n",
       "2       2018      1    -73.629    45.569      1   10     0          2   \n",
       "3       2018      1    -73.629    45.569     11   12     0          0   \n",
       "4       2018      1    -73.629    45.569      8   15     0          2   \n",
       "...      ...    ...        ...       ...    ...  ...   ...        ...   \n",
       "136637  2020      1    -73.752    45.452      3   25     0          2   \n",
       "136638  2020      1    -73.752    45.452      3   27     0          4   \n",
       "136639  2021      1    -73.752    45.452      4    1     0          3   \n",
       "136640  2021      1    -73.752    45.452      6    6     0          6   \n",
       "136641  2021      1    -73.752    45.452      6   22     0          1   \n",
       "\n",
       "        city_ANJOU  city_BAIE-D'URFE  ...  pc2_2Y9  pc2_2Z6  pc2_3A3  pc2_3B5  \\\n",
       "0                0                 0  ...        0        0        0        0   \n",
       "1                0                 0  ...        0        0        0        0   \n",
       "2                0                 0  ...        0        0        0        0   \n",
       "3                0                 0  ...        0        0        0        0   \n",
       "4                0                 0  ...        0        0        0        0   \n",
       "...            ...               ...  ...      ...      ...      ...      ...   \n",
       "136637           0                 0  ...        0        0        0        0   \n",
       "136638           0                 0  ...        0        0        0        0   \n",
       "136639           0                 0  ...        0        0        0        0   \n",
       "136640           0                 0  ...        0        0        0        0   \n",
       "136641           0                 0  ...        0        0        0        0   \n",
       "\n",
       "        pc2_3C5  pc2_3C6  pc2_3G5  pc2_3V6  pc2_4E3  pc2_other  \n",
       "0             0        0        0        0        0          0  \n",
       "1             0        0        0        0        0          0  \n",
       "2             0        0        0        0        0          0  \n",
       "3             0        0        0        0        0          0  \n",
       "4             0        0        0        0        0          0  \n",
       "...         ...      ...      ...      ...      ...        ...  \n",
       "136637        0        0        0        0        0          0  \n",
       "136638        0        0        0        0        0          0  \n",
       "136639        0        0        0        0        0          0  \n",
       "136640        0        0        0        0        0          0  \n",
       "136641        0        0        0        0        0          0  \n",
       "\n",
       "[136642 rows x 389 columns]"
      ]
     },
     "execution_count": 102,
     "metadata": {},
     "output_type": "execute_result"
    }
   ],
   "source": [
    "pd.get_dummies(mt_data.drop(columns=[\"Unnamed: 0\", 'category', 'date', 'postal_code', 'postal_code_1', 'postal_code_2', 'violent']))"
   ]
  },
  {
   "cell_type": "code",
   "execution_count": 103,
   "id": "e4917515",
   "metadata": {},
   "outputs": [],
   "source": [
    "X_train, X_test, y_train, y_test = train_test_split(\n",
    "    pd.get_dummies(mt_data.drop(columns=[\"Unnamed: 0\", 'category', 'date', 'postal_code', 'postal_code_1', 'postal_code_2', 'violent'])),\n",
    "    mt_data.violent, \n",
    "    test_size=0.3, random_state=0)"
   ]
  },
  {
   "cell_type": "code",
   "execution_count": 104,
   "id": "dd7e97a3",
   "metadata": {},
   "outputs": [
    {
     "data": {
      "text/plain": [
       "[95649, 40993]"
      ]
     },
     "execution_count": 104,
     "metadata": {},
     "output_type": "execute_result"
    }
   ],
   "source": [
    "[X_train.shape[0], X_test.shape[0]]"
   ]
  },
  {
   "cell_type": "markdown",
   "id": "a0e95bae",
   "metadata": {},
   "source": [
    "### Gaussian Naive Bayes"
   ]
  },
  {
   "cell_type": "code",
   "execution_count": 105,
   "id": "1fed5c6c",
   "metadata": {},
   "outputs": [
    {
     "data": {
      "text/html": [
       "<style>#sk-container-id-6 {color: black;background-color: white;}#sk-container-id-6 pre{padding: 0;}#sk-container-id-6 div.sk-toggleable {background-color: white;}#sk-container-id-6 label.sk-toggleable__label {cursor: pointer;display: block;width: 100%;margin-bottom: 0;padding: 0.3em;box-sizing: border-box;text-align: center;}#sk-container-id-6 label.sk-toggleable__label-arrow:before {content: \"▸\";float: left;margin-right: 0.25em;color: #696969;}#sk-container-id-6 label.sk-toggleable__label-arrow:hover:before {color: black;}#sk-container-id-6 div.sk-estimator:hover label.sk-toggleable__label-arrow:before {color: black;}#sk-container-id-6 div.sk-toggleable__content {max-height: 0;max-width: 0;overflow: hidden;text-align: left;background-color: #f0f8ff;}#sk-container-id-6 div.sk-toggleable__content pre {margin: 0.2em;color: black;border-radius: 0.25em;background-color: #f0f8ff;}#sk-container-id-6 input.sk-toggleable__control:checked~div.sk-toggleable__content {max-height: 200px;max-width: 100%;overflow: auto;}#sk-container-id-6 input.sk-toggleable__control:checked~label.sk-toggleable__label-arrow:before {content: \"▾\";}#sk-container-id-6 div.sk-estimator input.sk-toggleable__control:checked~label.sk-toggleable__label {background-color: #d4ebff;}#sk-container-id-6 div.sk-label input.sk-toggleable__control:checked~label.sk-toggleable__label {background-color: #d4ebff;}#sk-container-id-6 input.sk-hidden--visually {border: 0;clip: rect(1px 1px 1px 1px);clip: rect(1px, 1px, 1px, 1px);height: 1px;margin: -1px;overflow: hidden;padding: 0;position: absolute;width: 1px;}#sk-container-id-6 div.sk-estimator {font-family: monospace;background-color: #f0f8ff;border: 1px dotted black;border-radius: 0.25em;box-sizing: border-box;margin-bottom: 0.5em;}#sk-container-id-6 div.sk-estimator:hover {background-color: #d4ebff;}#sk-container-id-6 div.sk-parallel-item::after {content: \"\";width: 100%;border-bottom: 1px solid gray;flex-grow: 1;}#sk-container-id-6 div.sk-label:hover label.sk-toggleable__label {background-color: #d4ebff;}#sk-container-id-6 div.sk-serial::before {content: \"\";position: absolute;border-left: 1px solid gray;box-sizing: border-box;top: 0;bottom: 0;left: 50%;z-index: 0;}#sk-container-id-6 div.sk-serial {display: flex;flex-direction: column;align-items: center;background-color: white;padding-right: 0.2em;padding-left: 0.2em;position: relative;}#sk-container-id-6 div.sk-item {position: relative;z-index: 1;}#sk-container-id-6 div.sk-parallel {display: flex;align-items: stretch;justify-content: center;background-color: white;position: relative;}#sk-container-id-6 div.sk-item::before, #sk-container-id-6 div.sk-parallel-item::before {content: \"\";position: absolute;border-left: 1px solid gray;box-sizing: border-box;top: 0;bottom: 0;left: 50%;z-index: -1;}#sk-container-id-6 div.sk-parallel-item {display: flex;flex-direction: column;z-index: 1;position: relative;background-color: white;}#sk-container-id-6 div.sk-parallel-item:first-child::after {align-self: flex-end;width: 50%;}#sk-container-id-6 div.sk-parallel-item:last-child::after {align-self: flex-start;width: 50%;}#sk-container-id-6 div.sk-parallel-item:only-child::after {width: 0;}#sk-container-id-6 div.sk-dashed-wrapped {border: 1px dashed gray;margin: 0 0.4em 0.5em 0.4em;box-sizing: border-box;padding-bottom: 0.4em;background-color: white;}#sk-container-id-6 div.sk-label label {font-family: monospace;font-weight: bold;display: inline-block;line-height: 1.2em;}#sk-container-id-6 div.sk-label-container {text-align: center;}#sk-container-id-6 div.sk-container {/* jupyter's `normalize.less` sets `[hidden] { display: none; }` but bootstrap.min.css set `[hidden] { display: none !important; }` so we also need the `!important` here to be able to override the default hidden behavior on the sphinx rendered scikit-learn.org. See: https://github.com/scikit-learn/scikit-learn/issues/21755 */display: inline-block !important;position: relative;}#sk-container-id-6 div.sk-text-repr-fallback {display: none;}</style><div id=\"sk-container-id-6\" class=\"sk-top-container\"><div class=\"sk-text-repr-fallback\"><pre>GaussianNB()</pre><b>In a Jupyter environment, please rerun this cell to show the HTML representation or trust the notebook. <br />On GitHub, the HTML representation is unable to render, please try loading this page with nbviewer.org.</b></div><div class=\"sk-container\" hidden><div class=\"sk-item\"><div class=\"sk-estimator sk-toggleable\"><input class=\"sk-toggleable__control sk-hidden--visually\" id=\"sk-estimator-id-6\" type=\"checkbox\" checked><label for=\"sk-estimator-id-6\" class=\"sk-toggleable__label sk-toggleable__label-arrow\">GaussianNB</label><div class=\"sk-toggleable__content\"><pre>GaussianNB()</pre></div></div></div></div></div>"
      ],
      "text/plain": [
       "GaussianNB()"
      ]
     },
     "execution_count": 105,
     "metadata": {},
     "output_type": "execute_result"
    }
   ],
   "source": [
    "gnb = GaussianNB()\n",
    "gnb.fit(X_train, y_train)"
   ]
  },
  {
   "cell_type": "code",
   "execution_count": 106,
   "id": "7fd4ac0d",
   "metadata": {},
   "outputs": [],
   "source": [
    "y_train_pred = gnb.predict(X_train)"
   ]
  },
  {
   "cell_type": "code",
   "execution_count": 107,
   "id": "dc3eef78",
   "metadata": {},
   "outputs": [
    {
     "data": {
      "text/plain": [
       "<sklearn.metrics._plot.confusion_matrix.ConfusionMatrixDisplay at 0x186c55a90>"
      ]
     },
     "execution_count": 107,
     "metadata": {},
     "output_type": "execute_result"
    },
    {
     "data": {
      "image/png": "[encoded data removed]",
      "text/plain": [
       "<Figure size 640x480 with 2 Axes>"
      ]
     },
     "metadata": {},
     "output_type": "display_data"
    }
   ],
   "source": [
    "cm_train = confusion_matrix(y_train, y_train_pred)\n",
    "\n",
    "disp = ConfusionMatrixDisplay(cm_train)\n",
    "disp.plot()"
   ]
  },
  {
   "cell_type": "code",
   "execution_count": 108,
   "id": "343ab051",
   "metadata": {},
   "outputs": [
    {
     "name": "stdout",
     "output_type": "stream",
     "text": [
      "accuracy:\t0.554\n",
      "sensitivity: \t0.514\n",
      "specificity: \t0.602\n",
      "kappa:    \t0.114\n"
     ]
    }
   ],
   "source": [
    "all_metrics(y_train,  y_train_pred)"
   ]
  },
  {
   "cell_type": "code",
   "execution_count": 109,
   "id": "1765f34f",
   "metadata": {},
   "outputs": [],
   "source": [
    "y_test_pred = gnb.predict(X_test)"
   ]
  },
  {
   "cell_type": "code",
   "execution_count": 110,
   "id": "97b35c61",
   "metadata": {},
   "outputs": [
    {
     "data": {
      "text/plain": [
       "<sklearn.metrics._plot.confusion_matrix.ConfusionMatrixDisplay at 0x187269710>"
      ]
     },
     "execution_count": 110,
     "metadata": {},
     "output_type": "execute_result"
    },
    {
     "data": {
      "image/png": "[encoded data removed]",
      "text/plain": [
       "<Figure size 640x480 with 2 Axes>"
      ]
     },
     "metadata": {},
     "output_type": "display_data"
    }
   ],
   "source": [
    "cm_test = confusion_matrix(y_test, y_test_pred)\n",
    "ConfusionMatrixDisplay(cm_test).plot()"
   ]
  },
  {
   "cell_type": "code",
   "execution_count": 111,
   "id": "87f9f4e3",
   "metadata": {},
   "outputs": [
    {
     "name": "stdout",
     "output_type": "stream",
     "text": [
      "accuracy:\t0.549\n",
      "sensitivity: \t0.505\n",
      "specificity: \t0.601\n",
      "kappa:    \t0.104\n"
     ]
    }
   ],
   "source": [
    "all_metrics(y_test,  y_test_pred)"
   ]
  },
  {
   "cell_type": "markdown",
   "id": "4c5f3e15",
   "metadata": {},
   "source": [
    "### BernoulliNB"
   ]
  },
  {
   "cell_type": "code",
   "execution_count": 112,
   "id": "1fb0100f",
   "metadata": {},
   "outputs": [],
   "source": [
    "from sklearn.naive_bayes import BernoulliNB"
   ]
  },
  {
   "cell_type": "code",
   "execution_count": 113,
   "id": "887f3112",
   "metadata": {},
   "outputs": [
    {
     "data": {
      "text/html": [
       "<style>#sk-container-id-7 {color: black;background-color: white;}#sk-container-id-7 pre{padding: 0;}#sk-container-id-7 div.sk-toggleable {background-color: white;}#sk-container-id-7 label.sk-toggleable__label {cursor: pointer;display: block;width: 100%;margin-bottom: 0;padding: 0.3em;box-sizing: border-box;text-align: center;}#sk-container-id-7 label.sk-toggleable__label-arrow:before {content: \"▸\";float: left;margin-right: 0.25em;color: #696969;}#sk-container-id-7 label.sk-toggleable__label-arrow:hover:before {color: black;}#sk-container-id-7 div.sk-estimator:hover label.sk-toggleable__label-arrow:before {color: black;}#sk-container-id-7 div.sk-toggleable__content {max-height: 0;max-width: 0;overflow: hidden;text-align: left;background-color: #f0f8ff;}#sk-container-id-7 div.sk-toggleable__content pre {margin: 0.2em;color: black;border-radius: 0.25em;background-color: #f0f8ff;}#sk-container-id-7 input.sk-toggleable__control:checked~div.sk-toggleable__content {max-height: 200px;max-width: 100%;overflow: auto;}#sk-container-id-7 input.sk-toggleable__control:checked~label.sk-toggleable__label-arrow:before {content: \"▾\";}#sk-container-id-7 div.sk-estimator input.sk-toggleable__control:checked~label.sk-toggleable__label {background-color: #d4ebff;}#sk-container-id-7 div.sk-label input.sk-toggleable__control:checked~label.sk-toggleable__label {background-color: #d4ebff;}#sk-container-id-7 input.sk-hidden--visually {border: 0;clip: rect(1px 1px 1px 1px);clip: rect(1px, 1px, 1px, 1px);height: 1px;margin: -1px;overflow: hidden;padding: 0;position: absolute;width: 1px;}#sk-container-id-7 div.sk-estimator {font-family: monospace;background-color: #f0f8ff;border: 1px dotted black;border-radius: 0.25em;box-sizing: border-box;margin-bottom: 0.5em;}#sk-container-id-7 div.sk-estimator:hover {background-color: #d4ebff;}#sk-container-id-7 div.sk-parallel-item::after {content: \"\";width: 100%;border-bottom: 1px solid gray;flex-grow: 1;}#sk-container-id-7 div.sk-label:hover label.sk-toggleable__label {background-color: #d4ebff;}#sk-container-id-7 div.sk-serial::before {content: \"\";position: absolute;border-left: 1px solid gray;box-sizing: border-box;top: 0;bottom: 0;left: 50%;z-index: 0;}#sk-container-id-7 div.sk-serial {display: flex;flex-direction: column;align-items: center;background-color: white;padding-right: 0.2em;padding-left: 0.2em;position: relative;}#sk-container-id-7 div.sk-item {position: relative;z-index: 1;}#sk-container-id-7 div.sk-parallel {display: flex;align-items: stretch;justify-content: center;background-color: white;position: relative;}#sk-container-id-7 div.sk-item::before, #sk-container-id-7 div.sk-parallel-item::before {content: \"\";position: absolute;border-left: 1px solid gray;box-sizing: border-box;top: 0;bottom: 0;left: 50%;z-index: -1;}#sk-container-id-7 div.sk-parallel-item {display: flex;flex-direction: column;z-index: 1;position: relative;background-color: white;}#sk-container-id-7 div.sk-parallel-item:first-child::after {align-self: flex-end;width: 50%;}#sk-container-id-7 div.sk-parallel-item:last-child::after {align-self: flex-start;width: 50%;}#sk-container-id-7 div.sk-parallel-item:only-child::after {width: 0;}#sk-container-id-7 div.sk-dashed-wrapped {border: 1px dashed gray;margin: 0 0.4em 0.5em 0.4em;box-sizing: border-box;padding-bottom: 0.4em;background-color: white;}#sk-container-id-7 div.sk-label label {font-family: monospace;font-weight: bold;display: inline-block;line-height: 1.2em;}#sk-container-id-7 div.sk-label-container {text-align: center;}#sk-container-id-7 div.sk-container {/* jupyter's `normalize.less` sets `[hidden] { display: none; }` but bootstrap.min.css set `[hidden] { display: none !important; }` so we also need the `!important` here to be able to override the default hidden behavior on the sphinx rendered scikit-learn.org. See: https://github.com/scikit-learn/scikit-learn/issues/21755 */display: inline-block !important;position: relative;}#sk-container-id-7 div.sk-text-repr-fallback {display: none;}</style><div id=\"sk-container-id-7\" class=\"sk-top-container\"><div class=\"sk-text-repr-fallback\"><pre>BernoulliNB()</pre><b>In a Jupyter environment, please rerun this cell to show the HTML representation or trust the notebook. <br />On GitHub, the HTML representation is unable to render, please try loading this page with nbviewer.org.</b></div><div class=\"sk-container\" hidden><div class=\"sk-item\"><div class=\"sk-estimator sk-toggleable\"><input class=\"sk-toggleable__control sk-hidden--visually\" id=\"sk-estimator-id-7\" type=\"checkbox\" checked><label for=\"sk-estimator-id-7\" class=\"sk-toggleable__label sk-toggleable__label-arrow\">BernoulliNB</label><div class=\"sk-toggleable__content\"><pre>BernoulliNB()</pre></div></div></div></div></div>"
      ],
      "text/plain": [
       "BernoulliNB()"
      ]
     },
     "execution_count": 113,
     "metadata": {},
     "output_type": "execute_result"
    }
   ],
   "source": [
    "bnb = BernoulliNB()\n",
    "bnb.fit(X_train, y_train)"
   ]
  },
  {
   "cell_type": "code",
   "execution_count": 114,
   "id": "d391176c",
   "metadata": {},
   "outputs": [],
   "source": [
    "y_train_pred = bnb.predict(X_train)"
   ]
  },
  {
   "cell_type": "code",
   "execution_count": 115,
   "id": "badcb575",
   "metadata": {},
   "outputs": [
    {
     "data": {
      "text/plain": [
       "<sklearn.metrics._plot.confusion_matrix.ConfusionMatrixDisplay at 0x187397210>"
      ]
     },
     "execution_count": 115,
     "metadata": {},
     "output_type": "execute_result"
    },
    {
     "data": {
      "image/png": "[encoded data removed]",
      "text/plain": [
       "<Figure size 640x480 with 2 Axes>"
      ]
     },
     "metadata": {},
     "output_type": "display_data"
    }
   ],
   "source": [
    "cm_train = confusion_matrix(y_train, y_train_pred)\n",
    "\n",
    "disp = ConfusionMatrixDisplay(cm_train)\n",
    "disp.plot()"
   ]
  },
  {
   "cell_type": "code",
   "execution_count": 116,
   "id": "88875af3",
   "metadata": {},
   "outputs": [
    {
     "name": "stdout",
     "output_type": "stream",
     "text": [
      "accuracy:\t0.562\n",
      "sensitivity: \t0.620\n",
      "specificity: \t0.491\n",
      "kappa:    \t0.112\n"
     ]
    }
   ],
   "source": [
    "all_metrics(y_train,  y_train_pred)"
   ]
  },
  {
   "cell_type": "code",
   "execution_count": 117,
   "id": "064662cf",
   "metadata": {},
   "outputs": [],
   "source": [
    "y_test_pred = bnb.predict(X_test)"
   ]
  },
  {
   "cell_type": "code",
   "execution_count": 118,
   "id": "632e41a1",
   "metadata": {},
   "outputs": [
    {
     "data": {
      "text/plain": [
       "<sklearn.metrics._plot.confusion_matrix.ConfusionMatrixDisplay at 0x18721b390>"
      ]
     },
     "execution_count": 118,
     "metadata": {},
     "output_type": "execute_result"
    },
    {
     "data": {
      "image/png": "[encoded data removed]",
      "text/plain": [
       "<Figure size 640x480 with 2 Axes>"
      ]
     },
     "metadata": {},
     "output_type": "display_data"
    }
   ],
   "source": [
    "cm_test = confusion_matrix(y_test, y_test_pred)\n",
    "ConfusionMatrixDisplay(cm_test).plot()"
   ]
  },
  {
   "cell_type": "code",
   "execution_count": 119,
   "id": "e22ffa07",
   "metadata": {},
   "outputs": [
    {
     "name": "stdout",
     "output_type": "stream",
     "text": [
      "accuracy:\t0.563\n",
      "sensitivity: \t0.616\n",
      "specificity: \t0.499\n",
      "kappa:    \t0.115\n"
     ]
    }
   ],
   "source": [
    "all_metrics(y_test,  y_test_pred)"
   ]
  },
  {
   "cell_type": "markdown",
   "id": "5a7477d1",
   "metadata": {},
   "source": [
    "# Denver"
   ]
  },
  {
   "cell_type": "code",
   "execution_count": 4,
   "id": "1a3ef863",
   "metadata": {},
   "outputs": [
    {
     "data": {
      "text/plain": [
       "Index(['OFFENSE_CATEGORY_ID', 'INCIDENT_ADDRESS', 'GEO_X', 'GEO_Y',\n",
       "       'DISTRICT_ID', 'PRECINCT_ID', 'NEIGHBORHOOD_ID', 'year', 'month', 'day',\n",
       "       'hour', 'DayOfWeek', 'street', 'str', 'violent'],\n",
       "      dtype='object')"
      ]
     },
     "execution_count": 4,
     "metadata": {},
     "output_type": "execute_result"
    }
   ],
   "source": [
    "denver_data = pd.read_csv(\"../data/cleaned_data/denver.csv\")\n",
    "denver_data = denver_data.drop(columns = ['Unnamed: 0'])\n",
    "denver_data.columns"
   ]
  },
  {
   "cell_type": "code",
   "execution_count": null,
   "id": "3ef04eb4",
   "metadata": {},
   "outputs": [],
   "source": []
  },
  {
   "cell_type": "code",
   "execution_count": 33,
   "id": "bf68b540",
   "metadata": {},
   "outputs": [
    {
     "data": {
      "text/plain": [
       "GEO_X          float64\n",
       "GEO_Y          float64\n",
       "DISTRICT_ID     object\n",
       "year             int64\n",
       "month            int64\n",
       "day              int64\n",
       "hour             int64\n",
       "DayOfWeek        int64\n",
       "violent           bool\n",
       "dtype: object"
      ]
     },
     "execution_count": 33,
     "metadata": {},
     "output_type": "execute_result"
    }
   ],
   "source": [
    "data = denver_data.drop(columns=['OFFENSE_CATEGORY_ID', 'INCIDENT_ADDRESS', 'PRECINCT_ID', 'NEIGHBORHOOD_ID', \"street\", 'str'])\n",
    "data.dtypes"
   ]
  },
  {
   "cell_type": "code",
   "execution_count": 34,
   "id": "43e17804",
   "metadata": {},
   "outputs": [],
   "source": [
    "X_train, X_test, y_train, y_test = train_test_split(\n",
    "            pd.get_dummies(data.drop(columns=[\"violent\"])),\n",
    "            data[\"violent\"], \n",
    "            test_size=0.3, random_state=1)"
   ]
  },
  {
   "cell_type": "code",
   "execution_count": 35,
   "id": "4937ff1d",
   "metadata": {},
   "outputs": [
    {
     "data": {
      "text/plain": [
       "Index(['GEO_X', 'GEO_Y', 'year', 'month', 'day', 'hour', 'DayOfWeek',\n",
       "       'DISTRICT_ID_1', 'DISTRICT_ID_2', 'DISTRICT_ID_3', 'DISTRICT_ID_4',\n",
       "       'DISTRICT_ID_5', 'DISTRICT_ID_6', 'DISTRICT_ID_7', 'DISTRICT_ID_9',\n",
       "       'DISTRICT_ID_U'],\n",
       "      dtype='object')"
      ]
     },
     "execution_count": 35,
     "metadata": {},
     "output_type": "execute_result"
    }
   ],
   "source": [
    "X_train.columns"
   ]
  },
  {
   "cell_type": "code",
   "execution_count": 36,
   "id": "ddc0f15d",
   "metadata": {},
   "outputs": [
    {
     "data": {
      "text/html": [
       "<style>#sk-container-id-4 {color: black;background-color: white;}#sk-container-id-4 pre{padding: 0;}#sk-container-id-4 div.sk-toggleable {background-color: white;}#sk-container-id-4 label.sk-toggleable__label {cursor: pointer;display: block;width: 100%;margin-bottom: 0;padding: 0.3em;box-sizing: border-box;text-align: center;}#sk-container-id-4 label.sk-toggleable__label-arrow:before {content: \"▸\";float: left;margin-right: 0.25em;color: #696969;}#sk-container-id-4 label.sk-toggleable__label-arrow:hover:before {color: black;}#sk-container-id-4 div.sk-estimator:hover label.sk-toggleable__label-arrow:before {color: black;}#sk-container-id-4 div.sk-toggleable__content {max-height: 0;max-width: 0;overflow: hidden;text-align: left;background-color: #f0f8ff;}#sk-container-id-4 div.sk-toggleable__content pre {margin: 0.2em;color: black;border-radius: 0.25em;background-color: #f0f8ff;}#sk-container-id-4 input.sk-toggleable__control:checked~div.sk-toggleable__content {max-height: 200px;max-width: 100%;overflow: auto;}#sk-container-id-4 input.sk-toggleable__control:checked~label.sk-toggleable__label-arrow:before {content: \"▾\";}#sk-container-id-4 div.sk-estimator input.sk-toggleable__control:checked~label.sk-toggleable__label {background-color: #d4ebff;}#sk-container-id-4 div.sk-label input.sk-toggleable__control:checked~label.sk-toggleable__label {background-color: #d4ebff;}#sk-container-id-4 input.sk-hidden--visually {border: 0;clip: rect(1px 1px 1px 1px);clip: rect(1px, 1px, 1px, 1px);height: 1px;margin: -1px;overflow: hidden;padding: 0;position: absolute;width: 1px;}#sk-container-id-4 div.sk-estimator {font-family: monospace;background-color: #f0f8ff;border: 1px dotted black;border-radius: 0.25em;box-sizing: border-box;margin-bottom: 0.5em;}#sk-container-id-4 div.sk-estimator:hover {background-color: #d4ebff;}#sk-container-id-4 div.sk-parallel-item::after {content: \"\";width: 100%;border-bottom: 1px solid gray;flex-grow: 1;}#sk-container-id-4 div.sk-label:hover label.sk-toggleable__label {background-color: #d4ebff;}#sk-container-id-4 div.sk-serial::before {content: \"\";position: absolute;border-left: 1px solid gray;box-sizing: border-box;top: 0;bottom: 0;left: 50%;z-index: 0;}#sk-container-id-4 div.sk-serial {display: flex;flex-direction: column;align-items: center;background-color: white;padding-right: 0.2em;padding-left: 0.2em;position: relative;}#sk-container-id-4 div.sk-item {position: relative;z-index: 1;}#sk-container-id-4 div.sk-parallel {display: flex;align-items: stretch;justify-content: center;background-color: white;position: relative;}#sk-container-id-4 div.sk-item::before, #sk-container-id-4 div.sk-parallel-item::before {content: \"\";position: absolute;border-left: 1px solid gray;box-sizing: border-box;top: 0;bottom: 0;left: 50%;z-index: -1;}#sk-container-id-4 div.sk-parallel-item {display: flex;flex-direction: column;z-index: 1;position: relative;background-color: white;}#sk-container-id-4 div.sk-parallel-item:first-child::after {align-self: flex-end;width: 50%;}#sk-container-id-4 div.sk-parallel-item:last-child::after {align-self: flex-start;width: 50%;}#sk-container-id-4 div.sk-parallel-item:only-child::after {width: 0;}#sk-container-id-4 div.sk-dashed-wrapped {border: 1px dashed gray;margin: 0 0.4em 0.5em 0.4em;box-sizing: border-box;padding-bottom: 0.4em;background-color: white;}#sk-container-id-4 div.sk-label label {font-family: monospace;font-weight: bold;display: inline-block;line-height: 1.2em;}#sk-container-id-4 div.sk-label-container {text-align: center;}#sk-container-id-4 div.sk-container {/* jupyter's `normalize.less` sets `[hidden] { display: none; }` but bootstrap.min.css set `[hidden] { display: none !important; }` so we also need the `!important` here to be able to override the default hidden behavior on the sphinx rendered scikit-learn.org. See: https://github.com/scikit-learn/scikit-learn/issues/21755 */display: inline-block !important;position: relative;}#sk-container-id-4 div.sk-text-repr-fallback {display: none;}</style><div id=\"sk-container-id-4\" class=\"sk-top-container\"><div class=\"sk-text-repr-fallback\"><pre>GaussianNB()</pre><b>In a Jupyter environment, please rerun this cell to show the HTML representation or trust the notebook. <br />On GitHub, the HTML representation is unable to render, please try loading this page with nbviewer.org.</b></div><div class=\"sk-container\" hidden><div class=\"sk-item\"><div class=\"sk-estimator sk-toggleable\"><input class=\"sk-toggleable__control sk-hidden--visually\" id=\"sk-estimator-id-4\" type=\"checkbox\" checked><label for=\"sk-estimator-id-4\" class=\"sk-toggleable__label sk-toggleable__label-arrow\">GaussianNB</label><div class=\"sk-toggleable__content\"><pre>GaussianNB()</pre></div></div></div></div></div>"
      ],
      "text/plain": [
       "GaussianNB()"
      ]
     },
     "execution_count": 36,
     "metadata": {},
     "output_type": "execute_result"
    }
   ],
   "source": [
    "gnb = GaussianNB()\n",
    "gnb.fit(X_train, y_train)"
   ]
  },
  {
   "cell_type": "code",
   "execution_count": 42,
   "id": "527fda37",
   "metadata": {},
   "outputs": [
    {
     "data": {
      "text/plain": [
       "0"
      ]
     },
     "execution_count": 42,
     "metadata": {},
     "output_type": "execute_result"
    }
   ],
   "source": [
    "y_train_pred = gnb.predict(X_train)\n",
    "sum(y_train_pred)"
   ]
  },
  {
   "cell_type": "code",
   "execution_count": 43,
   "id": "aa523a22",
   "metadata": {},
   "outputs": [
    {
     "data": {
      "text/html": [
       "<style>#sk-container-id-5 {color: black;background-color: white;}#sk-container-id-5 pre{padding: 0;}#sk-container-id-5 div.sk-toggleable {background-color: white;}#sk-container-id-5 label.sk-toggleable__label {cursor: pointer;display: block;width: 100%;margin-bottom: 0;padding: 0.3em;box-sizing: border-box;text-align: center;}#sk-container-id-5 label.sk-toggleable__label-arrow:before {content: \"▸\";float: left;margin-right: 0.25em;color: #696969;}#sk-container-id-5 label.sk-toggleable__label-arrow:hover:before {color: black;}#sk-container-id-5 div.sk-estimator:hover label.sk-toggleable__label-arrow:before {color: black;}#sk-container-id-5 div.sk-toggleable__content {max-height: 0;max-width: 0;overflow: hidden;text-align: left;background-color: #f0f8ff;}#sk-container-id-5 div.sk-toggleable__content pre {margin: 0.2em;color: black;border-radius: 0.25em;background-color: #f0f8ff;}#sk-container-id-5 input.sk-toggleable__control:checked~div.sk-toggleable__content {max-height: 200px;max-width: 100%;overflow: auto;}#sk-container-id-5 input.sk-toggleable__control:checked~label.sk-toggleable__label-arrow:before {content: \"▾\";}#sk-container-id-5 div.sk-estimator input.sk-toggleable__control:checked~label.sk-toggleable__label {background-color: #d4ebff;}#sk-container-id-5 div.sk-label input.sk-toggleable__control:checked~label.sk-toggleable__label {background-color: #d4ebff;}#sk-container-id-5 input.sk-hidden--visually {border: 0;clip: rect(1px 1px 1px 1px);clip: rect(1px, 1px, 1px, 1px);height: 1px;margin: -1px;overflow: hidden;padding: 0;position: absolute;width: 1px;}#sk-container-id-5 div.sk-estimator {font-family: monospace;background-color: #f0f8ff;border: 1px dotted black;border-radius: 0.25em;box-sizing: border-box;margin-bottom: 0.5em;}#sk-container-id-5 div.sk-estimator:hover {background-color: #d4ebff;}#sk-container-id-5 div.sk-parallel-item::after {content: \"\";width: 100%;border-bottom: 1px solid gray;flex-grow: 1;}#sk-container-id-5 div.sk-label:hover label.sk-toggleable__label {background-color: #d4ebff;}#sk-container-id-5 div.sk-serial::before {content: \"\";position: absolute;border-left: 1px solid gray;box-sizing: border-box;top: 0;bottom: 0;left: 50%;z-index: 0;}#sk-container-id-5 div.sk-serial {display: flex;flex-direction: column;align-items: center;background-color: white;padding-right: 0.2em;padding-left: 0.2em;position: relative;}#sk-container-id-5 div.sk-item {position: relative;z-index: 1;}#sk-container-id-5 div.sk-parallel {display: flex;align-items: stretch;justify-content: center;background-color: white;position: relative;}#sk-container-id-5 div.sk-item::before, #sk-container-id-5 div.sk-parallel-item::before {content: \"\";position: absolute;border-left: 1px solid gray;box-sizing: border-box;top: 0;bottom: 0;left: 50%;z-index: -1;}#sk-container-id-5 div.sk-parallel-item {display: flex;flex-direction: column;z-index: 1;position: relative;background-color: white;}#sk-container-id-5 div.sk-parallel-item:first-child::after {align-self: flex-end;width: 50%;}#sk-container-id-5 div.sk-parallel-item:last-child::after {align-self: flex-start;width: 50%;}#sk-container-id-5 div.sk-parallel-item:only-child::after {width: 0;}#sk-container-id-5 div.sk-dashed-wrapped {border: 1px dashed gray;margin: 0 0.4em 0.5em 0.4em;box-sizing: border-box;padding-bottom: 0.4em;background-color: white;}#sk-container-id-5 div.sk-label label {font-family: monospace;font-weight: bold;display: inline-block;line-height: 1.2em;}#sk-container-id-5 div.sk-label-container {text-align: center;}#sk-container-id-5 div.sk-container {/* jupyter's `normalize.less` sets `[hidden] { display: none; }` but bootstrap.min.css set `[hidden] { display: none !important; }` so we also need the `!important` here to be able to override the default hidden behavior on the sphinx rendered scikit-learn.org. See: https://github.com/scikit-learn/scikit-learn/issues/21755 */display: inline-block !important;position: relative;}#sk-container-id-5 div.sk-text-repr-fallback {display: none;}</style><div id=\"sk-container-id-5\" class=\"sk-top-container\"><div class=\"sk-text-repr-fallback\"><pre>BernoulliNB()</pre><b>In a Jupyter environment, please rerun this cell to show the HTML representation or trust the notebook. <br />On GitHub, the HTML representation is unable to render, please try loading this page with nbviewer.org.</b></div><div class=\"sk-container\" hidden><div class=\"sk-item\"><div class=\"sk-estimator sk-toggleable\"><input class=\"sk-toggleable__control sk-hidden--visually\" id=\"sk-estimator-id-5\" type=\"checkbox\" checked><label for=\"sk-estimator-id-5\" class=\"sk-toggleable__label sk-toggleable__label-arrow\">BernoulliNB</label><div class=\"sk-toggleable__content\"><pre>BernoulliNB()</pre></div></div></div></div></div>"
      ],
      "text/plain": [
       "BernoulliNB()"
      ]
     },
     "execution_count": 43,
     "metadata": {},
     "output_type": "execute_result"
    }
   ],
   "source": [
    "bnb = BernoulliNB()\n",
    "bnb.fit(X_train, y_train)"
   ]
  },
  {
   "cell_type": "code",
   "execution_count": 44,
   "id": "9af31d8b",
   "metadata": {},
   "outputs": [
    {
     "data": {
      "text/plain": [
       "0"
      ]
     },
     "execution_count": 44,
     "metadata": {},
     "output_type": "execute_result"
    }
   ],
   "source": [
    "y_train_pred = bnb.predict(X_train)\n",
    "sum(y_train_pred)"
   ]
  },
  {
   "cell_type": "code",
   "execution_count": null,
   "id": "54e2b8ef",
   "metadata": {},
   "outputs": [],
   "source": []
  }
 ],
 "metadata": {
  "kernelspec": {
   "display_name": "Python 3 (ipykernel)",
   "language": "python",
   "name": "python3"
  },
  "language_info": {
   "codemirror_mode": {
    "name": "ipython",
    "version": 3
   },
   "file_extension": ".py",
   "mimetype": "text/x-python",
   "name": "python",
   "nbconvert_exporter": "python",
   "pygments_lexer": "ipython3",
   "version": "3.11.0"
  }
 },
 "nbformat": 4,
 "nbformat_minor": 5
}
